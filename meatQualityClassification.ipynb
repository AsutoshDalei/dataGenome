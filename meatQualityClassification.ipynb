{
 "cells": [
  {
   "cell_type": "markdown",
   "id": "ecb7592c-9907-4f69-bd53-a488a90e4ebf",
   "metadata": {},
   "source": [
    "# Rainbow Trout Meat Quality Classification using Genomic Data "
   ]
  },
  {
   "cell_type": "markdown",
   "id": "7756e56c-9c5f-49e0-9e0f-f02af3ea886f",
   "metadata": {},
   "source": [
    "## Imports"
   ]
  },
  {
   "cell_type": "code",
   "execution_count": 1,
   "id": "589a7885-2d9c-4933-8227-d49670ae6377",
   "metadata": {},
   "outputs": [
    {
     "data": {
      "application/javascript": [
       "IPython.notebook.set_autosave_interval(30000)"
      ]
     },
     "metadata": {},
     "output_type": "display_data"
    },
    {
     "name": "stdout",
     "output_type": "stream",
     "text": [
      "Autosaving every 30 seconds\n"
     ]
    }
   ],
   "source": [
    "import pandas as pd\n",
    "import numpy as np\n",
    "import matplotlib.pyplot as plt\n",
    "%matplotlib inline\n",
    "import seaborn as sns\n",
    "import os\n",
    "import json\n",
    "\n",
    "%autosave 30"
   ]
  },
  {
   "cell_type": "code",
   "execution_count": 2,
   "id": "8a3a70ec-e620-4b9c-bc4b-e2d18ed4e206",
   "metadata": {},
   "outputs": [],
   "source": [
    "import warnings\n",
    "warnings.filterwarnings(\"ignore\")"
   ]
  },
  {
   "cell_type": "markdown",
   "id": "a59090f8-5a74-4e61-bc53-ca8e8fbdef1d",
   "metadata": {},
   "source": [
    "## Meta Data Creation"
   ]
  },
  {
   "cell_type": "code",
   "execution_count": 3,
   "id": "630fbb77-38b6-4c3e-bf37-d974d1d21a4f",
   "metadata": {},
   "outputs": [],
   "source": [
    "# %%time\n",
    "# metadf_init = pd.read_excel(\"./data/GeneExpressionData/Meta_data.xlsx\", usecols=['genetic line','Orso_Id'])\n",
    "# print(f\"Initial Dataframe Size:{metadf_init.shape}\")\n",
    "\n",
    "# #Dropping rows with NaN values.\n",
    "# metadf_init.dropna(inplace=True)\n",
    "# print(f\"Dataframe Size post cleaning:{metadf_init.shape}\")\n",
    "# metadf_init.head()"
   ]
  },
  {
   "cell_type": "code",
   "execution_count": 4,
   "id": "59606096-3859-4b54-b52e-8b7b406fa33b",
   "metadata": {},
   "outputs": [],
   "source": [
    "# def processRows(row):\n",
    "#     geneLine, fishId = row['genetic line'].split('-')[-1], row['Orso_Id'].split('_')[-1]\n",
    "#     # print(geneLine, fishId)\n",
    "#     return pd.Series(data = [f\"F{fishId}\", 'high' if geneLine=='H' else 'low'], index=['FishID', 'GeneLine'])\n",
    "\n",
    "# metadf_init.apply(processRows, axis=1).to_csv(\"./metaFishData.csv\", index=False)"
   ]
  },
  {
   "cell_type": "markdown",
   "id": "e1cb27cf-44c0-4834-9208-efe6d3c3ce89",
   "metadata": {},
   "source": [
    "## Meta Data"
   ]
  },
  {
   "cell_type": "code",
   "execution_count": 5,
   "id": "56940095-f0cf-45b8-81db-3d05789eadf2",
   "metadata": {},
   "outputs": [
    {
     "data": {
      "text/html": [
       "<div>\n",
       "<style scoped>\n",
       "    .dataframe tbody tr th:only-of-type {\n",
       "        vertical-align: middle;\n",
       "    }\n",
       "\n",
       "    .dataframe tbody tr th {\n",
       "        vertical-align: top;\n",
       "    }\n",
       "\n",
       "    .dataframe thead th {\n",
       "        text-align: right;\n",
       "    }\n",
       "</style>\n",
       "<table border=\"1\" class=\"dataframe\">\n",
       "  <thead>\n",
       "    <tr style=\"text-align: right;\">\n",
       "      <th></th>\n",
       "      <th>FishID</th>\n",
       "      <th>GeneLine</th>\n",
       "    </tr>\n",
       "  </thead>\n",
       "  <tbody>\n",
       "    <tr>\n",
       "      <th>0</th>\n",
       "      <td>F75</td>\n",
       "      <td>high</td>\n",
       "    </tr>\n",
       "    <tr>\n",
       "      <th>1</th>\n",
       "      <td>F66</td>\n",
       "      <td>low</td>\n",
       "    </tr>\n",
       "    <tr>\n",
       "      <th>2</th>\n",
       "      <td>F76</td>\n",
       "      <td>high</td>\n",
       "    </tr>\n",
       "    <tr>\n",
       "      <th>3</th>\n",
       "      <td>F72</td>\n",
       "      <td>low</td>\n",
       "    </tr>\n",
       "    <tr>\n",
       "      <th>4</th>\n",
       "      <td>F78</td>\n",
       "      <td>high</td>\n",
       "    </tr>\n",
       "  </tbody>\n",
       "</table>\n",
       "</div>"
      ],
      "text/plain": [
       "  FishID GeneLine\n",
       "0    F75     high\n",
       "1    F66      low\n",
       "2    F76     high\n",
       "3    F72      low\n",
       "4    F78     high"
      ]
     },
     "execution_count": 5,
     "metadata": {},
     "output_type": "execute_result"
    }
   ],
   "source": [
    "metadf = pd.read_csv(\"./metaFishData.csv\")\n",
    "metadf.head()"
   ]
  },
  {
   "cell_type": "code",
   "execution_count": 6,
   "id": "2ef45489-3cd6-4896-b7c2-2ddb9898dd93",
   "metadata": {},
   "outputs": [
    {
     "data": {
      "text/plain": [
       "GeneLine\n",
       "high    0.504298\n",
       "low     0.495702\n",
       "Name: proportion, dtype: float64"
      ]
     },
     "execution_count": 6,
     "metadata": {},
     "output_type": "execute_result"
    }
   ],
   "source": [
    "metadf['GeneLine'].value_counts(normalize=True)"
   ]
  },
  {
   "cell_type": "markdown",
   "id": "054c4a99-8642-4980-ab87-74b6266950cf",
   "metadata": {},
   "source": [
    "## Metaphlan Profile"
   ]
  },
  {
   "cell_type": "code",
   "execution_count": 7,
   "id": "409f8599-f9cd-4886-8025-d06d640186dc",
   "metadata": {
    "scrolled": true
   },
   "outputs": [
    {
     "name": "stdout",
     "output_type": "stream",
     "text": [
      "Metaphlan Profile Data Shape: (1567, 352)\n",
      "CPU times: total: 578 ms\n",
      "Wall time: 589 ms\n"
     ]
    },
    {
     "data": {
      "text/html": [
       "<div>\n",
       "<style scoped>\n",
       "    .dataframe tbody tr th:only-of-type {\n",
       "        vertical-align: middle;\n",
       "    }\n",
       "\n",
       "    .dataframe tbody tr th {\n",
       "        vertical-align: top;\n",
       "    }\n",
       "\n",
       "    .dataframe thead th {\n",
       "        text-align: right;\n",
       "    }\n",
       "</style>\n",
       "<table border=\"1\" class=\"dataframe\">\n",
       "  <thead>\n",
       "    <tr style=\"text-align: right;\">\n",
       "      <th></th>\n",
       "      <th>clade_name</th>\n",
       "      <th>F100</th>\n",
       "      <th>F101</th>\n",
       "      <th>F102</th>\n",
       "      <th>F103</th>\n",
       "      <th>F104</th>\n",
       "      <th>F105</th>\n",
       "      <th>F106</th>\n",
       "      <th>F107</th>\n",
       "      <th>F108</th>\n",
       "      <th>...</th>\n",
       "      <th>F91</th>\n",
       "      <th>F92</th>\n",
       "      <th>F93</th>\n",
       "      <th>F94</th>\n",
       "      <th>F95</th>\n",
       "      <th>F96</th>\n",
       "      <th>F97</th>\n",
       "      <th>F98</th>\n",
       "      <th>F99</th>\n",
       "      <th>F9</th>\n",
       "    </tr>\n",
       "  </thead>\n",
       "  <tbody>\n",
       "    <tr>\n",
       "      <th>1</th>\n",
       "      <td>k__Bacteria</td>\n",
       "      <td>100.0</td>\n",
       "      <td>99.97197</td>\n",
       "      <td>100.0</td>\n",
       "      <td>100.0</td>\n",
       "      <td>100.0</td>\n",
       "      <td>99.99576</td>\n",
       "      <td>99.98729</td>\n",
       "      <td>100.0</td>\n",
       "      <td>100.0</td>\n",
       "      <td>...</td>\n",
       "      <td>100.0</td>\n",
       "      <td>100.0</td>\n",
       "      <td>99.99293</td>\n",
       "      <td>100.0</td>\n",
       "      <td>100.0</td>\n",
       "      <td>100.0</td>\n",
       "      <td>100.0</td>\n",
       "      <td>100.0</td>\n",
       "      <td>100.0</td>\n",
       "      <td>99.99385</td>\n",
       "    </tr>\n",
       "    <tr>\n",
       "      <th>2</th>\n",
       "      <td>k__Bacteria|p__Proteobacteria</td>\n",
       "      <td>96.23163</td>\n",
       "      <td>1.28278</td>\n",
       "      <td>2.46132</td>\n",
       "      <td>4.19295</td>\n",
       "      <td>0.61851</td>\n",
       "      <td>0.09897</td>\n",
       "      <td>7.26275</td>\n",
       "      <td>0.26161</td>\n",
       "      <td>4.19682</td>\n",
       "      <td>...</td>\n",
       "      <td>12.66281</td>\n",
       "      <td>0.96307</td>\n",
       "      <td>18.82358</td>\n",
       "      <td>0.32609</td>\n",
       "      <td>0.02745</td>\n",
       "      <td>0.0</td>\n",
       "      <td>44.74296</td>\n",
       "      <td>0.15063</td>\n",
       "      <td>0.0</td>\n",
       "      <td>0.66998</td>\n",
       "    </tr>\n",
       "    <tr>\n",
       "      <th>3</th>\n",
       "      <td>k__Bacteria|p__Fusobacteria</td>\n",
       "      <td>1.90922</td>\n",
       "      <td>0.02158</td>\n",
       "      <td>96.92149</td>\n",
       "      <td>0.24615</td>\n",
       "      <td>91.75045</td>\n",
       "      <td>0.10025</td>\n",
       "      <td>0.05683</td>\n",
       "      <td>43.08036</td>\n",
       "      <td>95.27552</td>\n",
       "      <td>...</td>\n",
       "      <td>82.35353</td>\n",
       "      <td>98.30658</td>\n",
       "      <td>79.81764</td>\n",
       "      <td>36.31168</td>\n",
       "      <td>99.72513</td>\n",
       "      <td>1.57367</td>\n",
       "      <td>17.83804</td>\n",
       "      <td>98.75345</td>\n",
       "      <td>97.18932</td>\n",
       "      <td>79.67032</td>\n",
       "    </tr>\n",
       "    <tr>\n",
       "      <th>4</th>\n",
       "      <td>k__Bacteria|p__Firmicutes</td>\n",
       "      <td>1.85915</td>\n",
       "      <td>97.78226</td>\n",
       "      <td>0.4784</td>\n",
       "      <td>87.89138</td>\n",
       "      <td>6.77893</td>\n",
       "      <td>80.14233</td>\n",
       "      <td>92.20322</td>\n",
       "      <td>56.095</td>\n",
       "      <td>0.52766</td>\n",
       "      <td>...</td>\n",
       "      <td>4.60755</td>\n",
       "      <td>0.63897</td>\n",
       "      <td>1.25554</td>\n",
       "      <td>61.489</td>\n",
       "      <td>0.1855</td>\n",
       "      <td>98.42633</td>\n",
       "      <td>34.07137</td>\n",
       "      <td>1.09592</td>\n",
       "      <td>2.81068</td>\n",
       "      <td>18.22957</td>\n",
       "    </tr>\n",
       "    <tr>\n",
       "      <th>5</th>\n",
       "      <td>k__Bacteria|p__Proteobacteria|c__Gammaproteoba...</td>\n",
       "      <td>95.58687</td>\n",
       "      <td>0.0</td>\n",
       "      <td>1.11736</td>\n",
       "      <td>0.05299</td>\n",
       "      <td>0.0497</td>\n",
       "      <td>0.0</td>\n",
       "      <td>0.00083</td>\n",
       "      <td>0.0</td>\n",
       "      <td>2.79746</td>\n",
       "      <td>...</td>\n",
       "      <td>11.30934</td>\n",
       "      <td>0.37437</td>\n",
       "      <td>18.81727</td>\n",
       "      <td>0.06843</td>\n",
       "      <td>0.0</td>\n",
       "      <td>0.0</td>\n",
       "      <td>44.66672</td>\n",
       "      <td>0.15063</td>\n",
       "      <td>0.0</td>\n",
       "      <td>0.56759</td>\n",
       "    </tr>\n",
       "  </tbody>\n",
       "</table>\n",
       "<p>5 rows × 352 columns</p>\n",
       "</div>"
      ],
      "text/plain": [
       "0                                         clade_name      F100      F101  \\\n",
       "1                                        k__Bacteria     100.0  99.97197   \n",
       "2                      k__Bacteria|p__Proteobacteria  96.23163   1.28278   \n",
       "3                        k__Bacteria|p__Fusobacteria   1.90922   0.02158   \n",
       "4                          k__Bacteria|p__Firmicutes   1.85915  97.78226   \n",
       "5  k__Bacteria|p__Proteobacteria|c__Gammaproteoba...  95.58687       0.0   \n",
       "\n",
       "0      F102      F103      F104      F105      F106      F107      F108  ...  \\\n",
       "1     100.0     100.0     100.0  99.99576  99.98729     100.0     100.0  ...   \n",
       "2   2.46132   4.19295   0.61851   0.09897   7.26275   0.26161   4.19682  ...   \n",
       "3  96.92149   0.24615  91.75045   0.10025   0.05683  43.08036  95.27552  ...   \n",
       "4    0.4784  87.89138   6.77893  80.14233  92.20322    56.095   0.52766  ...   \n",
       "5   1.11736   0.05299    0.0497       0.0   0.00083       0.0   2.79746  ...   \n",
       "\n",
       "0       F91       F92       F93       F94       F95       F96       F97  \\\n",
       "1     100.0     100.0  99.99293     100.0     100.0     100.0     100.0   \n",
       "2  12.66281   0.96307  18.82358   0.32609   0.02745       0.0  44.74296   \n",
       "3  82.35353  98.30658  79.81764  36.31168  99.72513   1.57367  17.83804   \n",
       "4   4.60755   0.63897   1.25554    61.489    0.1855  98.42633  34.07137   \n",
       "5  11.30934   0.37437  18.81727   0.06843       0.0       0.0  44.66672   \n",
       "\n",
       "0       F98       F99        F9  \n",
       "1     100.0     100.0  99.99385  \n",
       "2   0.15063       0.0   0.66998  \n",
       "3  98.75345  97.18932  79.67032  \n",
       "4   1.09592   2.81068  18.22957  \n",
       "5   0.15063       0.0   0.56759  \n",
       "\n",
       "[5 rows x 352 columns]"
      ]
     },
     "execution_count": 7,
     "metadata": {},
     "output_type": "execute_result"
    }
   ],
   "source": [
    "%%time\n",
    "mp_df = pd.read_csv(\"./data/GeneExpressionData/merged_metaphlan_profile.tsv\", sep='\\t', header=0).reset_index()\n",
    "print(f\"Metaphlan Profile Data Shape: {mp_df.shape}\")\n",
    "\n",
    "#Generating consistent Fish Identification Marking\n",
    "fishIdentifierFnx = lambda row: f'F{row.split(\"_\")[3]}'\n",
    "mp_df.iloc[0, 1:] = mp_df.iloc[0, 1:].apply(fishIdentifierFnx)\n",
    "\n",
    "#Setting Column Names to the fish identification markings\n",
    "mp_df.columns = mp_df.iloc[0]\n",
    "mp_df.drop(mp_df.index[0], inplace=True)\n",
    "mp_df.head()"
   ]
  },
  {
   "cell_type": "markdown",
   "id": "01dd29fb-836d-448b-8d66-bd0eb619ba4d",
   "metadata": {},
   "source": [
    "## Clade Family"
   ]
  },
  {
   "cell_type": "code",
   "execution_count": 8,
   "id": "321ea530-9c9f-4627-af74-8d9b2c1b95b2",
   "metadata": {},
   "outputs": [],
   "source": [
    "from treelib import Node, Tree"
   ]
  },
  {
   "cell_type": "code",
   "execution_count": 9,
   "id": "51253b7f-3a1c-4243-9323-1b50e3046469",
   "metadata": {},
   "outputs": [
    {
     "data": {
      "text/plain": [
       "clade_name\n",
       "8    560\n",
       "7    539\n",
       "6    260\n",
       "5    101\n",
       "4     54\n",
       "3     37\n",
       "2     11\n",
       "1      4\n",
       "Name: count, dtype: int64"
      ]
     },
     "execution_count": 9,
     "metadata": {},
     "output_type": "execute_result"
    }
   ],
   "source": [
    "clade = mp_df.iloc[:, 0]\n",
    "\n",
    "cladeFnxLambda = lambda row: len(row.split('|'))\n",
    "clade.apply(cladeFnxLambda).value_counts()"
   ]
  },
  {
   "cell_type": "code",
   "execution_count": 10,
   "id": "d68763bd-d23f-46d5-bf31-9c552cecab72",
   "metadata": {},
   "outputs": [],
   "source": [
    "# cladeFnxLambda = lambda row: row.split('|')\n",
    "# clade.apply(cladeFnxLambda).value_counts()"
   ]
  },
  {
   "cell_type": "code",
   "execution_count": 23,
   "id": "027c204c-c2d3-4685-9d28-f3afb61d6fe9",
   "metadata": {},
   "outputs": [
    {
     "name": "stdout",
     "output_type": "stream",
     "text": [
      "Depth of tree: 8\n",
      "CPU times: total: 31.2 ms\n",
      "Wall time: 21.5 ms\n"
     ]
    }
   ],
   "source": [
    "%%time\n",
    "tree = Tree()\n",
    "tree.create_node('Main', 'main')\n",
    "def cladeFnxTree(row):\n",
    "    row = row.split('|')\n",
    "    if len(row)==1:\n",
    "        tree.create_node(row[0], row[0], parent='main')\n",
    "    else:\n",
    "        tree.create_node(row[-1], row[-1], parent=row[-2])\n",
    "             \n",
    "_ = clade.apply(cladeFnxTree)\n",
    "\n",
    "print(\"Depth of tree:\", tree.depth())\n",
    "# tree.show()      "
   ]
  },
  {
   "cell_type": "code",
   "execution_count": 60,
   "id": "280aee90-992a-48b9-a9f8-6117fdff643a",
   "metadata": {},
   "outputs": [],
   "source": [
    "treeFamily = json.loads(tree.to_json(with_data=False))"
   ]
  },
  {
   "cell_type": "code",
   "execution_count": 64,
   "id": "51ad2650-9555-4900-a2a4-decf9c0db753",
   "metadata": {},
   "outputs": [],
   "source": [
    "familyMap = {f'level{r}':[] for r in range(0,8)}\n",
    "\n",
    "def cladeFnx(row):\n",
    "    row = row.split('|')\n",
    "    i = 0\n",
    "    for rw in row:\n",
    "        familyMap[f'level{i}'].append(rw)\n",
    "        i+=1\n",
    "    while i<8:\n",
    "        familyMap[f'level{i}'].append(None)\n",
    "        i+=1\n",
    "\n",
    "_ = clade.apply(cladeFnx)"
   ]
  },
  {
   "cell_type": "code",
   "execution_count": null,
   "id": "aa47cb78-6653-4614-891a-187e3a91ecaa",
   "metadata": {},
   "outputs": [],
   "source": []
  },
  {
   "cell_type": "code",
   "execution_count": 65,
   "id": "4b214df9-65d6-41f6-813b-88d9e6a7c500",
   "metadata": {
    "scrolled": true
   },
   "outputs": [
    {
     "name": "stdout",
     "output_type": "stream",
     "text": [
      "(1566, 8) (1566, 352)\n"
     ]
    }
   ],
   "source": [
    "print(pd.DataFrame(familyMap).shape, mp_df.shape)\n",
    "# pd.concat([mp_df.reset_index(drop=True), pd.DataFrame(familyMap).reset_index(drop=True)], axis=1, ignore_index=True)"
   ]
  },
  {
   "cell_type": "code",
   "execution_count": 66,
   "id": "59342fe4-c87c-450b-8587-d5483c561b71",
   "metadata": {},
   "outputs": [],
   "source": [
    "for i in familyMap:\n",
    "    familyMap[i] = set(familyMap[i])\n",
    "# hmap\n",
    "\n",
    "familyMapRev = {}\n",
    "for i in familyMap:\n",
    "    for j in familyMap[i]:\n",
    "        familyMapRev[j] = i\n",
    "# hmapRev"
   ]
  },
  {
   "cell_type": "markdown",
   "id": "c4cea046-0d8b-49fb-8407-9069052d8b5b",
   "metadata": {},
   "source": [
    "## Initial Exploration"
   ]
  },
  {
   "cell_type": "code",
   "execution_count": 125,
   "id": "853feaf1-7646-4daa-a6e6-6a1f9daddc18",
   "metadata": {},
   "outputs": [
    {
     "name": "stdout",
     "output_type": "stream",
     "text": [
      "(351, 1567)\n"
     ]
    }
   ],
   "source": [
    "mp_fin = mp_df.set_index('clade_name').T\n",
    "mp_fin = mp_fin.apply(pd.to_numeric, downcast='float')\n",
    "\n",
    "mp_fin = pd.merge(left=mp_fin, right=metadf, left_index=True, right_on='FishID', how='outer').drop('FishID', axis=1)\n",
    "print(mp_fin.shape)"
   ]
  },
  {
   "cell_type": "code",
   "execution_count": 126,
   "id": "2266a205-8367-40b1-ab62-888c249eb8d1",
   "metadata": {},
   "outputs": [
    {
     "data": {
      "text/html": [
       "<div>\n",
       "<style scoped>\n",
       "    .dataframe tbody tr th:only-of-type {\n",
       "        vertical-align: middle;\n",
       "    }\n",
       "\n",
       "    .dataframe tbody tr th {\n",
       "        vertical-align: top;\n",
       "    }\n",
       "\n",
       "    .dataframe thead th {\n",
       "        text-align: right;\n",
       "    }\n",
       "</style>\n",
       "<table border=\"1\" class=\"dataframe\">\n",
       "  <thead>\n",
       "    <tr style=\"text-align: right;\">\n",
       "      <th></th>\n",
       "      <th>k__Bacteria</th>\n",
       "      <th>k__Bacteria|p__Proteobacteria</th>\n",
       "      <th>k__Bacteria|p__Fusobacteria</th>\n",
       "      <th>k__Bacteria|p__Firmicutes</th>\n",
       "      <th>k__Bacteria|p__Proteobacteria|c__Gammaproteobacteria</th>\n",
       "      <th>k__Bacteria|p__Fusobacteria|c__Fusobacteriia</th>\n",
       "      <th>k__Bacteria|p__Firmicutes|c__Bacilli</th>\n",
       "      <th>k__Bacteria|p__Firmicutes|c__Clostridia</th>\n",
       "      <th>k__Bacteria|p__Proteobacteria|c__Betaproteobacteria</th>\n",
       "      <th>k__Bacteria|p__Firmicutes|c__Tissierellia</th>\n",
       "      <th>...</th>\n",
       "      <th>k__Bacteria|p__Actinobacteria|c__Actinomycetia|o__Micrococcales|f__Micrococcaceae|g__Kocuria|s__Kocuria_rhizophila</th>\n",
       "      <th>k__Bacteria|p__Actinobacteria|c__Actinomycetia|o__Micrococcales|f__Micrococcaceae|g__Kocuria|s__Kocuria_rhizophila|t__SGB16671</th>\n",
       "      <th>k__Eukaryota|p__Basidiomycota</th>\n",
       "      <th>k__Eukaryota|p__Basidiomycota|c__Malasseziomycetes</th>\n",
       "      <th>k__Eukaryota|p__Basidiomycota|c__Malasseziomycetes|o__Malasseziales</th>\n",
       "      <th>k__Eukaryota|p__Basidiomycota|c__Malasseziomycetes|o__Malasseziales|f__Malasseziaceae</th>\n",
       "      <th>k__Eukaryota|p__Basidiomycota|c__Malasseziomycetes|o__Malasseziales|f__Malasseziaceae|g__Malassezia</th>\n",
       "      <th>k__Eukaryota|p__Basidiomycota|c__Malasseziomycetes|o__Malasseziales|f__Malasseziaceae|g__Malassezia|s__Malassezia_restricta</th>\n",
       "      <th>k__Eukaryota|p__Basidiomycota|c__Malasseziomycetes|o__Malasseziales|f__Malasseziaceae|g__Malassezia|s__Malassezia_restricta|t__EUK76775</th>\n",
       "      <th>GeneLine</th>\n",
       "    </tr>\n",
       "  </thead>\n",
       "  <tbody>\n",
       "    <tr>\n",
       "      <th>57.0</th>\n",
       "      <td>100.00000</td>\n",
       "      <td>0.312310</td>\n",
       "      <td>99.515503</td>\n",
       "      <td>0.108130</td>\n",
       "      <td>0.035610</td>\n",
       "      <td>99.515503</td>\n",
       "      <td>0.032170</td>\n",
       "      <td>0.07596</td>\n",
       "      <td>0.27646</td>\n",
       "      <td>0.00000</td>\n",
       "      <td>...</td>\n",
       "      <td>0.0</td>\n",
       "      <td>0.0</td>\n",
       "      <td>0.0</td>\n",
       "      <td>0.0</td>\n",
       "      <td>0.0</td>\n",
       "      <td>0.0</td>\n",
       "      <td>0.0</td>\n",
       "      <td>0.0</td>\n",
       "      <td>0.0</td>\n",
       "      <td>high</td>\n",
       "    </tr>\n",
       "    <tr>\n",
       "      <th>149.0</th>\n",
       "      <td>100.00000</td>\n",
       "      <td>11.638740</td>\n",
       "      <td>0.000000</td>\n",
       "      <td>87.405212</td>\n",
       "      <td>11.550730</td>\n",
       "      <td>0.000000</td>\n",
       "      <td>74.730431</td>\n",
       "      <td>12.64867</td>\n",
       "      <td>0.08801</td>\n",
       "      <td>0.02610</td>\n",
       "      <td>...</td>\n",
       "      <td>0.0</td>\n",
       "      <td>0.0</td>\n",
       "      <td>0.0</td>\n",
       "      <td>0.0</td>\n",
       "      <td>0.0</td>\n",
       "      <td>0.0</td>\n",
       "      <td>0.0</td>\n",
       "      <td>0.0</td>\n",
       "      <td>0.0</td>\n",
       "      <td>high</td>\n",
       "    </tr>\n",
       "    <tr>\n",
       "      <th>181.0</th>\n",
       "      <td>100.00000</td>\n",
       "      <td>96.231628</td>\n",
       "      <td>1.909220</td>\n",
       "      <td>1.859150</td>\n",
       "      <td>95.586868</td>\n",
       "      <td>1.909220</td>\n",
       "      <td>1.114860</td>\n",
       "      <td>0.74234</td>\n",
       "      <td>0.64476</td>\n",
       "      <td>0.00196</td>\n",
       "      <td>...</td>\n",
       "      <td>0.0</td>\n",
       "      <td>0.0</td>\n",
       "      <td>0.0</td>\n",
       "      <td>0.0</td>\n",
       "      <td>0.0</td>\n",
       "      <td>0.0</td>\n",
       "      <td>0.0</td>\n",
       "      <td>0.0</td>\n",
       "      <td>0.0</td>\n",
       "      <td>high</td>\n",
       "    </tr>\n",
       "    <tr>\n",
       "      <th>209.0</th>\n",
       "      <td>99.97197</td>\n",
       "      <td>1.282780</td>\n",
       "      <td>0.021580</td>\n",
       "      <td>97.782257</td>\n",
       "      <td>0.000000</td>\n",
       "      <td>0.021580</td>\n",
       "      <td>68.893913</td>\n",
       "      <td>27.90214</td>\n",
       "      <td>1.28278</td>\n",
       "      <td>0.60573</td>\n",
       "      <td>...</td>\n",
       "      <td>0.0</td>\n",
       "      <td>0.0</td>\n",
       "      <td>0.0</td>\n",
       "      <td>0.0</td>\n",
       "      <td>0.0</td>\n",
       "      <td>0.0</td>\n",
       "      <td>0.0</td>\n",
       "      <td>0.0</td>\n",
       "      <td>0.0</td>\n",
       "      <td>high</td>\n",
       "    </tr>\n",
       "    <tr>\n",
       "      <th>246.0</th>\n",
       "      <td>100.00000</td>\n",
       "      <td>2.461320</td>\n",
       "      <td>96.921494</td>\n",
       "      <td>0.478400</td>\n",
       "      <td>1.117360</td>\n",
       "      <td>96.921494</td>\n",
       "      <td>0.320890</td>\n",
       "      <td>0.15752</td>\n",
       "      <td>1.34395</td>\n",
       "      <td>0.00000</td>\n",
       "      <td>...</td>\n",
       "      <td>0.0</td>\n",
       "      <td>0.0</td>\n",
       "      <td>0.0</td>\n",
       "      <td>0.0</td>\n",
       "      <td>0.0</td>\n",
       "      <td>0.0</td>\n",
       "      <td>0.0</td>\n",
       "      <td>0.0</td>\n",
       "      <td>0.0</td>\n",
       "      <td>high</td>\n",
       "    </tr>\n",
       "  </tbody>\n",
       "</table>\n",
       "<p>5 rows × 1567 columns</p>\n",
       "</div>"
      ],
      "text/plain": [
       "       k__Bacteria  k__Bacteria|p__Proteobacteria  \\\n",
       "57.0     100.00000                       0.312310   \n",
       "149.0    100.00000                      11.638740   \n",
       "181.0    100.00000                      96.231628   \n",
       "209.0     99.97197                       1.282780   \n",
       "246.0    100.00000                       2.461320   \n",
       "\n",
       "       k__Bacteria|p__Fusobacteria  k__Bacteria|p__Firmicutes  \\\n",
       "57.0                     99.515503                   0.108130   \n",
       "149.0                     0.000000                  87.405212   \n",
       "181.0                     1.909220                   1.859150   \n",
       "209.0                     0.021580                  97.782257   \n",
       "246.0                    96.921494                   0.478400   \n",
       "\n",
       "       k__Bacteria|p__Proteobacteria|c__Gammaproteobacteria  \\\n",
       "57.0                                            0.035610      \n",
       "149.0                                          11.550730      \n",
       "181.0                                          95.586868      \n",
       "209.0                                           0.000000      \n",
       "246.0                                           1.117360      \n",
       "\n",
       "       k__Bacteria|p__Fusobacteria|c__Fusobacteriia  \\\n",
       "57.0                                      99.515503   \n",
       "149.0                                      0.000000   \n",
       "181.0                                      1.909220   \n",
       "209.0                                      0.021580   \n",
       "246.0                                     96.921494   \n",
       "\n",
       "       k__Bacteria|p__Firmicutes|c__Bacilli  \\\n",
       "57.0                               0.032170   \n",
       "149.0                             74.730431   \n",
       "181.0                              1.114860   \n",
       "209.0                             68.893913   \n",
       "246.0                              0.320890   \n",
       "\n",
       "       k__Bacteria|p__Firmicutes|c__Clostridia  \\\n",
       "57.0                                   0.07596   \n",
       "149.0                                 12.64867   \n",
       "181.0                                  0.74234   \n",
       "209.0                                 27.90214   \n",
       "246.0                                  0.15752   \n",
       "\n",
       "       k__Bacteria|p__Proteobacteria|c__Betaproteobacteria  \\\n",
       "57.0                                             0.27646     \n",
       "149.0                                            0.08801     \n",
       "181.0                                            0.64476     \n",
       "209.0                                            1.28278     \n",
       "246.0                                            1.34395     \n",
       "\n",
       "       k__Bacteria|p__Firmicutes|c__Tissierellia  ...  \\\n",
       "57.0                                     0.00000  ...   \n",
       "149.0                                    0.02610  ...   \n",
       "181.0                                    0.00196  ...   \n",
       "209.0                                    0.60573  ...   \n",
       "246.0                                    0.00000  ...   \n",
       "\n",
       "       k__Bacteria|p__Actinobacteria|c__Actinomycetia|o__Micrococcales|f__Micrococcaceae|g__Kocuria|s__Kocuria_rhizophila  \\\n",
       "57.0                                                 0.0                                                                    \n",
       "149.0                                                0.0                                                                    \n",
       "181.0                                                0.0                                                                    \n",
       "209.0                                                0.0                                                                    \n",
       "246.0                                                0.0                                                                    \n",
       "\n",
       "       k__Bacteria|p__Actinobacteria|c__Actinomycetia|o__Micrococcales|f__Micrococcaceae|g__Kocuria|s__Kocuria_rhizophila|t__SGB16671  \\\n",
       "57.0                                                 0.0                                                                                \n",
       "149.0                                                0.0                                                                                \n",
       "181.0                                                0.0                                                                                \n",
       "209.0                                                0.0                                                                                \n",
       "246.0                                                0.0                                                                                \n",
       "\n",
       "       k__Eukaryota|p__Basidiomycota  \\\n",
       "57.0                             0.0   \n",
       "149.0                            0.0   \n",
       "181.0                            0.0   \n",
       "209.0                            0.0   \n",
       "246.0                            0.0   \n",
       "\n",
       "       k__Eukaryota|p__Basidiomycota|c__Malasseziomycetes  \\\n",
       "57.0                                                 0.0    \n",
       "149.0                                                0.0    \n",
       "181.0                                                0.0    \n",
       "209.0                                                0.0    \n",
       "246.0                                                0.0    \n",
       "\n",
       "       k__Eukaryota|p__Basidiomycota|c__Malasseziomycetes|o__Malasseziales  \\\n",
       "57.0                                                 0.0                     \n",
       "149.0                                                0.0                     \n",
       "181.0                                                0.0                     \n",
       "209.0                                                0.0                     \n",
       "246.0                                                0.0                     \n",
       "\n",
       "       k__Eukaryota|p__Basidiomycota|c__Malasseziomycetes|o__Malasseziales|f__Malasseziaceae  \\\n",
       "57.0                                                 0.0                                       \n",
       "149.0                                                0.0                                       \n",
       "181.0                                                0.0                                       \n",
       "209.0                                                0.0                                       \n",
       "246.0                                                0.0                                       \n",
       "\n",
       "       k__Eukaryota|p__Basidiomycota|c__Malasseziomycetes|o__Malasseziales|f__Malasseziaceae|g__Malassezia  \\\n",
       "57.0                                                 0.0                                                     \n",
       "149.0                                                0.0                                                     \n",
       "181.0                                                0.0                                                     \n",
       "209.0                                                0.0                                                     \n",
       "246.0                                                0.0                                                     \n",
       "\n",
       "       k__Eukaryota|p__Basidiomycota|c__Malasseziomycetes|o__Malasseziales|f__Malasseziaceae|g__Malassezia|s__Malassezia_restricta  \\\n",
       "57.0                                                 0.0                                                                             \n",
       "149.0                                                0.0                                                                             \n",
       "181.0                                                0.0                                                                             \n",
       "209.0                                                0.0                                                                             \n",
       "246.0                                                0.0                                                                             \n",
       "\n",
       "       k__Eukaryota|p__Basidiomycota|c__Malasseziomycetes|o__Malasseziales|f__Malasseziaceae|g__Malassezia|s__Malassezia_restricta|t__EUK76775  \\\n",
       "57.0                                                 0.0                                                                                         \n",
       "149.0                                                0.0                                                                                         \n",
       "181.0                                                0.0                                                                                         \n",
       "209.0                                                0.0                                                                                         \n",
       "246.0                                                0.0                                                                                         \n",
       "\n",
       "       GeneLine  \n",
       "57.0       high  \n",
       "149.0      high  \n",
       "181.0      high  \n",
       "209.0      high  \n",
       "246.0      high  \n",
       "\n",
       "[5 rows x 1567 columns]"
      ]
     },
     "execution_count": 126,
     "metadata": {},
     "output_type": "execute_result"
    }
   ],
   "source": [
    "mp_fin.head()"
   ]
  },
  {
   "cell_type": "markdown",
   "id": "9afb0de5-38a0-4706-84eb-199d5e173fb5",
   "metadata": {},
   "source": [
    "### Outlier Analysis"
   ]
  },
  {
   "cell_type": "code",
   "execution_count": 127,
   "id": "f798abc6-7e15-4290-a3f6-95aaee7e955c",
   "metadata": {},
   "outputs": [],
   "source": [
    "# Number of outliers in each column\n",
    "def outliersFnx(data, m = 2.):\n",
    "    d = np.abs(data - np.median(data))\n",
    "    mdev = np.median(d)\n",
    "    s = d/mdev if mdev else np.zeros(len(d))\n",
    "    return len(data[s>m])"
   ]
  },
  {
   "cell_type": "code",
   "execution_count": 128,
   "id": "62073609-f42e-443a-a66d-1a7782593e91",
   "metadata": {},
   "outputs": [
    {
     "ename": "TypeError",
     "evalue": "'<' not supported between instances of 'str' and 'float'",
     "output_type": "error",
     "traceback": [
      "\u001b[1;31m---------------------------------------------------------------------------\u001b[0m",
      "\u001b[1;31mTypeError\u001b[0m                                 Traceback (most recent call last)",
      "Cell \u001b[1;32mIn[128], line 3\u001b[0m\n\u001b[0;32m      1\u001b[0m fnx \u001b[38;5;241m=\u001b[39m \u001b[38;5;28;01mlambda\u001b[39;00m row: \u001b[38;5;28mtype\u001b[39m(row\u001b[38;5;241m.\u001b[39mvalues)\n\u001b[0;32m      2\u001b[0m fnx \u001b[38;5;241m=\u001b[39m \u001b[38;5;28;01mlambda\u001b[39;00m row: outliersFnx(row\u001b[38;5;241m.\u001b[39mvalues)\n\u001b[1;32m----> 3\u001b[0m outlierCount \u001b[38;5;241m=\u001b[39m mp_fin\u001b[38;5;241m.\u001b[39mapply(fnx, axis\u001b[38;5;241m=\u001b[39m\u001b[38;5;241m0\u001b[39m)\u001b[38;5;241m.\u001b[39mvalues\n",
      "File \u001b[1;32m~\\miniconda3\\envs\\lunar\\Lib\\site-packages\\pandas\\core\\frame.py:10374\u001b[0m, in \u001b[0;36mDataFrame.apply\u001b[1;34m(self, func, axis, raw, result_type, args, by_row, engine, engine_kwargs, **kwargs)\u001b[0m\n\u001b[0;32m  10360\u001b[0m \u001b[38;5;28;01mfrom\u001b[39;00m \u001b[38;5;21;01mpandas\u001b[39;00m\u001b[38;5;21;01m.\u001b[39;00m\u001b[38;5;21;01mcore\u001b[39;00m\u001b[38;5;21;01m.\u001b[39;00m\u001b[38;5;21;01mapply\u001b[39;00m \u001b[38;5;28;01mimport\u001b[39;00m frame_apply\n\u001b[0;32m  10362\u001b[0m op \u001b[38;5;241m=\u001b[39m frame_apply(\n\u001b[0;32m  10363\u001b[0m     \u001b[38;5;28mself\u001b[39m,\n\u001b[0;32m  10364\u001b[0m     func\u001b[38;5;241m=\u001b[39mfunc,\n\u001b[1;32m   (...)\u001b[0m\n\u001b[0;32m  10372\u001b[0m     kwargs\u001b[38;5;241m=\u001b[39mkwargs,\n\u001b[0;32m  10373\u001b[0m )\n\u001b[1;32m> 10374\u001b[0m \u001b[38;5;28;01mreturn\u001b[39;00m op\u001b[38;5;241m.\u001b[39mapply()\u001b[38;5;241m.\u001b[39m__finalize__(\u001b[38;5;28mself\u001b[39m, method\u001b[38;5;241m=\u001b[39m\u001b[38;5;124m\"\u001b[39m\u001b[38;5;124mapply\u001b[39m\u001b[38;5;124m\"\u001b[39m)\n",
      "File \u001b[1;32m~\\miniconda3\\envs\\lunar\\Lib\\site-packages\\pandas\\core\\apply.py:916\u001b[0m, in \u001b[0;36mFrameApply.apply\u001b[1;34m(self)\u001b[0m\n\u001b[0;32m    913\u001b[0m \u001b[38;5;28;01melif\u001b[39;00m \u001b[38;5;28mself\u001b[39m\u001b[38;5;241m.\u001b[39mraw:\n\u001b[0;32m    914\u001b[0m     \u001b[38;5;28;01mreturn\u001b[39;00m \u001b[38;5;28mself\u001b[39m\u001b[38;5;241m.\u001b[39mapply_raw(engine\u001b[38;5;241m=\u001b[39m\u001b[38;5;28mself\u001b[39m\u001b[38;5;241m.\u001b[39mengine, engine_kwargs\u001b[38;5;241m=\u001b[39m\u001b[38;5;28mself\u001b[39m\u001b[38;5;241m.\u001b[39mengine_kwargs)\n\u001b[1;32m--> 916\u001b[0m \u001b[38;5;28;01mreturn\u001b[39;00m \u001b[38;5;28mself\u001b[39m\u001b[38;5;241m.\u001b[39mapply_standard()\n",
      "File \u001b[1;32m~\\miniconda3\\envs\\lunar\\Lib\\site-packages\\pandas\\core\\apply.py:1063\u001b[0m, in \u001b[0;36mFrameApply.apply_standard\u001b[1;34m(self)\u001b[0m\n\u001b[0;32m   1061\u001b[0m \u001b[38;5;28;01mdef\u001b[39;00m \u001b[38;5;21mapply_standard\u001b[39m(\u001b[38;5;28mself\u001b[39m):\n\u001b[0;32m   1062\u001b[0m     \u001b[38;5;28;01mif\u001b[39;00m \u001b[38;5;28mself\u001b[39m\u001b[38;5;241m.\u001b[39mengine \u001b[38;5;241m==\u001b[39m \u001b[38;5;124m\"\u001b[39m\u001b[38;5;124mpython\u001b[39m\u001b[38;5;124m\"\u001b[39m:\n\u001b[1;32m-> 1063\u001b[0m         results, res_index \u001b[38;5;241m=\u001b[39m \u001b[38;5;28mself\u001b[39m\u001b[38;5;241m.\u001b[39mapply_series_generator()\n\u001b[0;32m   1064\u001b[0m     \u001b[38;5;28;01melse\u001b[39;00m:\n\u001b[0;32m   1065\u001b[0m         results, res_index \u001b[38;5;241m=\u001b[39m \u001b[38;5;28mself\u001b[39m\u001b[38;5;241m.\u001b[39mapply_series_numba()\n",
      "File \u001b[1;32m~\\miniconda3\\envs\\lunar\\Lib\\site-packages\\pandas\\core\\apply.py:1081\u001b[0m, in \u001b[0;36mFrameApply.apply_series_generator\u001b[1;34m(self)\u001b[0m\n\u001b[0;32m   1078\u001b[0m \u001b[38;5;28;01mwith\u001b[39;00m option_context(\u001b[38;5;124m\"\u001b[39m\u001b[38;5;124mmode.chained_assignment\u001b[39m\u001b[38;5;124m\"\u001b[39m, \u001b[38;5;28;01mNone\u001b[39;00m):\n\u001b[0;32m   1079\u001b[0m     \u001b[38;5;28;01mfor\u001b[39;00m i, v \u001b[38;5;129;01min\u001b[39;00m \u001b[38;5;28menumerate\u001b[39m(series_gen):\n\u001b[0;32m   1080\u001b[0m         \u001b[38;5;66;03m# ignore SettingWithCopy here in case the user mutates\u001b[39;00m\n\u001b[1;32m-> 1081\u001b[0m         results[i] \u001b[38;5;241m=\u001b[39m \u001b[38;5;28mself\u001b[39m\u001b[38;5;241m.\u001b[39mfunc(v, \u001b[38;5;241m*\u001b[39m\u001b[38;5;28mself\u001b[39m\u001b[38;5;241m.\u001b[39margs, \u001b[38;5;241m*\u001b[39m\u001b[38;5;241m*\u001b[39m\u001b[38;5;28mself\u001b[39m\u001b[38;5;241m.\u001b[39mkwargs)\n\u001b[0;32m   1082\u001b[0m         \u001b[38;5;28;01mif\u001b[39;00m \u001b[38;5;28misinstance\u001b[39m(results[i], ABCSeries):\n\u001b[0;32m   1083\u001b[0m             \u001b[38;5;66;03m# If we have a view on v, we need to make a copy because\u001b[39;00m\n\u001b[0;32m   1084\u001b[0m             \u001b[38;5;66;03m#  series_generator will swap out the underlying data\u001b[39;00m\n\u001b[0;32m   1085\u001b[0m             results[i] \u001b[38;5;241m=\u001b[39m results[i]\u001b[38;5;241m.\u001b[39mcopy(deep\u001b[38;5;241m=\u001b[39m\u001b[38;5;28;01mFalse\u001b[39;00m)\n",
      "Cell \u001b[1;32mIn[128], line 2\u001b[0m, in \u001b[0;36m<lambda>\u001b[1;34m(row)\u001b[0m\n\u001b[0;32m      1\u001b[0m fnx \u001b[38;5;241m=\u001b[39m \u001b[38;5;28;01mlambda\u001b[39;00m row: \u001b[38;5;28mtype\u001b[39m(row\u001b[38;5;241m.\u001b[39mvalues)\n\u001b[1;32m----> 2\u001b[0m fnx \u001b[38;5;241m=\u001b[39m \u001b[38;5;28;01mlambda\u001b[39;00m row: outliersFnx(row\u001b[38;5;241m.\u001b[39mvalues)\n\u001b[0;32m      3\u001b[0m outlierCount \u001b[38;5;241m=\u001b[39m mp_fin\u001b[38;5;241m.\u001b[39mapply(fnx, axis\u001b[38;5;241m=\u001b[39m\u001b[38;5;241m0\u001b[39m)\u001b[38;5;241m.\u001b[39mvalues\n",
      "Cell \u001b[1;32mIn[127], line 3\u001b[0m, in \u001b[0;36moutliersFnx\u001b[1;34m(data, m)\u001b[0m\n\u001b[0;32m      2\u001b[0m \u001b[38;5;28;01mdef\u001b[39;00m \u001b[38;5;21moutliersFnx\u001b[39m(data, m \u001b[38;5;241m=\u001b[39m \u001b[38;5;241m2.\u001b[39m):\n\u001b[1;32m----> 3\u001b[0m     d \u001b[38;5;241m=\u001b[39m np\u001b[38;5;241m.\u001b[39mabs(data \u001b[38;5;241m-\u001b[39m np\u001b[38;5;241m.\u001b[39mmedian(data))\n\u001b[0;32m      4\u001b[0m     mdev \u001b[38;5;241m=\u001b[39m np\u001b[38;5;241m.\u001b[39mmedian(d)\n\u001b[0;32m      5\u001b[0m     s \u001b[38;5;241m=\u001b[39m d\u001b[38;5;241m/\u001b[39mmdev \u001b[38;5;28;01mif\u001b[39;00m mdev \u001b[38;5;28;01melse\u001b[39;00m np\u001b[38;5;241m.\u001b[39mzeros(\u001b[38;5;28mlen\u001b[39m(d))\n",
      "File \u001b[1;32m~\\miniconda3\\envs\\lunar\\Lib\\site-packages\\numpy\\lib\\function_base.py:3927\u001b[0m, in \u001b[0;36mmedian\u001b[1;34m(a, axis, out, overwrite_input, keepdims)\u001b[0m\n\u001b[0;32m   3845\u001b[0m \u001b[38;5;129m@array_function_dispatch\u001b[39m(_median_dispatcher)\n\u001b[0;32m   3846\u001b[0m \u001b[38;5;28;01mdef\u001b[39;00m \u001b[38;5;21mmedian\u001b[39m(a, axis\u001b[38;5;241m=\u001b[39m\u001b[38;5;28;01mNone\u001b[39;00m, out\u001b[38;5;241m=\u001b[39m\u001b[38;5;28;01mNone\u001b[39;00m, overwrite_input\u001b[38;5;241m=\u001b[39m\u001b[38;5;28;01mFalse\u001b[39;00m, keepdims\u001b[38;5;241m=\u001b[39m\u001b[38;5;28;01mFalse\u001b[39;00m):\n\u001b[0;32m   3847\u001b[0m \u001b[38;5;250m    \u001b[39m\u001b[38;5;124;03m\"\"\"\u001b[39;00m\n\u001b[0;32m   3848\u001b[0m \u001b[38;5;124;03m    Compute the median along the specified axis.\u001b[39;00m\n\u001b[0;32m   3849\u001b[0m \n\u001b[1;32m   (...)\u001b[0m\n\u001b[0;32m   3925\u001b[0m \n\u001b[0;32m   3926\u001b[0m \u001b[38;5;124;03m    \"\"\"\u001b[39;00m\n\u001b[1;32m-> 3927\u001b[0m     \u001b[38;5;28;01mreturn\u001b[39;00m _ureduce(a, func\u001b[38;5;241m=\u001b[39m_median, keepdims\u001b[38;5;241m=\u001b[39mkeepdims, axis\u001b[38;5;241m=\u001b[39maxis, out\u001b[38;5;241m=\u001b[39mout,\n\u001b[0;32m   3928\u001b[0m                     overwrite_input\u001b[38;5;241m=\u001b[39moverwrite_input)\n",
      "File \u001b[1;32m~\\miniconda3\\envs\\lunar\\Lib\\site-packages\\numpy\\lib\\function_base.py:3823\u001b[0m, in \u001b[0;36m_ureduce\u001b[1;34m(a, func, keepdims, **kwargs)\u001b[0m\n\u001b[0;32m   3820\u001b[0m             index_out \u001b[38;5;241m=\u001b[39m (\u001b[38;5;241m0\u001b[39m, ) \u001b[38;5;241m*\u001b[39m nd\n\u001b[0;32m   3821\u001b[0m             kwargs[\u001b[38;5;124m'\u001b[39m\u001b[38;5;124mout\u001b[39m\u001b[38;5;124m'\u001b[39m] \u001b[38;5;241m=\u001b[39m out[(\u001b[38;5;28mEllipsis\u001b[39m, ) \u001b[38;5;241m+\u001b[39m index_out]\n\u001b[1;32m-> 3823\u001b[0m r \u001b[38;5;241m=\u001b[39m func(a, \u001b[38;5;241m*\u001b[39m\u001b[38;5;241m*\u001b[39mkwargs)\n\u001b[0;32m   3825\u001b[0m \u001b[38;5;28;01mif\u001b[39;00m out \u001b[38;5;129;01mis\u001b[39;00m \u001b[38;5;129;01mnot\u001b[39;00m \u001b[38;5;28;01mNone\u001b[39;00m:\n\u001b[0;32m   3826\u001b[0m     \u001b[38;5;28;01mreturn\u001b[39;00m out\n",
      "File \u001b[1;32m~\\miniconda3\\envs\\lunar\\Lib\\site-packages\\numpy\\lib\\function_base.py:3960\u001b[0m, in \u001b[0;36m_median\u001b[1;34m(a, axis, out, overwrite_input)\u001b[0m\n\u001b[0;32m   3958\u001b[0m         part \u001b[38;5;241m=\u001b[39m a\n\u001b[0;32m   3959\u001b[0m \u001b[38;5;28;01melse\u001b[39;00m:\n\u001b[1;32m-> 3960\u001b[0m     part \u001b[38;5;241m=\u001b[39m partition(a, kth, axis\u001b[38;5;241m=\u001b[39maxis)\n\u001b[0;32m   3962\u001b[0m \u001b[38;5;28;01mif\u001b[39;00m part\u001b[38;5;241m.\u001b[39mshape \u001b[38;5;241m==\u001b[39m ():\n\u001b[0;32m   3963\u001b[0m     \u001b[38;5;66;03m# make 0-D arrays work\u001b[39;00m\n\u001b[0;32m   3964\u001b[0m     \u001b[38;5;28;01mreturn\u001b[39;00m part\u001b[38;5;241m.\u001b[39mitem()\n",
      "File \u001b[1;32m~\\miniconda3\\envs\\lunar\\Lib\\site-packages\\numpy\\core\\fromnumeric.py:771\u001b[0m, in \u001b[0;36mpartition\u001b[1;34m(a, kth, axis, kind, order)\u001b[0m\n\u001b[0;32m    769\u001b[0m \u001b[38;5;28;01melse\u001b[39;00m:\n\u001b[0;32m    770\u001b[0m     a \u001b[38;5;241m=\u001b[39m asanyarray(a)\u001b[38;5;241m.\u001b[39mcopy(order\u001b[38;5;241m=\u001b[39m\u001b[38;5;124m\"\u001b[39m\u001b[38;5;124mK\u001b[39m\u001b[38;5;124m\"\u001b[39m)\n\u001b[1;32m--> 771\u001b[0m a\u001b[38;5;241m.\u001b[39mpartition(kth, axis\u001b[38;5;241m=\u001b[39maxis, kind\u001b[38;5;241m=\u001b[39mkind, order\u001b[38;5;241m=\u001b[39morder)\n\u001b[0;32m    772\u001b[0m \u001b[38;5;28;01mreturn\u001b[39;00m a\n",
      "\u001b[1;31mTypeError\u001b[0m: '<' not supported between instances of 'str' and 'float'"
     ]
    }
   ],
   "source": [
    "fnx = lambda row: type(row.values)\n",
    "fnx = lambda row: outliersFnx(row.values)\n",
    "outlierCount = mp_fin.apply(fnx, axis=0).values"
   ]
  },
  {
   "cell_type": "code",
   "execution_count": null,
   "id": "cd0e7bcd-6b26-451f-9abb-fe531adbf8a2",
   "metadata": {},
   "outputs": [],
   "source": [
    "OUTLIER_CUTOFF = 40\n",
    "plt.figure(figsize=(10,5), dpi = 100)\n",
    "sns.histplot(data=outlierCount[outlierCount!=0]*100/mp_df.shape[1], bins=30)\n",
    "plt.axvline(x=OUTLIER_CUTOFF, color='black', linestyle='--', label='40% Cutoff')\n",
    "plt.legend()\n",
    "plt.title(\"Histogram of % of statistical outliers in each column.\")\n",
    "plt.xlabel(\"% of statistical outliers.\")\n",
    "plt.show()"
   ]
  },
  {
   "cell_type": "markdown",
   "id": "57214443-7091-4b75-9784-ac21c6c26985",
   "metadata": {},
   "source": [
    "The dashed vertical lines represents the cutoff mark, beyond which there are features with more than the cutoff statistical outlier values."
   ]
  },
  {
   "cell_type": "code",
   "execution_count": null,
   "id": "13af2420-46d1-461d-bdf1-ec028cbe5d46",
   "metadata": {},
   "outputs": [],
   "source": [
    "var_ = outlierCount*100/mp_df.shape[1]\n",
    "len(var_[var_>40])\n",
    "\n",
    "print(f\"{len(var_[var_>40])} out of {len(var_)} features have more than {OUTLIER_CUTOFF}% datapoints as statistical outliers.\")"
   ]
  },
  {
   "cell_type": "code",
   "execution_count": null,
   "id": "b4933667-caa9-46b5-837b-fe786cf4a226",
   "metadata": {},
   "outputs": [],
   "source": [
    "hmap = {'feature':[], 'outlierCount':[], 'outlierCount%':[], 'level':[]}\n",
    "for i,j  in zip(mp_fin.columns, outlierCount):\n",
    "    hmap['feature'].append(i)\n",
    "    hmap['outlierCount'].append(j)\n",
    "    hmap['outlierCount%'].append(j*100/mp_df.shape[1])\n",
    "    hmap['level'].append(len(i.split('|')))\n",
    "    \n",
    "outlierDf = pd.DataFrame(hmap)"
   ]
  },
  {
   "cell_type": "code",
   "execution_count": null,
   "id": "02764627-e5eb-494c-86cd-f8dd019d320e",
   "metadata": {},
   "outputs": [],
   "source": [
    "outlierDf[outlierDf['outlierCount%']>OUTLIER_CUTOFF].head()"
   ]
  },
  {
   "cell_type": "code",
   "execution_count": null,
   "id": "8ee6591b-2088-4d43-83b9-314ec5c83389",
   "metadata": {},
   "outputs": [],
   "source": [
    "fig, ax = plt.subplots(nrows=1,ncols=2, figsize=(12,4), sharey=False)\n",
    "outlierDf['level'].value_counts().plot(kind='bar', ax=ax[0])\n",
    "outlierDf[outlierDf['outlierCount%']>OUTLIER_CUTOFF]['level'].value_counts().plot(kind='bar', ax=ax[1])\n",
    "\n",
    "ax[0].set_title('Level Distribution')\n",
    "ax[1].set_title('Level Distribution in Outliers')\n",
    "plt.show()"
   ]
  },
  {
   "cell_type": "code",
   "execution_count": null,
   "id": "d40c14de-7604-41f9-9cf1-81771699f648",
   "metadata": {},
   "outputs": [],
   "source": [
    "mp_fin"
   ]
  },
  {
   "cell_type": "code",
   "execution_count": null,
   "id": "dcfd5b92-a4e6-4125-8ee2-6a034d79e2b5",
   "metadata": {},
   "outputs": [],
   "source": [
    "metadf\n"
   ]
  },
  {
   "cell_type": "code",
   "execution_count": null,
   "id": "ee13cdc8-2c29-4ee8-9cdf-4203d614b360",
   "metadata": {},
   "outputs": [],
   "source": []
  },
  {
   "cell_type": "code",
   "execution_count": null,
   "id": "73c9cb65-70ec-4d45-925e-4101409475ba",
   "metadata": {},
   "outputs": [],
   "source": []
  },
  {
   "cell_type": "code",
   "execution_count": null,
   "id": "da9a3103-7184-4d97-9d53-74262665aec6",
   "metadata": {},
   "outputs": [],
   "source": []
  },
  {
   "cell_type": "code",
   "execution_count": null,
   "id": "79926fb4-489f-4171-a1af-fe7177a2c39f",
   "metadata": {},
   "outputs": [],
   "source": []
  },
  {
   "cell_type": "code",
   "execution_count": null,
   "id": "e486c57f-10ca-4a45-9eb3-ccb1a58f126b",
   "metadata": {},
   "outputs": [],
   "source": []
  },
  {
   "cell_type": "code",
   "execution_count": null,
   "id": "91931932-6207-4a6b-ab9d-34ee9e1e6cdf",
   "metadata": {},
   "outputs": [],
   "source": []
  },
  {
   "cell_type": "code",
   "execution_count": null,
   "id": "f63f6211-a397-4a20-b242-95db5e41a0cb",
   "metadata": {},
   "outputs": [],
   "source": []
  }
 ],
 "metadata": {
  "kernelspec": {
   "display_name": "Python 3 (ipykernel)",
   "language": "python",
   "name": "python3"
  },
  "language_info": {
   "codemirror_mode": {
    "name": "ipython",
    "version": 3
   },
   "file_extension": ".py",
   "mimetype": "text/x-python",
   "name": "python",
   "nbconvert_exporter": "python",
   "pygments_lexer": "ipython3",
   "version": "3.11.10"
  }
 },
 "nbformat": 4,
 "nbformat_minor": 5
}
