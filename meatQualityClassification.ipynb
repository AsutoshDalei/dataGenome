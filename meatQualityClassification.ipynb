{
 "cells": [
  {
   "cell_type": "markdown",
   "id": "ecb7592c-9907-4f69-bd53-a488a90e4ebf",
   "metadata": {},
   "source": [
    "# Rainbow Trout Meat Quality Classification using Genomic Data "
   ]
  },
  {
   "cell_type": "markdown",
   "id": "7756e56c-9c5f-49e0-9e0f-f02af3ea886f",
   "metadata": {},
   "source": [
    "## Imports"
   ]
  },
  {
   "cell_type": "code",
   "execution_count": 69,
   "id": "589a7885-2d9c-4933-8227-d49670ae6377",
   "metadata": {},
   "outputs": [
    {
     "data": {
      "application/javascript": [
       "IPython.notebook.set_autosave_interval(30000)"
      ]
     },
     "metadata": {},
     "output_type": "display_data"
    },
    {
     "name": "stdout",
     "output_type": "stream",
     "text": [
      "Autosaving every 30 seconds\n"
     ]
    }
   ],
   "source": [
    "import pandas as pd\n",
    "import numpy as np\n",
    "import matplotlib.pyplot as plt\n",
    "%matplotlib inline\n",
    "import seaborn as sns\n",
    "import os\n",
    "import json\n",
    "\n",
    "from sklearn.decomposition import KernelPCA, PCA\n",
    "from sklearn.model_selection import train_test_split, cross_val_score\n",
    "from sklearn.preprocessing import MinMaxScaler, StandardScaler\n",
    "from sklearn.metrics import classification_report, confusion_matrix\n",
    "\n",
    "SEED = 32\n",
    "%autosave 30"
   ]
  },
  {
   "cell_type": "code",
   "execution_count": 70,
   "id": "8a3a70ec-e620-4b9c-bc4b-e2d18ed4e206",
   "metadata": {},
   "outputs": [],
   "source": [
    "import gc\n",
    "\n",
    "import warnings\n",
    "warnings.filterwarnings(\"ignore\")"
   ]
  },
  {
   "cell_type": "markdown",
   "id": "a59090f8-5a74-4e61-bc53-ca8e8fbdef1d",
   "metadata": {},
   "source": [
    "## Meta Data Creation"
   ]
  },
  {
   "cell_type": "code",
   "execution_count": 71,
   "id": "630fbb77-38b6-4c3e-bf37-d974d1d21a4f",
   "metadata": {},
   "outputs": [],
   "source": [
    "# %%time\n",
    "# metadf_init = pd.read_excel(\"./data/GeneExpressionData/Meta_data.xlsx\", usecols=['genetic line','Orso_Id'])\n",
    "# print(f\"Initial Dataframe Size:{metadf_init.shape}\")\n",
    "\n",
    "# #Dropping rows with NaN values.\n",
    "# metadf_init.dropna(inplace=True)\n",
    "# print(f\"Dataframe Size post cleaning:{metadf_init.shape}\")\n",
    "# metadf_init.head()"
   ]
  },
  {
   "cell_type": "code",
   "execution_count": 72,
   "id": "59606096-3859-4b54-b52e-8b7b406fa33b",
   "metadata": {},
   "outputs": [],
   "source": [
    "# def processRows(row):\n",
    "#     geneLine, fishId = row['genetic line'].split('-')[-1], row['Orso_Id'].split('_')[-1]\n",
    "#     # print(geneLine, fishId)\n",
    "#     return pd.Series(data = [f\"F{fishId}\", 'high' if geneLine=='H' else 'low'], index=['FishID', 'GeneLine'])\n",
    "\n",
    "# metadf_init.apply(processRows, axis=1).to_csv(\"./metaFishData.csv\", index=False)"
   ]
  },
  {
   "cell_type": "markdown",
   "id": "e1cb27cf-44c0-4834-9208-efe6d3c3ce89",
   "metadata": {},
   "source": [
    "## Meta Data"
   ]
  },
  {
   "cell_type": "code",
   "execution_count": 73,
   "id": "56940095-f0cf-45b8-81db-3d05789eadf2",
   "metadata": {},
   "outputs": [
    {
     "data": {
      "text/html": [
       "<div>\n",
       "<style scoped>\n",
       "    .dataframe tbody tr th:only-of-type {\n",
       "        vertical-align: middle;\n",
       "    }\n",
       "\n",
       "    .dataframe tbody tr th {\n",
       "        vertical-align: top;\n",
       "    }\n",
       "\n",
       "    .dataframe thead th {\n",
       "        text-align: right;\n",
       "    }\n",
       "</style>\n",
       "<table border=\"1\" class=\"dataframe\">\n",
       "  <thead>\n",
       "    <tr style=\"text-align: right;\">\n",
       "      <th></th>\n",
       "      <th>FishID</th>\n",
       "      <th>GeneLine</th>\n",
       "    </tr>\n",
       "  </thead>\n",
       "  <tbody>\n",
       "    <tr>\n",
       "      <th>0</th>\n",
       "      <td>F75</td>\n",
       "      <td>high</td>\n",
       "    </tr>\n",
       "    <tr>\n",
       "      <th>1</th>\n",
       "      <td>F66</td>\n",
       "      <td>low</td>\n",
       "    </tr>\n",
       "    <tr>\n",
       "      <th>2</th>\n",
       "      <td>F76</td>\n",
       "      <td>high</td>\n",
       "    </tr>\n",
       "    <tr>\n",
       "      <th>3</th>\n",
       "      <td>F72</td>\n",
       "      <td>low</td>\n",
       "    </tr>\n",
       "    <tr>\n",
       "      <th>4</th>\n",
       "      <td>F78</td>\n",
       "      <td>high</td>\n",
       "    </tr>\n",
       "  </tbody>\n",
       "</table>\n",
       "</div>"
      ],
      "text/plain": [
       "  FishID GeneLine\n",
       "0    F75     high\n",
       "1    F66      low\n",
       "2    F76     high\n",
       "3    F72      low\n",
       "4    F78     high"
      ]
     },
     "execution_count": 73,
     "metadata": {},
     "output_type": "execute_result"
    }
   ],
   "source": [
    "metadf = pd.read_csv(\"./metaFishData.csv\")\n",
    "metadf.head()"
   ]
  },
  {
   "cell_type": "code",
   "execution_count": 74,
   "id": "2ef45489-3cd6-4896-b7c2-2ddb9898dd93",
   "metadata": {},
   "outputs": [
    {
     "data": {
      "text/plain": [
       "GeneLine\n",
       "high    0.504298\n",
       "low     0.495702\n",
       "Name: proportion, dtype: float64"
      ]
     },
     "execution_count": 74,
     "metadata": {},
     "output_type": "execute_result"
    }
   ],
   "source": [
    "metadf['GeneLine'].value_counts(normalize=True)"
   ]
  },
  {
   "cell_type": "markdown",
   "id": "054c4a99-8642-4980-ab87-74b6266950cf",
   "metadata": {},
   "source": [
    "## Metaphlan Profile"
   ]
  },
  {
   "cell_type": "code",
   "execution_count": 75,
   "id": "409f8599-f9cd-4886-8025-d06d640186dc",
   "metadata": {
    "scrolled": true
   },
   "outputs": [
    {
     "name": "stdout",
     "output_type": "stream",
     "text": [
      "Metaphlan Profile Data Shape: (1567, 352)\n",
      "CPU times: user 245 ms, sys: 11.9 ms, total: 257 ms\n",
      "Wall time: 283 ms\n"
     ]
    },
    {
     "data": {
      "text/html": [
       "<div>\n",
       "<style scoped>\n",
       "    .dataframe tbody tr th:only-of-type {\n",
       "        vertical-align: middle;\n",
       "    }\n",
       "\n",
       "    .dataframe tbody tr th {\n",
       "        vertical-align: top;\n",
       "    }\n",
       "\n",
       "    .dataframe thead th {\n",
       "        text-align: right;\n",
       "    }\n",
       "</style>\n",
       "<table border=\"1\" class=\"dataframe\">\n",
       "  <thead>\n",
       "    <tr style=\"text-align: right;\">\n",
       "      <th></th>\n",
       "      <th>clade_name</th>\n",
       "      <th>F100</th>\n",
       "      <th>F101</th>\n",
       "      <th>F102</th>\n",
       "      <th>F103</th>\n",
       "      <th>F104</th>\n",
       "      <th>F105</th>\n",
       "      <th>F106</th>\n",
       "      <th>F107</th>\n",
       "      <th>F108</th>\n",
       "      <th>...</th>\n",
       "      <th>F91</th>\n",
       "      <th>F92</th>\n",
       "      <th>F93</th>\n",
       "      <th>F94</th>\n",
       "      <th>F95</th>\n",
       "      <th>F96</th>\n",
       "      <th>F97</th>\n",
       "      <th>F98</th>\n",
       "      <th>F99</th>\n",
       "      <th>F9</th>\n",
       "    </tr>\n",
       "  </thead>\n",
       "  <tbody>\n",
       "    <tr>\n",
       "      <th>1</th>\n",
       "      <td>k__Bacteria</td>\n",
       "      <td>100.0</td>\n",
       "      <td>99.97197</td>\n",
       "      <td>100.0</td>\n",
       "      <td>100.0</td>\n",
       "      <td>100.0</td>\n",
       "      <td>99.99576</td>\n",
       "      <td>99.98729</td>\n",
       "      <td>100.0</td>\n",
       "      <td>100.0</td>\n",
       "      <td>...</td>\n",
       "      <td>100.0</td>\n",
       "      <td>100.0</td>\n",
       "      <td>99.99293</td>\n",
       "      <td>100.0</td>\n",
       "      <td>100.0</td>\n",
       "      <td>100.0</td>\n",
       "      <td>100.0</td>\n",
       "      <td>100.0</td>\n",
       "      <td>100.0</td>\n",
       "      <td>99.99385</td>\n",
       "    </tr>\n",
       "    <tr>\n",
       "      <th>2</th>\n",
       "      <td>k__Bacteria|p__Proteobacteria</td>\n",
       "      <td>96.23163</td>\n",
       "      <td>1.28278</td>\n",
       "      <td>2.46132</td>\n",
       "      <td>4.19295</td>\n",
       "      <td>0.61851</td>\n",
       "      <td>0.09897</td>\n",
       "      <td>7.26275</td>\n",
       "      <td>0.26161</td>\n",
       "      <td>4.19682</td>\n",
       "      <td>...</td>\n",
       "      <td>12.66281</td>\n",
       "      <td>0.96307</td>\n",
       "      <td>18.82358</td>\n",
       "      <td>0.32609</td>\n",
       "      <td>0.02745</td>\n",
       "      <td>0.0</td>\n",
       "      <td>44.74296</td>\n",
       "      <td>0.15063</td>\n",
       "      <td>0.0</td>\n",
       "      <td>0.66998</td>\n",
       "    </tr>\n",
       "    <tr>\n",
       "      <th>3</th>\n",
       "      <td>k__Bacteria|p__Fusobacteria</td>\n",
       "      <td>1.90922</td>\n",
       "      <td>0.02158</td>\n",
       "      <td>96.92149</td>\n",
       "      <td>0.24615</td>\n",
       "      <td>91.75045</td>\n",
       "      <td>0.10025</td>\n",
       "      <td>0.05683</td>\n",
       "      <td>43.08036</td>\n",
       "      <td>95.27552</td>\n",
       "      <td>...</td>\n",
       "      <td>82.35353</td>\n",
       "      <td>98.30658</td>\n",
       "      <td>79.81764</td>\n",
       "      <td>36.31168</td>\n",
       "      <td>99.72513</td>\n",
       "      <td>1.57367</td>\n",
       "      <td>17.83804</td>\n",
       "      <td>98.75345</td>\n",
       "      <td>97.18932</td>\n",
       "      <td>79.67032</td>\n",
       "    </tr>\n",
       "    <tr>\n",
       "      <th>4</th>\n",
       "      <td>k__Bacteria|p__Firmicutes</td>\n",
       "      <td>1.85915</td>\n",
       "      <td>97.78226</td>\n",
       "      <td>0.4784</td>\n",
       "      <td>87.89138</td>\n",
       "      <td>6.77893</td>\n",
       "      <td>80.14233</td>\n",
       "      <td>92.20322</td>\n",
       "      <td>56.095</td>\n",
       "      <td>0.52766</td>\n",
       "      <td>...</td>\n",
       "      <td>4.60755</td>\n",
       "      <td>0.63897</td>\n",
       "      <td>1.25554</td>\n",
       "      <td>61.489</td>\n",
       "      <td>0.1855</td>\n",
       "      <td>98.42633</td>\n",
       "      <td>34.07137</td>\n",
       "      <td>1.09592</td>\n",
       "      <td>2.81068</td>\n",
       "      <td>18.22957</td>\n",
       "    </tr>\n",
       "    <tr>\n",
       "      <th>5</th>\n",
       "      <td>k__Bacteria|p__Proteobacteria|c__Gammaproteoba...</td>\n",
       "      <td>95.58687</td>\n",
       "      <td>0.0</td>\n",
       "      <td>1.11736</td>\n",
       "      <td>0.05299</td>\n",
       "      <td>0.0497</td>\n",
       "      <td>0.0</td>\n",
       "      <td>0.00083</td>\n",
       "      <td>0.0</td>\n",
       "      <td>2.79746</td>\n",
       "      <td>...</td>\n",
       "      <td>11.30934</td>\n",
       "      <td>0.37437</td>\n",
       "      <td>18.81727</td>\n",
       "      <td>0.06843</td>\n",
       "      <td>0.0</td>\n",
       "      <td>0.0</td>\n",
       "      <td>44.66672</td>\n",
       "      <td>0.15063</td>\n",
       "      <td>0.0</td>\n",
       "      <td>0.56759</td>\n",
       "    </tr>\n",
       "  </tbody>\n",
       "</table>\n",
       "<p>5 rows × 352 columns</p>\n",
       "</div>"
      ],
      "text/plain": [
       "0                                         clade_name      F100      F101  \\\n",
       "1                                        k__Bacteria     100.0  99.97197   \n",
       "2                      k__Bacteria|p__Proteobacteria  96.23163   1.28278   \n",
       "3                        k__Bacteria|p__Fusobacteria   1.90922   0.02158   \n",
       "4                          k__Bacteria|p__Firmicutes   1.85915  97.78226   \n",
       "5  k__Bacteria|p__Proteobacteria|c__Gammaproteoba...  95.58687       0.0   \n",
       "\n",
       "0      F102      F103      F104      F105      F106      F107      F108  ...  \\\n",
       "1     100.0     100.0     100.0  99.99576  99.98729     100.0     100.0  ...   \n",
       "2   2.46132   4.19295   0.61851   0.09897   7.26275   0.26161   4.19682  ...   \n",
       "3  96.92149   0.24615  91.75045   0.10025   0.05683  43.08036  95.27552  ...   \n",
       "4    0.4784  87.89138   6.77893  80.14233  92.20322    56.095   0.52766  ...   \n",
       "5   1.11736   0.05299    0.0497       0.0   0.00083       0.0   2.79746  ...   \n",
       "\n",
       "0       F91       F92       F93       F94       F95       F96       F97  \\\n",
       "1     100.0     100.0  99.99293     100.0     100.0     100.0     100.0   \n",
       "2  12.66281   0.96307  18.82358   0.32609   0.02745       0.0  44.74296   \n",
       "3  82.35353  98.30658  79.81764  36.31168  99.72513   1.57367  17.83804   \n",
       "4   4.60755   0.63897   1.25554    61.489    0.1855  98.42633  34.07137   \n",
       "5  11.30934   0.37437  18.81727   0.06843       0.0       0.0  44.66672   \n",
       "\n",
       "0       F98       F99        F9  \n",
       "1     100.0     100.0  99.99385  \n",
       "2   0.15063       0.0   0.66998  \n",
       "3  98.75345  97.18932  79.67032  \n",
       "4   1.09592   2.81068  18.22957  \n",
       "5   0.15063       0.0   0.56759  \n",
       "\n",
       "[5 rows x 352 columns]"
      ]
     },
     "execution_count": 75,
     "metadata": {},
     "output_type": "execute_result"
    }
   ],
   "source": [
    "%%time\n",
    "mp_df = pd.read_csv(\"./data/GeneExpressionData/merged_metaphlan_profile.tsv\", sep='\\t', header=0).reset_index()\n",
    "print(f\"Metaphlan Profile Data Shape: {mp_df.shape}\")\n",
    "\n",
    "#Generating consistent Fish Identification Marking\n",
    "fishIdentifierFnx = lambda row: f'F{row.split(\"_\")[3]}'\n",
    "mp_df.iloc[0, 1:] = mp_df.iloc[0, 1:].apply(fishIdentifierFnx)\n",
    "\n",
    "#Setting Column Names to the fish identification markings\n",
    "mp_df.columns = mp_df.iloc[0]\n",
    "mp_df.drop(mp_df.index[0], inplace=True)\n",
    "mp_df.head()"
   ]
  },
  {
   "cell_type": "markdown",
   "id": "01dd29fb-836d-448b-8d66-bd0eb619ba4d",
   "metadata": {},
   "source": [
    "## Clade Family"
   ]
  },
  {
   "cell_type": "code",
   "execution_count": 76,
   "id": "321ea530-9c9f-4627-af74-8d9b2c1b95b2",
   "metadata": {},
   "outputs": [],
   "source": [
    "from treelib import Node, Tree"
   ]
  },
  {
   "cell_type": "code",
   "execution_count": 77,
   "id": "51253b7f-3a1c-4243-9323-1b50e3046469",
   "metadata": {},
   "outputs": [
    {
     "data": {
      "text/plain": [
       "clade_name\n",
       "8    560\n",
       "7    539\n",
       "6    260\n",
       "5    101\n",
       "4     54\n",
       "3     37\n",
       "2     11\n",
       "1      4\n",
       "Name: count, dtype: int64"
      ]
     },
     "execution_count": 77,
     "metadata": {},
     "output_type": "execute_result"
    }
   ],
   "source": [
    "clade = mp_df.iloc[:, 0]\n",
    "\n",
    "cladeFnxLambda = lambda row: len(row.split('|'))\n",
    "clade.apply(cladeFnxLambda).value_counts()"
   ]
  },
  {
   "cell_type": "code",
   "execution_count": 78,
   "id": "d68763bd-d23f-46d5-bf31-9c552cecab72",
   "metadata": {},
   "outputs": [],
   "source": [
    "# cladeFnxLambda = lambda row: row.split('|')\n",
    "# clade.apply(cladeFnxLambda).value_counts()"
   ]
  },
  {
   "cell_type": "code",
   "execution_count": 79,
   "id": "027c204c-c2d3-4685-9d28-f3afb61d6fe9",
   "metadata": {},
   "outputs": [
    {
     "name": "stdout",
     "output_type": "stream",
     "text": [
      "Depth of tree: 8\n",
      "CPU times: user 84 ms, sys: 3.12 ms, total: 87.1 ms\n",
      "Wall time: 85.8 ms\n"
     ]
    }
   ],
   "source": [
    "%%time\n",
    "tree = Tree()\n",
    "tree.create_node('Main', 'main')\n",
    "def cladeFnxTree(row):\n",
    "    row = row.split('|')\n",
    "    if len(row)==1:\n",
    "        tree.create_node(row[0], row[0], parent='main')\n",
    "    else:\n",
    "        tree.create_node(row[-1], row[-1], parent=row[-2])\n",
    "             \n",
    "_ = clade.apply(cladeFnxTree)\n",
    "\n",
    "print(\"Depth of tree:\", tree.depth())\n",
    "# tree.show()      "
   ]
  },
  {
   "cell_type": "code",
   "execution_count": 80,
   "id": "280aee90-992a-48b9-a9f8-6117fdff643a",
   "metadata": {},
   "outputs": [],
   "source": [
    "treeFamily = json.loads(tree.to_json(with_data=False))"
   ]
  },
  {
   "cell_type": "code",
   "execution_count": 81,
   "id": "51ad2650-9555-4900-a2a4-decf9c0db753",
   "metadata": {},
   "outputs": [],
   "source": [
    "familyMap = {f'level{r}':[] for r in range(0,8)}\n",
    "\n",
    "# def cladeFnx(row):\n",
    "#     row = row.split('|')\n",
    "#     i = 0\n",
    "#     for rw in row:\n",
    "#         familyMap[f'level{i}'].append(rw)\n",
    "#         i+=1\n",
    "#     while i<8:\n",
    "#         familyMap[f'level{i}'].append(None)\n",
    "#         i+=1\n",
    "\n",
    "def cladeFnx(row):\n",
    "    row_ = row.split('|')\n",
    "    familyMap[f'level{len(row_)-1}'].append(row)\n",
    "    \n",
    "    \n",
    "\n",
    "_ = clade.apply(cladeFnx)"
   ]
  },
  {
   "cell_type": "code",
   "execution_count": 82,
   "id": "59342fe4-c87c-450b-8587-d5483c561b71",
   "metadata": {},
   "outputs": [],
   "source": [
    "for i in familyMap:\n",
    "    familyMap[i] = list(set(familyMap[i]))\n",
    "\n",
    "familyMapRev = {}\n",
    "for i in familyMap:\n",
    "    for j in familyMap[i]:\n",
    "        familyMapRev[j] = i"
   ]
  },
  {
   "cell_type": "markdown",
   "id": "c4cea046-0d8b-49fb-8407-9069052d8b5b",
   "metadata": {},
   "source": [
    "## Initial Exploration"
   ]
  },
  {
   "cell_type": "code",
   "execution_count": 83,
   "id": "853feaf1-7646-4daa-a6e6-6a1f9daddc18",
   "metadata": {},
   "outputs": [
    {
     "name": "stdout",
     "output_type": "stream",
     "text": [
      "(349, 1567)\n"
     ]
    }
   ],
   "source": [
    "mp_fin = mp_df.set_index('clade_name').T\n",
    "mp_fin = mp_fin.apply(pd.to_numeric, downcast='float')\n",
    "\n",
    "mp_fin = pd.merge(left=mp_fin, right=metadf, left_index=True, right_on='FishID', how='inner').drop('FishID', axis=1)\n",
    "mp_fin.dropna(inplace=True)\n",
    "print(mp_fin.shape)"
   ]
  },
  {
   "cell_type": "code",
   "execution_count": 84,
   "id": "409257f8-506c-442a-9d67-a207f1ef7a74",
   "metadata": {},
   "outputs": [],
   "source": [
    "# mp_fin.to_csv(\"./data/mergedMetaPhlanData.csv\", index=False)"
   ]
  },
  {
   "cell_type": "code",
   "execution_count": 85,
   "id": "2266a205-8367-40b1-ab62-888c249eb8d1",
   "metadata": {},
   "outputs": [
    {
     "data": {
      "text/html": [
       "<div>\n",
       "<style scoped>\n",
       "    .dataframe tbody tr th:only-of-type {\n",
       "        vertical-align: middle;\n",
       "    }\n",
       "\n",
       "    .dataframe tbody tr th {\n",
       "        vertical-align: top;\n",
       "    }\n",
       "\n",
       "    .dataframe thead th {\n",
       "        text-align: right;\n",
       "    }\n",
       "</style>\n",
       "<table border=\"1\" class=\"dataframe\">\n",
       "  <thead>\n",
       "    <tr style=\"text-align: right;\">\n",
       "      <th></th>\n",
       "      <th>k__Bacteria</th>\n",
       "      <th>k__Bacteria|p__Proteobacteria</th>\n",
       "      <th>k__Bacteria|p__Fusobacteria</th>\n",
       "      <th>k__Bacteria|p__Firmicutes</th>\n",
       "      <th>k__Bacteria|p__Proteobacteria|c__Gammaproteobacteria</th>\n",
       "      <th>k__Bacteria|p__Fusobacteria|c__Fusobacteriia</th>\n",
       "      <th>k__Bacteria|p__Firmicutes|c__Bacilli</th>\n",
       "      <th>k__Bacteria|p__Firmicutes|c__Clostridia</th>\n",
       "      <th>k__Bacteria|p__Proteobacteria|c__Betaproteobacteria</th>\n",
       "      <th>k__Bacteria|p__Firmicutes|c__Tissierellia</th>\n",
       "      <th>...</th>\n",
       "      <th>k__Bacteria|p__Actinobacteria|c__Actinomycetia|o__Micrococcales|f__Micrococcaceae|g__Kocuria|s__Kocuria_rhizophila</th>\n",
       "      <th>k__Bacteria|p__Actinobacteria|c__Actinomycetia|o__Micrococcales|f__Micrococcaceae|g__Kocuria|s__Kocuria_rhizophila|t__SGB16671</th>\n",
       "      <th>k__Eukaryota|p__Basidiomycota</th>\n",
       "      <th>k__Eukaryota|p__Basidiomycota|c__Malasseziomycetes</th>\n",
       "      <th>k__Eukaryota|p__Basidiomycota|c__Malasseziomycetes|o__Malasseziales</th>\n",
       "      <th>k__Eukaryota|p__Basidiomycota|c__Malasseziomycetes|o__Malasseziales|f__Malasseziaceae</th>\n",
       "      <th>k__Eukaryota|p__Basidiomycota|c__Malasseziomycetes|o__Malasseziales|f__Malasseziaceae|g__Malassezia</th>\n",
       "      <th>k__Eukaryota|p__Basidiomycota|c__Malasseziomycetes|o__Malasseziales|f__Malasseziaceae|g__Malassezia|s__Malassezia_restricta</th>\n",
       "      <th>k__Eukaryota|p__Basidiomycota|c__Malasseziomycetes|o__Malasseziales|f__Malasseziaceae|g__Malassezia|s__Malassezia_restricta|t__EUK76775</th>\n",
       "      <th>GeneLine</th>\n",
       "    </tr>\n",
       "  </thead>\n",
       "  <tbody>\n",
       "    <tr>\n",
       "      <th>181</th>\n",
       "      <td>100.00000</td>\n",
       "      <td>96.231628</td>\n",
       "      <td>1.909220</td>\n",
       "      <td>1.859150</td>\n",
       "      <td>95.586868</td>\n",
       "      <td>1.909220</td>\n",
       "      <td>1.114860</td>\n",
       "      <td>0.742340</td>\n",
       "      <td>0.64476</td>\n",
       "      <td>0.00196</td>\n",
       "      <td>...</td>\n",
       "      <td>0.0</td>\n",
       "      <td>0.0</td>\n",
       "      <td>0.0</td>\n",
       "      <td>0.0</td>\n",
       "      <td>0.0</td>\n",
       "      <td>0.0</td>\n",
       "      <td>0.0</td>\n",
       "      <td>0.0</td>\n",
       "      <td>0.0</td>\n",
       "      <td>high</td>\n",
       "    </tr>\n",
       "    <tr>\n",
       "      <th>209</th>\n",
       "      <td>99.97197</td>\n",
       "      <td>1.282780</td>\n",
       "      <td>0.021580</td>\n",
       "      <td>97.782257</td>\n",
       "      <td>0.000000</td>\n",
       "      <td>0.021580</td>\n",
       "      <td>68.893913</td>\n",
       "      <td>27.902140</td>\n",
       "      <td>1.28278</td>\n",
       "      <td>0.60573</td>\n",
       "      <td>...</td>\n",
       "      <td>0.0</td>\n",
       "      <td>0.0</td>\n",
       "      <td>0.0</td>\n",
       "      <td>0.0</td>\n",
       "      <td>0.0</td>\n",
       "      <td>0.0</td>\n",
       "      <td>0.0</td>\n",
       "      <td>0.0</td>\n",
       "      <td>0.0</td>\n",
       "      <td>high</td>\n",
       "    </tr>\n",
       "    <tr>\n",
       "      <th>246</th>\n",
       "      <td>100.00000</td>\n",
       "      <td>2.461320</td>\n",
       "      <td>96.921494</td>\n",
       "      <td>0.478400</td>\n",
       "      <td>1.117360</td>\n",
       "      <td>96.921494</td>\n",
       "      <td>0.320890</td>\n",
       "      <td>0.157520</td>\n",
       "      <td>1.34395</td>\n",
       "      <td>0.00000</td>\n",
       "      <td>...</td>\n",
       "      <td>0.0</td>\n",
       "      <td>0.0</td>\n",
       "      <td>0.0</td>\n",
       "      <td>0.0</td>\n",
       "      <td>0.0</td>\n",
       "      <td>0.0</td>\n",
       "      <td>0.0</td>\n",
       "      <td>0.0</td>\n",
       "      <td>0.0</td>\n",
       "      <td>high</td>\n",
       "    </tr>\n",
       "    <tr>\n",
       "      <th>78</th>\n",
       "      <td>100.00000</td>\n",
       "      <td>4.192950</td>\n",
       "      <td>0.246150</td>\n",
       "      <td>87.891380</td>\n",
       "      <td>0.052990</td>\n",
       "      <td>0.246150</td>\n",
       "      <td>63.512451</td>\n",
       "      <td>24.072491</td>\n",
       "      <td>3.15654</td>\n",
       "      <td>0.19579</td>\n",
       "      <td>...</td>\n",
       "      <td>0.0</td>\n",
       "      <td>0.0</td>\n",
       "      <td>0.0</td>\n",
       "      <td>0.0</td>\n",
       "      <td>0.0</td>\n",
       "      <td>0.0</td>\n",
       "      <td>0.0</td>\n",
       "      <td>0.0</td>\n",
       "      <td>0.0</td>\n",
       "      <td>high</td>\n",
       "    </tr>\n",
       "    <tr>\n",
       "      <th>265</th>\n",
       "      <td>100.00000</td>\n",
       "      <td>0.618510</td>\n",
       "      <td>91.750450</td>\n",
       "      <td>6.778930</td>\n",
       "      <td>0.049700</td>\n",
       "      <td>91.750450</td>\n",
       "      <td>5.072790</td>\n",
       "      <td>1.677510</td>\n",
       "      <td>0.56792</td>\n",
       "      <td>0.02729</td>\n",
       "      <td>...</td>\n",
       "      <td>0.0</td>\n",
       "      <td>0.0</td>\n",
       "      <td>0.0</td>\n",
       "      <td>0.0</td>\n",
       "      <td>0.0</td>\n",
       "      <td>0.0</td>\n",
       "      <td>0.0</td>\n",
       "      <td>0.0</td>\n",
       "      <td>0.0</td>\n",
       "      <td>high</td>\n",
       "    </tr>\n",
       "  </tbody>\n",
       "</table>\n",
       "<p>5 rows × 1567 columns</p>\n",
       "</div>"
      ],
      "text/plain": [
       "     k__Bacteria  k__Bacteria|p__Proteobacteria  k__Bacteria|p__Fusobacteria  \\\n",
       "181    100.00000                      96.231628                     1.909220   \n",
       "209     99.97197                       1.282780                     0.021580   \n",
       "246    100.00000                       2.461320                    96.921494   \n",
       "78     100.00000                       4.192950                     0.246150   \n",
       "265    100.00000                       0.618510                    91.750450   \n",
       "\n",
       "     k__Bacteria|p__Firmicutes  \\\n",
       "181                   1.859150   \n",
       "209                  97.782257   \n",
       "246                   0.478400   \n",
       "78                   87.891380   \n",
       "265                   6.778930   \n",
       "\n",
       "     k__Bacteria|p__Proteobacteria|c__Gammaproteobacteria  \\\n",
       "181                                          95.586868      \n",
       "209                                           0.000000      \n",
       "246                                           1.117360      \n",
       "78                                            0.052990      \n",
       "265                                           0.049700      \n",
       "\n",
       "     k__Bacteria|p__Fusobacteria|c__Fusobacteriia  \\\n",
       "181                                      1.909220   \n",
       "209                                      0.021580   \n",
       "246                                     96.921494   \n",
       "78                                       0.246150   \n",
       "265                                     91.750450   \n",
       "\n",
       "     k__Bacteria|p__Firmicutes|c__Bacilli  \\\n",
       "181                              1.114860   \n",
       "209                             68.893913   \n",
       "246                              0.320890   \n",
       "78                              63.512451   \n",
       "265                              5.072790   \n",
       "\n",
       "     k__Bacteria|p__Firmicutes|c__Clostridia  \\\n",
       "181                                 0.742340   \n",
       "209                                27.902140   \n",
       "246                                 0.157520   \n",
       "78                                 24.072491   \n",
       "265                                 1.677510   \n",
       "\n",
       "     k__Bacteria|p__Proteobacteria|c__Betaproteobacteria  \\\n",
       "181                                            0.64476     \n",
       "209                                            1.28278     \n",
       "246                                            1.34395     \n",
       "78                                             3.15654     \n",
       "265                                            0.56792     \n",
       "\n",
       "     k__Bacteria|p__Firmicutes|c__Tissierellia  ...  \\\n",
       "181                                    0.00196  ...   \n",
       "209                                    0.60573  ...   \n",
       "246                                    0.00000  ...   \n",
       "78                                     0.19579  ...   \n",
       "265                                    0.02729  ...   \n",
       "\n",
       "     k__Bacteria|p__Actinobacteria|c__Actinomycetia|o__Micrococcales|f__Micrococcaceae|g__Kocuria|s__Kocuria_rhizophila  \\\n",
       "181                                                0.0                                                                    \n",
       "209                                                0.0                                                                    \n",
       "246                                                0.0                                                                    \n",
       "78                                                 0.0                                                                    \n",
       "265                                                0.0                                                                    \n",
       "\n",
       "     k__Bacteria|p__Actinobacteria|c__Actinomycetia|o__Micrococcales|f__Micrococcaceae|g__Kocuria|s__Kocuria_rhizophila|t__SGB16671  \\\n",
       "181                                                0.0                                                                                \n",
       "209                                                0.0                                                                                \n",
       "246                                                0.0                                                                                \n",
       "78                                                 0.0                                                                                \n",
       "265                                                0.0                                                                                \n",
       "\n",
       "     k__Eukaryota|p__Basidiomycota  \\\n",
       "181                            0.0   \n",
       "209                            0.0   \n",
       "246                            0.0   \n",
       "78                             0.0   \n",
       "265                            0.0   \n",
       "\n",
       "     k__Eukaryota|p__Basidiomycota|c__Malasseziomycetes  \\\n",
       "181                                                0.0    \n",
       "209                                                0.0    \n",
       "246                                                0.0    \n",
       "78                                                 0.0    \n",
       "265                                                0.0    \n",
       "\n",
       "     k__Eukaryota|p__Basidiomycota|c__Malasseziomycetes|o__Malasseziales  \\\n",
       "181                                                0.0                     \n",
       "209                                                0.0                     \n",
       "246                                                0.0                     \n",
       "78                                                 0.0                     \n",
       "265                                                0.0                     \n",
       "\n",
       "     k__Eukaryota|p__Basidiomycota|c__Malasseziomycetes|o__Malasseziales|f__Malasseziaceae  \\\n",
       "181                                                0.0                                       \n",
       "209                                                0.0                                       \n",
       "246                                                0.0                                       \n",
       "78                                                 0.0                                       \n",
       "265                                                0.0                                       \n",
       "\n",
       "     k__Eukaryota|p__Basidiomycota|c__Malasseziomycetes|o__Malasseziales|f__Malasseziaceae|g__Malassezia  \\\n",
       "181                                                0.0                                                     \n",
       "209                                                0.0                                                     \n",
       "246                                                0.0                                                     \n",
       "78                                                 0.0                                                     \n",
       "265                                                0.0                                                     \n",
       "\n",
       "     k__Eukaryota|p__Basidiomycota|c__Malasseziomycetes|o__Malasseziales|f__Malasseziaceae|g__Malassezia|s__Malassezia_restricta  \\\n",
       "181                                                0.0                                                                             \n",
       "209                                                0.0                                                                             \n",
       "246                                                0.0                                                                             \n",
       "78                                                 0.0                                                                             \n",
       "265                                                0.0                                                                             \n",
       "\n",
       "     k__Eukaryota|p__Basidiomycota|c__Malasseziomycetes|o__Malasseziales|f__Malasseziaceae|g__Malassezia|s__Malassezia_restricta|t__EUK76775  \\\n",
       "181                                                0.0                                                                                         \n",
       "209                                                0.0                                                                                         \n",
       "246                                                0.0                                                                                         \n",
       "78                                                 0.0                                                                                         \n",
       "265                                                0.0                                                                                         \n",
       "\n",
       "     GeneLine  \n",
       "181      high  \n",
       "209      high  \n",
       "246      high  \n",
       "78       high  \n",
       "265      high  \n",
       "\n",
       "[5 rows x 1567 columns]"
      ]
     },
     "execution_count": 85,
     "metadata": {},
     "output_type": "execute_result"
    }
   ],
   "source": [
    "mp_fin.head()"
   ]
  },
  {
   "cell_type": "markdown",
   "id": "9afb0de5-38a0-4706-84eb-199d5e173fb5",
   "metadata": {},
   "source": [
    "### Outlier Analysis"
   ]
  },
  {
   "cell_type": "code",
   "execution_count": 86,
   "id": "bf56f9ac-e46a-4be4-a191-0e739f3b1be8",
   "metadata": {},
   "outputs": [
    {
     "data": {
      "text/plain": [
       "(349, 1567)"
      ]
     },
     "execution_count": 86,
     "metadata": {},
     "output_type": "execute_result"
    }
   ],
   "source": [
    "mp_fin.iloc[:, :].shape"
   ]
  },
  {
   "cell_type": "code",
   "execution_count": 87,
   "id": "f798abc6-7e15-4290-a3f6-95aaee7e955c",
   "metadata": {},
   "outputs": [],
   "source": [
    "# Number of outliers in each column\n",
    "def outliersFnx(data, m = 2.):\n",
    "    d = np.abs(data - np.median(data))\n",
    "    mdev = np.median(d)\n",
    "    s = d/mdev if mdev else np.zeros(len(d))\n",
    "    return len(data[s>m])"
   ]
  },
  {
   "cell_type": "code",
   "execution_count": 88,
   "id": "62073609-f42e-443a-a66d-1a7782593e91",
   "metadata": {},
   "outputs": [],
   "source": [
    "fnx = lambda row: type(row.values)\n",
    "fnx = lambda row: outliersFnx(row.values)\n",
    "outlierCount = mp_fin.iloc[:, :-1].apply(fnx, axis=0).values"
   ]
  },
  {
   "cell_type": "code",
   "execution_count": null,
   "id": "274193bf-c45b-4bfa-af25-b0512d4a23b6",
   "metadata": {},
   "outputs": [],
   "source": []
  },
  {
   "cell_type": "code",
   "execution_count": 89,
   "id": "cd0e7bcd-6b26-451f-9abb-fe531adbf8a2",
   "metadata": {},
   "outputs": [
    {
     "data": {
      "image/png": "[encoded data removed]",
      "text/plain": [
       "<Figure size 1000x500 with 1 Axes>"
      ]
     },
     "metadata": {},
     "output_type": "display_data"
    }
   ],
   "source": [
    "OUTLIER_CUTOFF = 40\n",
    "plt.figure(figsize=(10,5), dpi = 100)\n",
    "sns.histplot(data=outlierCount[outlierCount!=0]*100/(mp_df.shape[1]-1), bins=30)\n",
    "plt.axvline(x=OUTLIER_CUTOFF, color='black', linestyle='--', label='40% Cutoff')\n",
    "plt.legend()\n",
    "plt.title(\"Histogram of % of statistical outliers in each column.\")\n",
    "plt.xlabel(\"% of statistical outliers.\")\n",
    "plt.show()"
   ]
  },
  {
   "cell_type": "markdown",
   "id": "57214443-7091-4b75-9784-ac21c6c26985",
   "metadata": {},
   "source": [
    "The dashed vertical lines represents the cutoff mark, beyond which there are features with more than the cutoff statistical outlier values."
   ]
  },
  {
   "cell_type": "code",
   "execution_count": 90,
   "id": "13af2420-46d1-461d-bdf1-ec028cbe5d46",
   "metadata": {},
   "outputs": [
    {
     "name": "stdout",
     "output_type": "stream",
     "text": [
      "89 out of 1566 features have more than 40% datapoints as statistical outliers.\n"
     ]
    }
   ],
   "source": [
    "var_ = outlierCount*100/(mp_df.shape[1]-1)\n",
    "len(var_[var_>40])\n",
    "\n",
    "print(f\"{len(var_[var_>40])} out of {len(var_)} features have more than {OUTLIER_CUTOFF}% datapoints as statistical outliers.\")"
   ]
  },
  {
   "cell_type": "code",
   "execution_count": 105,
   "id": "b4933667-caa9-46b5-837b-fe786cf4a226",
   "metadata": {},
   "outputs": [],
   "source": [
    "hmap = {'feature':[], 'outlierCount':[], 'outlierCount%':[], 'level':[]}\n",
    "for i,j  in zip(mp_fin.columns, outlierCount):\n",
    "    hmap['feature'].append(i)\n",
    "    hmap['outlierCount'].append(j)\n",
    "    hmap['outlierCount%'].append(j*100/mp_df.shape[1])\n",
    "    hmap['level'].append(len(i.split('|')))\n",
    "    \n",
    "outlierDf = pd.DataFrame(hmap)"
   ]
  },
  {
   "cell_type": "code",
   "execution_count": 109,
   "id": "171223b2-c234-4e47-884e-1c5a14e48105",
   "metadata": {},
   "outputs": [
    {
     "data": {
      "text/plain": [
       "1566"
      ]
     },
     "execution_count": 109,
     "metadata": {},
     "output_type": "execute_result"
    }
   ],
   "source": [
    "len(hmap['feature'])\n",
    "len(outlierCount)"
   ]
  },
  {
   "cell_type": "code",
   "execution_count": 104,
   "id": "9a9c3c30-491b-4208-9986-4025736f3a36",
   "metadata": {},
   "outputs": [
    {
     "data": {
      "text/plain": [
       "1567"
      ]
     },
     "execution_count": 104,
     "metadata": {},
     "output_type": "execute_result"
    }
   ],
   "source": [
    "len(mp_fin.columns)"
   ]
  },
  {
   "cell_type": "code",
   "execution_count": 101,
   "id": "31bfea53-87a6-4ce9-8b94-c08f0990abfa",
   "metadata": {},
   "outputs": [
    {
     "data": {
      "text/plain": [
       "(1566, 4)"
      ]
     },
     "execution_count": 101,
     "metadata": {},
     "output_type": "execute_result"
    }
   ],
   "source": [
    "outlierDf.shape"
   ]
  },
  {
   "cell_type": "code",
   "execution_count": 92,
   "id": "02764627-e5eb-494c-86cd-f8dd019d320e",
   "metadata": {},
   "outputs": [
    {
     "data": {
      "text/html": [
       "<div>\n",
       "<style scoped>\n",
       "    .dataframe tbody tr th:only-of-type {\n",
       "        vertical-align: middle;\n",
       "    }\n",
       "\n",
       "    .dataframe tbody tr th {\n",
       "        vertical-align: top;\n",
       "    }\n",
       "\n",
       "    .dataframe thead th {\n",
       "        text-align: right;\n",
       "    }\n",
       "</style>\n",
       "<table border=\"1\" class=\"dataframe\">\n",
       "  <thead>\n",
       "    <tr style=\"text-align: right;\">\n",
       "      <th></th>\n",
       "      <th>feature</th>\n",
       "      <th>outlierCount</th>\n",
       "      <th>outlierCount%</th>\n",
       "      <th>level</th>\n",
       "    </tr>\n",
       "  </thead>\n",
       "  <tbody>\n",
       "    <tr>\n",
       "      <th>2</th>\n",
       "      <td>k__Bacteria|p__Fusobacteria</td>\n",
       "      <td>148</td>\n",
       "      <td>42.045455</td>\n",
       "      <td>2</td>\n",
       "    </tr>\n",
       "    <tr>\n",
       "      <th>5</th>\n",
       "      <td>k__Bacteria|p__Fusobacteria|c__Fusobacteriia</td>\n",
       "      <td>148</td>\n",
       "      <td>42.045455</td>\n",
       "      <td>3</td>\n",
       "    </tr>\n",
       "    <tr>\n",
       "      <th>10</th>\n",
       "      <td>k__Bacteria|p__Proteobacteria|c__Gammaproteoba...</td>\n",
       "      <td>148</td>\n",
       "      <td>42.045455</td>\n",
       "      <td>4</td>\n",
       "    </tr>\n",
       "    <tr>\n",
       "      <th>11</th>\n",
       "      <td>k__Bacteria|p__Fusobacteria|c__Fusobacteriia|o...</td>\n",
       "      <td>148</td>\n",
       "      <td>42.045455</td>\n",
       "      <td>4</td>\n",
       "    </tr>\n",
       "    <tr>\n",
       "      <th>14</th>\n",
       "      <td>k__Bacteria|p__Proteobacteria|c__Betaproteobac...</td>\n",
       "      <td>150</td>\n",
       "      <td>42.613636</td>\n",
       "      <td>4</td>\n",
       "    </tr>\n",
       "  </tbody>\n",
       "</table>\n",
       "</div>"
      ],
      "text/plain": [
       "                                              feature  outlierCount  \\\n",
       "2                         k__Bacteria|p__Fusobacteria           148   \n",
       "5        k__Bacteria|p__Fusobacteria|c__Fusobacteriia           148   \n",
       "10  k__Bacteria|p__Proteobacteria|c__Gammaproteoba...           148   \n",
       "11  k__Bacteria|p__Fusobacteria|c__Fusobacteriia|o...           148   \n",
       "14  k__Bacteria|p__Proteobacteria|c__Betaproteobac...           150   \n",
       "\n",
       "    outlierCount%  level  \n",
       "2       42.045455      2  \n",
       "5       42.045455      3  \n",
       "10      42.045455      4  \n",
       "11      42.045455      4  \n",
       "14      42.613636      4  "
      ]
     },
     "execution_count": 92,
     "metadata": {},
     "output_type": "execute_result"
    }
   ],
   "source": [
    "outlierDf[outlierDf['outlierCount%']>OUTLIER_CUTOFF].head()"
   ]
  },
  {
   "cell_type": "code",
   "execution_count": 93,
   "id": "8ee6591b-2088-4d43-83b9-314ec5c83389",
   "metadata": {},
   "outputs": [
    {
     "data": {
      "image/png": "[encoded data removed]",
      "text/plain": [
       "<Figure size 1200x400 with 2 Axes>"
      ]
     },
     "metadata": {},
     "output_type": "display_data"
    }
   ],
   "source": [
    "fig, ax = plt.subplots(nrows=1,ncols=2, figsize=(12,4), sharey=False)\n",
    "outlierDf['level'].value_counts().plot(kind='bar', ax=ax[0])\n",
    "outlierDf[outlierDf['outlierCount%']>OUTLIER_CUTOFF]['level'].value_counts().plot(kind='bar', ax=ax[1])\n",
    "\n",
    "ax[0].set_title('Level Distribution')\n",
    "ax[1].set_title('Level Distribution in Outliers')\n",
    "plt.tight_layout()\n",
    "plt.show()"
   ]
  },
  {
   "cell_type": "code",
   "execution_count": 94,
   "id": "ee13cdc8-2c29-4ee8-9cdf-4203d614b360",
   "metadata": {},
   "outputs": [
    {
     "data": {
      "text/html": [
       "<div>\n",
       "<style scoped>\n",
       "    .dataframe tbody tr th:only-of-type {\n",
       "        vertical-align: middle;\n",
       "    }\n",
       "\n",
       "    .dataframe tbody tr th {\n",
       "        vertical-align: top;\n",
       "    }\n",
       "\n",
       "    .dataframe thead th {\n",
       "        text-align: right;\n",
       "    }\n",
       "</style>\n",
       "<table border=\"1\" class=\"dataframe\">\n",
       "  <thead>\n",
       "    <tr style=\"text-align: right;\">\n",
       "      <th></th>\n",
       "      <th>k__Bacteria</th>\n",
       "      <th>k__Bacteria|p__Proteobacteria</th>\n",
       "      <th>k__Bacteria|p__Fusobacteria</th>\n",
       "      <th>k__Bacteria|p__Firmicutes</th>\n",
       "      <th>k__Bacteria|p__Proteobacteria|c__Gammaproteobacteria</th>\n",
       "      <th>k__Bacteria|p__Fusobacteria|c__Fusobacteriia</th>\n",
       "      <th>k__Bacteria|p__Firmicutes|c__Bacilli</th>\n",
       "      <th>k__Bacteria|p__Firmicutes|c__Clostridia</th>\n",
       "      <th>k__Bacteria|p__Proteobacteria|c__Betaproteobacteria</th>\n",
       "      <th>k__Bacteria|p__Firmicutes|c__Tissierellia</th>\n",
       "      <th>...</th>\n",
       "      <th>k__Bacteria|p__Actinobacteria|c__Actinomycetia|o__Corynebacteriales|f__Nocardiaceae|g__Nocardia|s__Nocardia_sp_MH4|t__SGB110840</th>\n",
       "      <th>k__Bacteria|p__Actinobacteria|c__Actinomycetia|o__Micrococcales|f__Micrococcaceae|g__Kocuria|s__Kocuria_rhizophila</th>\n",
       "      <th>k__Bacteria|p__Actinobacteria|c__Actinomycetia|o__Micrococcales|f__Micrococcaceae|g__Kocuria|s__Kocuria_rhizophila|t__SGB16671</th>\n",
       "      <th>k__Eukaryota|p__Basidiomycota</th>\n",
       "      <th>k__Eukaryota|p__Basidiomycota|c__Malasseziomycetes</th>\n",
       "      <th>k__Eukaryota|p__Basidiomycota|c__Malasseziomycetes|o__Malasseziales</th>\n",
       "      <th>k__Eukaryota|p__Basidiomycota|c__Malasseziomycetes|o__Malasseziales|f__Malasseziaceae</th>\n",
       "      <th>k__Eukaryota|p__Basidiomycota|c__Malasseziomycetes|o__Malasseziales|f__Malasseziaceae|g__Malassezia</th>\n",
       "      <th>k__Eukaryota|p__Basidiomycota|c__Malasseziomycetes|o__Malasseziales|f__Malasseziaceae|g__Malassezia|s__Malassezia_restricta</th>\n",
       "      <th>k__Eukaryota|p__Basidiomycota|c__Malasseziomycetes|o__Malasseziales|f__Malasseziaceae|g__Malassezia|s__Malassezia_restricta|t__EUK76775</th>\n",
       "    </tr>\n",
       "    <tr>\n",
       "      <th>GeneLine</th>\n",
       "      <th></th>\n",
       "      <th></th>\n",
       "      <th></th>\n",
       "      <th></th>\n",
       "      <th></th>\n",
       "      <th></th>\n",
       "      <th></th>\n",
       "      <th></th>\n",
       "      <th></th>\n",
       "      <th></th>\n",
       "      <th></th>\n",
       "      <th></th>\n",
       "      <th></th>\n",
       "      <th></th>\n",
       "      <th></th>\n",
       "      <th></th>\n",
       "      <th></th>\n",
       "      <th></th>\n",
       "      <th></th>\n",
       "      <th></th>\n",
       "      <th></th>\n",
       "    </tr>\n",
       "  </thead>\n",
       "  <tbody>\n",
       "    <tr>\n",
       "      <th>high</th>\n",
       "      <td>56.823902</td>\n",
       "      <td>487.603271</td>\n",
       "      <td>1537.609863</td>\n",
       "      <td>1628.704590</td>\n",
       "      <td>417.994049</td>\n",
       "      <td>1537.609863</td>\n",
       "      <td>944.691589</td>\n",
       "      <td>132.519058</td>\n",
       "      <td>96.790024</td>\n",
       "      <td>0.029175</td>\n",
       "      <td>...</td>\n",
       "      <td>0.0</td>\n",
       "      <td>0.000000e+00</td>\n",
       "      <td>0.000000e+00</td>\n",
       "      <td>2.840051e-07</td>\n",
       "      <td>2.840051e-07</td>\n",
       "      <td>2.840051e-07</td>\n",
       "      <td>2.840051e-07</td>\n",
       "      <td>2.840051e-07</td>\n",
       "      <td>2.840051e-07</td>\n",
       "      <td>2.840051e-07</td>\n",
       "    </tr>\n",
       "    <tr>\n",
       "      <th>low</th>\n",
       "      <td>58.872559</td>\n",
       "      <td>492.462982</td>\n",
       "      <td>1539.468018</td>\n",
       "      <td>1597.708618</td>\n",
       "      <td>360.880707</td>\n",
       "      <td>1539.468018</td>\n",
       "      <td>949.266418</td>\n",
       "      <td>178.377350</td>\n",
       "      <td>139.633316</td>\n",
       "      <td>0.023393</td>\n",
       "      <td>...</td>\n",
       "      <td>0.0</td>\n",
       "      <td>1.406705e-08</td>\n",
       "      <td>1.406705e-08</td>\n",
       "      <td>0.000000e+00</td>\n",
       "      <td>0.000000e+00</td>\n",
       "      <td>0.000000e+00</td>\n",
       "      <td>0.000000e+00</td>\n",
       "      <td>0.000000e+00</td>\n",
       "      <td>0.000000e+00</td>\n",
       "      <td>0.000000e+00</td>\n",
       "    </tr>\n",
       "  </tbody>\n",
       "</table>\n",
       "<p>2 rows × 1566 columns</p>\n",
       "</div>"
      ],
      "text/plain": [
       "          k__Bacteria  k__Bacteria|p__Proteobacteria  \\\n",
       "GeneLine                                               \n",
       "high        56.823902                     487.603271   \n",
       "low         58.872559                     492.462982   \n",
       "\n",
       "          k__Bacteria|p__Fusobacteria  k__Bacteria|p__Firmicutes  \\\n",
       "GeneLine                                                           \n",
       "high                      1537.609863                1628.704590   \n",
       "low                       1539.468018                1597.708618   \n",
       "\n",
       "          k__Bacteria|p__Proteobacteria|c__Gammaproteobacteria  \\\n",
       "GeneLine                                                         \n",
       "high                                             417.994049      \n",
       "low                                              360.880707      \n",
       "\n",
       "          k__Bacteria|p__Fusobacteria|c__Fusobacteriia  \\\n",
       "GeneLine                                                 \n",
       "high                                       1537.609863   \n",
       "low                                        1539.468018   \n",
       "\n",
       "          k__Bacteria|p__Firmicutes|c__Bacilli  \\\n",
       "GeneLine                                         \n",
       "high                                944.691589   \n",
       "low                                 949.266418   \n",
       "\n",
       "          k__Bacteria|p__Firmicutes|c__Clostridia  \\\n",
       "GeneLine                                            \n",
       "high                                   132.519058   \n",
       "low                                    178.377350   \n",
       "\n",
       "          k__Bacteria|p__Proteobacteria|c__Betaproteobacteria  \\\n",
       "GeneLine                                                        \n",
       "high                                              96.790024     \n",
       "low                                              139.633316     \n",
       "\n",
       "          k__Bacteria|p__Firmicutes|c__Tissierellia  ...  \\\n",
       "GeneLine                                             ...   \n",
       "high                                       0.029175  ...   \n",
       "low                                        0.023393  ...   \n",
       "\n",
       "          k__Bacteria|p__Actinobacteria|c__Actinomycetia|o__Corynebacteriales|f__Nocardiaceae|g__Nocardia|s__Nocardia_sp_MH4|t__SGB110840  \\\n",
       "GeneLine                                                                                                                                    \n",
       "high                                                    0.0                                                                                 \n",
       "low                                                     0.0                                                                                 \n",
       "\n",
       "          k__Bacteria|p__Actinobacteria|c__Actinomycetia|o__Micrococcales|f__Micrococcaceae|g__Kocuria|s__Kocuria_rhizophila  \\\n",
       "GeneLine                                                                                                                       \n",
       "high                                           0.000000e+00                                                                    \n",
       "low                                            1.406705e-08                                                                    \n",
       "\n",
       "          k__Bacteria|p__Actinobacteria|c__Actinomycetia|o__Micrococcales|f__Micrococcaceae|g__Kocuria|s__Kocuria_rhizophila|t__SGB16671  \\\n",
       "GeneLine                                                                                                                                   \n",
       "high                                           0.000000e+00                                                                                \n",
       "low                                            1.406705e-08                                                                                \n",
       "\n",
       "          k__Eukaryota|p__Basidiomycota  \\\n",
       "GeneLine                                  \n",
       "high                       2.840051e-07   \n",
       "low                        0.000000e+00   \n",
       "\n",
       "          k__Eukaryota|p__Basidiomycota|c__Malasseziomycetes  \\\n",
       "GeneLine                                                       \n",
       "high                                           2.840051e-07    \n",
       "low                                            0.000000e+00    \n",
       "\n",
       "          k__Eukaryota|p__Basidiomycota|c__Malasseziomycetes|o__Malasseziales  \\\n",
       "GeneLine                                                                        \n",
       "high                                           2.840051e-07                     \n",
       "low                                            0.000000e+00                     \n",
       "\n",
       "          k__Eukaryota|p__Basidiomycota|c__Malasseziomycetes|o__Malasseziales|f__Malasseziaceae  \\\n",
       "GeneLine                                                                                          \n",
       "high                                           2.840051e-07                                       \n",
       "low                                            0.000000e+00                                       \n",
       "\n",
       "          k__Eukaryota|p__Basidiomycota|c__Malasseziomycetes|o__Malasseziales|f__Malasseziaceae|g__Malassezia  \\\n",
       "GeneLine                                                                                                        \n",
       "high                                           2.840051e-07                                                     \n",
       "low                                            0.000000e+00                                                     \n",
       "\n",
       "          k__Eukaryota|p__Basidiomycota|c__Malasseziomycetes|o__Malasseziales|f__Malasseziaceae|g__Malassezia|s__Malassezia_restricta  \\\n",
       "GeneLine                                                                                                                                \n",
       "high                                           2.840051e-07                                                                             \n",
       "low                                            0.000000e+00                                                                             \n",
       "\n",
       "          k__Eukaryota|p__Basidiomycota|c__Malasseziomycetes|o__Malasseziales|f__Malasseziaceae|g__Malassezia|s__Malassezia_restricta|t__EUK76775  \n",
       "GeneLine                                                                                                                                           \n",
       "high                                           2.840051e-07                                                                                        \n",
       "low                                            0.000000e+00                                                                                        \n",
       "\n",
       "[2 rows x 1566 columns]"
      ]
     },
     "execution_count": 94,
     "metadata": {},
     "output_type": "execute_result"
    }
   ],
   "source": [
    "# Variance\n",
    "mp_fin.groupby('GeneLine').var()"
   ]
  },
  {
   "cell_type": "code",
   "execution_count": 95,
   "id": "73c9cb65-70ec-4d45-925e-4101409475ba",
   "metadata": {},
   "outputs": [
    {
     "data": {
      "text/html": [
       "<div>\n",
       "<style scoped>\n",
       "    .dataframe tbody tr th:only-of-type {\n",
       "        vertical-align: middle;\n",
       "    }\n",
       "\n",
       "    .dataframe tbody tr th {\n",
       "        vertical-align: top;\n",
       "    }\n",
       "\n",
       "    .dataframe thead th {\n",
       "        text-align: right;\n",
       "    }\n",
       "</style>\n",
       "<table border=\"1\" class=\"dataframe\">\n",
       "  <thead>\n",
       "    <tr style=\"text-align: right;\">\n",
       "      <th>GeneLine</th>\n",
       "      <th>high</th>\n",
       "      <th>low</th>\n",
       "    </tr>\n",
       "  </thead>\n",
       "  <tbody>\n",
       "    <tr>\n",
       "      <th>k__Bacteria|p__Firmicutes|c__Clostridia|o__Eubacteriales|f__Lachnospiraceae|g__Lachnoclostridium|s__Lachnoclostridium_phocaeense|t__SGB4622</th>\n",
       "      <td>0.002094</td>\n",
       "      <td>0.002665</td>\n",
       "    </tr>\n",
       "    <tr>\n",
       "      <th>k__Bacteria|p__Firmicutes|c__Bacilli|o__Lactobacillales|f__Lactobacillaceae|g__Limosilactobacillus|s__Limosilactobacillus_panis|t__SGB7094</th>\n",
       "      <td>0.000004</td>\n",
       "      <td>0.000007</td>\n",
       "    </tr>\n",
       "    <tr>\n",
       "      <th>k__Bacteria|p__Firmicutes|c__Bacilli|o__Lactobacillales|f__Enterococcaceae|g__Vagococcus|s__Vagococcus_fluvialis|t__SGB7918</th>\n",
       "      <td>0.284742</td>\n",
       "      <td>0.262435</td>\n",
       "    </tr>\n",
       "    <tr>\n",
       "      <th>k__Bacteria|p__Actinobacteria|c__Actinomycetia|o__Propionibacteriales|f__Propionibacteriaceae|g__Arachnia|s__Arachnia_propionica|t__SGB15897</th>\n",
       "      <td>0.000000</td>\n",
       "      <td>0.000206</td>\n",
       "    </tr>\n",
       "    <tr>\n",
       "      <th>k__Bacteria|p__Firmicutes|c__Bacilli|o__Bacillales|f__Staphylococcaceae|g__Staphylococcus|s__Staphylococcus_aureus|t__SGB7852</th>\n",
       "      <td>0.000000</td>\n",
       "      <td>0.000263</td>\n",
       "    </tr>\n",
       "  </tbody>\n",
       "</table>\n",
       "</div>"
      ],
      "text/plain": [
       "GeneLine                                                high       low\n",
       "k__Bacteria|p__Firmicutes|c__Clostridia|o__Euba...  0.002094  0.002665\n",
       "k__Bacteria|p__Firmicutes|c__Bacilli|o__Lactoba...  0.000004  0.000007\n",
       "k__Bacteria|p__Firmicutes|c__Bacilli|o__Lactoba...  0.284742  0.262435\n",
       "k__Bacteria|p__Actinobacteria|c__Actinomycetia|...  0.000000  0.000206\n",
       "k__Bacteria|p__Firmicutes|c__Bacilli|o__Bacilla...  0.000000  0.000263"
      ]
     },
     "execution_count": 95,
     "metadata": {},
     "output_type": "execute_result"
    }
   ],
   "source": [
    "LEVEL = 'level7'\n",
    "temp_ = mp_fin.loc[:, familyMap[LEVEL]+['GeneLine']].groupby('GeneLine').mean().T\n",
    "temp_ = temp_[temp_['high']<30]\n",
    "temp_.head()"
   ]
  },
  {
   "cell_type": "code",
   "execution_count": 96,
   "id": "280961f7-f617-4c59-93df-bcc0427ed4e3",
   "metadata": {},
   "outputs": [
    {
     "data": {
      "image/png": "[encoded data removed]",
      "text/plain": [
       "<Figure size 1000x500 with 1 Axes>"
      ]
     },
     "metadata": {},
     "output_type": "display_data"
    }
   ],
   "source": [
    "t_ = 10\n",
    "\n",
    "plt.figure(figsize=(10, 5), dpi = 100)\n",
    "sns.scatterplot(x=temp_['high'], y=temp_['low'])\n",
    "plt.plot([0,t_], [0, t_], ls=':', color='black', linewidth = .9, label='y=x')\n",
    "plt.title(f\"Statistical Shift across both gene lines in {LEVEL} family.\")\n",
    "plt.legend()\n",
    "plt.show()"
   ]
  },
  {
   "cell_type": "code",
   "execution_count": 97,
   "id": "424557f0-ede4-4eb6-9fb1-23fc31a41bb3",
   "metadata": {},
   "outputs": [
    {
     "data": {
      "image/png": "[encoded data removed]",
      "text/plain": [
       "<Figure size 800x400 with 1 Axes>"
      ]
     },
     "metadata": {},
     "output_type": "display_data"
    }
   ],
   "source": [
    "LEVEL = 'full'\n",
    "temp2_ = mp_fin.groupby('GeneLine').median().T\n",
    "temp2Diff_ = (temp2_['high']-temp2_['low'])\n",
    "\n",
    "plt.figure(figsize=(8, 4), dpi = 100)\n",
    "sns.boxplot(data=temp2Diff_, showfliers=True, orient = 'h')\n",
    "\n",
    "plt.title(f\"Boxplot of statistical measure difference across both gene lines in {LEVEL} family.\")\n",
    "plt.show()"
   ]
  },
  {
   "cell_type": "markdown",
   "id": "6b78bc3a-57c7-49c9-8780-865fb0591e3e",
   "metadata": {},
   "source": [
    "We see that several features are present in the outlier region"
   ]
  },
  {
   "cell_type": "code",
   "execution_count": 98,
   "id": "7a80e084-9a3f-4317-a673-344a4e66123e",
   "metadata": {},
   "outputs": [],
   "source": [
    "# temp2_ = mp_fin.groupby('GeneLine').mean().T\n",
    "# temp2_ = mp_fin.groupby('GeneLine').median().T\n",
    "# temp2_ = mp_fin.groupby('GeneLine').var().T\n",
    "# temp2Diff_ = (temp2_['high']-temp2_['low'])\n",
    "\n",
    "# outlierDf = pd.merge(left=outlierDf, right = temp2Diff_.rename(\"statVarDiff\"), left_on='feature', right_index=True)"
   ]
  },
  {
   "cell_type": "markdown",
   "id": "26e24058-9976-410d-83c8-4d575eed2b78",
   "metadata": {},
   "source": [
    "### Mutual Importance"
   ]
  },
  {
   "cell_type": "code",
   "execution_count": 158,
   "id": "f1595530-19a5-456c-836a-3f47ffc39697",
   "metadata": {},
   "outputs": [],
   "source": [
    "from sklearn.feature_selection import mutual_info_classif"
   ]
  },
  {
   "cell_type": "code",
   "execution_count": 175,
   "id": "538519d7-53f1-4ff1-a7b0-f2cffabd163b",
   "metadata": {
    "scrolled": true
   },
   "outputs": [
    {
     "name": "stdout",
     "output_type": "stream",
     "text": [
      "CPU times: user 1.14 s, sys: 16.7 ms, total: 1.15 s\n",
      "Wall time: 1.15 s\n"
     ]
    }
   ],
   "source": [
    "%%time\n",
    "# Mutual Information\n",
    "mi = mutual_info_classif(mp_fin.iloc[:, :-1], mp_fin.iloc[:, -1].replace({'high':1, 'low':0}))"
   ]
  },
  {
   "cell_type": "code",
   "execution_count": 176,
   "id": "18fda64e-2314-4385-ade4-f96bb88e9e86",
   "metadata": {},
   "outputs": [
    {
     "data": {
      "text/plain": [
       "array([0., 0., 0., ..., 0., 0., 0.])"
      ]
     },
     "execution_count": 176,
     "metadata": {},
     "output_type": "execute_result"
    }
   ],
   "source": [
    "outlierDf = outlierDf.assign(mi=mi)"
   ]
  },
  {
   "cell_type": "code",
   "execution_count": 187,
   "id": "8e2f296e-8b3d-4731-a82d-88233e33c73c",
   "metadata": {},
   "outputs": [
    {
     "data": {
      "text/html": [
       "<div>\n",
       "<style scoped>\n",
       "    .dataframe tbody tr th:only-of-type {\n",
       "        vertical-align: middle;\n",
       "    }\n",
       "\n",
       "    .dataframe tbody tr th {\n",
       "        vertical-align: top;\n",
       "    }\n",
       "\n",
       "    .dataframe thead th {\n",
       "        text-align: right;\n",
       "    }\n",
       "</style>\n",
       "<table border=\"1\" class=\"dataframe\">\n",
       "  <thead>\n",
       "    <tr style=\"text-align: right;\">\n",
       "      <th></th>\n",
       "      <th>feature</th>\n",
       "      <th>outlierCount</th>\n",
       "      <th>outlierCount%</th>\n",
       "      <th>level</th>\n",
       "      <th>statMeanDiff</th>\n",
       "      <th>statMedianDiff</th>\n",
       "      <th>statVarDiff</th>\n",
       "      <th>mi</th>\n",
       "    </tr>\n",
       "  </thead>\n",
       "  <tbody>\n",
       "    <tr>\n",
       "      <th>527</th>\n",
       "      <td>k__Bacteria|p__Firmicutes|c__Clostridia|o__Eub...</td>\n",
       "      <td>0</td>\n",
       "      <td>0.0</td>\n",
       "      <td>8</td>\n",
       "      <td>0.000369</td>\n",
       "      <td>0.0</td>\n",
       "      <td>7.716004e-06</td>\n",
       "      <td>0.094469</td>\n",
       "    </tr>\n",
       "    <tr>\n",
       "      <th>505</th>\n",
       "      <td>k__Bacteria|p__Firmicutes|c__Bacilli|o__Lactob...</td>\n",
       "      <td>0</td>\n",
       "      <td>0.0</td>\n",
       "      <td>8</td>\n",
       "      <td>0.001004</td>\n",
       "      <td>0.0</td>\n",
       "      <td>3.729967e-05</td>\n",
       "      <td>0.086969</td>\n",
       "    </tr>\n",
       "    <tr>\n",
       "      <th>1194</th>\n",
       "      <td>k__Bacteria|p__Actinobacteria|c__Actinomycetia...</td>\n",
       "      <td>0</td>\n",
       "      <td>0.0</td>\n",
       "      <td>8</td>\n",
       "      <td>-0.000315</td>\n",
       "      <td>0.0</td>\n",
       "      <td>-1.718797e-05</td>\n",
       "      <td>0.085868</td>\n",
       "    </tr>\n",
       "    <tr>\n",
       "      <th>1362</th>\n",
       "      <td>k__Bacteria|p__Actinobacteria|c__Actinomycetia...</td>\n",
       "      <td>0</td>\n",
       "      <td>0.0</td>\n",
       "      <td>8</td>\n",
       "      <td>-0.000032</td>\n",
       "      <td>0.0</td>\n",
       "      <td>-1.564431e-07</td>\n",
       "      <td>0.080195</td>\n",
       "    </tr>\n",
       "    <tr>\n",
       "      <th>1129</th>\n",
       "      <td>k__Bacteria|p__Firmicutes|c__CFGB1767|o__OFGB1...</td>\n",
       "      <td>0</td>\n",
       "      <td>0.0</td>\n",
       "      <td>6</td>\n",
       "      <td>-0.000010</td>\n",
       "      <td>0.0</td>\n",
       "      <td>-1.872832e-08</td>\n",
       "      <td>0.077262</td>\n",
       "    </tr>\n",
       "    <tr>\n",
       "      <th>...</th>\n",
       "      <td>...</td>\n",
       "      <td>...</td>\n",
       "      <td>...</td>\n",
       "      <td>...</td>\n",
       "      <td>...</td>\n",
       "      <td>...</td>\n",
       "      <td>...</td>\n",
       "      <td>...</td>\n",
       "    </tr>\n",
       "    <tr>\n",
       "      <th>137</th>\n",
       "      <td>k__Bacteria|p__Firmicutes|c__CFGB1677|o__OFGB1677</td>\n",
       "      <td>0</td>\n",
       "      <td>0.0</td>\n",
       "      <td>4</td>\n",
       "      <td>0.000386</td>\n",
       "      <td>0.0</td>\n",
       "      <td>4.972978e-06</td>\n",
       "      <td>0.000230</td>\n",
       "    </tr>\n",
       "    <tr>\n",
       "      <th>1307</th>\n",
       "      <td>k__Bacteria|p__Proteobacteria|c__Alphaproteoba...</td>\n",
       "      <td>0</td>\n",
       "      <td>0.0</td>\n",
       "      <td>8</td>\n",
       "      <td>-0.000937</td>\n",
       "      <td>0.0</td>\n",
       "      <td>-1.519992e-04</td>\n",
       "      <td>0.000176</td>\n",
       "    </tr>\n",
       "    <tr>\n",
       "      <th>348</th>\n",
       "      <td>k__Bacteria|p__Firmicutes|c__Bacilli|o__Bacill...</td>\n",
       "      <td>0</td>\n",
       "      <td>0.0</td>\n",
       "      <td>7</td>\n",
       "      <td>-0.000312</td>\n",
       "      <td>0.0</td>\n",
       "      <td>-3.275426e-06</td>\n",
       "      <td>0.000148</td>\n",
       "    </tr>\n",
       "    <tr>\n",
       "      <th>1288</th>\n",
       "      <td>k__Bacteria|p__Actinobacteria|c__Actinomycetia...</td>\n",
       "      <td>0</td>\n",
       "      <td>0.0</td>\n",
       "      <td>6</td>\n",
       "      <td>-0.000548</td>\n",
       "      <td>0.0</td>\n",
       "      <td>-5.198109e-05</td>\n",
       "      <td>0.000085</td>\n",
       "    </tr>\n",
       "    <tr>\n",
       "      <th>1508</th>\n",
       "      <td>k__Bacteria|p__Proteobacteria|c__Gammaproteoba...</td>\n",
       "      <td>0</td>\n",
       "      <td>0.0</td>\n",
       "      <td>7</td>\n",
       "      <td>-0.000168</td>\n",
       "      <td>0.0</td>\n",
       "      <td>-4.871335e-06</td>\n",
       "      <td>0.000003</td>\n",
       "    </tr>\n",
       "  </tbody>\n",
       "</table>\n",
       "<p>749 rows × 8 columns</p>\n",
       "</div>"
      ],
      "text/plain": [
       "                                                feature  outlierCount  \\\n",
       "527   k__Bacteria|p__Firmicutes|c__Clostridia|o__Eub...             0   \n",
       "505   k__Bacteria|p__Firmicutes|c__Bacilli|o__Lactob...             0   \n",
       "1194  k__Bacteria|p__Actinobacteria|c__Actinomycetia...             0   \n",
       "1362  k__Bacteria|p__Actinobacteria|c__Actinomycetia...             0   \n",
       "1129  k__Bacteria|p__Firmicutes|c__CFGB1767|o__OFGB1...             0   \n",
       "...                                                 ...           ...   \n",
       "137   k__Bacteria|p__Firmicutes|c__CFGB1677|o__OFGB1677             0   \n",
       "1307  k__Bacteria|p__Proteobacteria|c__Alphaproteoba...             0   \n",
       "348   k__Bacteria|p__Firmicutes|c__Bacilli|o__Bacill...             0   \n",
       "1288  k__Bacteria|p__Actinobacteria|c__Actinomycetia...             0   \n",
       "1508  k__Bacteria|p__Proteobacteria|c__Gammaproteoba...             0   \n",
       "\n",
       "      outlierCount%  level  statMeanDiff  statMedianDiff   statVarDiff  \\\n",
       "527             0.0      8      0.000369             0.0  7.716004e-06   \n",
       "505             0.0      8      0.001004             0.0  3.729967e-05   \n",
       "1194            0.0      8     -0.000315             0.0 -1.718797e-05   \n",
       "1362            0.0      8     -0.000032             0.0 -1.564431e-07   \n",
       "1129            0.0      6     -0.000010             0.0 -1.872832e-08   \n",
       "...             ...    ...           ...             ...           ...   \n",
       "137             0.0      4      0.000386             0.0  4.972978e-06   \n",
       "1307            0.0      8     -0.000937             0.0 -1.519992e-04   \n",
       "348             0.0      7     -0.000312             0.0 -3.275426e-06   \n",
       "1288            0.0      6     -0.000548             0.0 -5.198109e-05   \n",
       "1508            0.0      7     -0.000168             0.0 -4.871335e-06   \n",
       "\n",
       "            mi  \n",
       "527   0.094469  \n",
       "505   0.086969  \n",
       "1194  0.085868  \n",
       "1362  0.080195  \n",
       "1129  0.077262  \n",
       "...        ...  \n",
       "137   0.000230  \n",
       "1307  0.000176  \n",
       "348   0.000148  \n",
       "1288  0.000085  \n",
       "1508  0.000003  \n",
       "\n",
       "[749 rows x 8 columns]"
      ]
     },
     "execution_count": 187,
     "metadata": {},
     "output_type": "execute_result"
    }
   ],
   "source": [
    "outlierDf[outlierDf['mi']!=0].sort_values('mi', ascending=False)"
   ]
  },
  {
   "cell_type": "code",
   "execution_count": 190,
   "id": "7d7f6fa9-bf1e-4557-8fef-bc7526cbefb0",
   "metadata": {},
   "outputs": [],
   "source": [
    "# outlierDf.to_csv(\"./metaFishOutlierData.csv\", index=False)"
   ]
  },
  {
   "cell_type": "markdown",
   "id": "e48f672f-0726-491f-8e30-e5edfb917e4a",
   "metadata": {},
   "source": [
    "# Machine Learning\n",
    "\n",
    "Data Creation"
   ]
  },
  {
   "cell_type": "code",
   "execution_count": 119,
   "id": "c623832c-ce1b-4f49-8da8-375f0dcc0733",
   "metadata": {},
   "outputs": [],
   "source": [
    "outlierDf = pd.read_csv(\"./metaFishOutlierData.csv\")\n",
    "mp_df = pd.read_csv(\"./data/mergedMetaPhlanData.csv\")"
   ]
  },
  {
   "cell_type": "code",
   "execution_count": 120,
   "id": "c3163000-7b84-4948-b85d-c52dd2dd5bb3",
   "metadata": {},
   "outputs": [
    {
     "data": {
      "text/html": [
       "<div>\n",
       "<style scoped>\n",
       "    .dataframe tbody tr th:only-of-type {\n",
       "        vertical-align: middle;\n",
       "    }\n",
       "\n",
       "    .dataframe tbody tr th {\n",
       "        vertical-align: top;\n",
       "    }\n",
       "\n",
       "    .dataframe thead th {\n",
       "        text-align: right;\n",
       "    }\n",
       "</style>\n",
       "<table border=\"1\" class=\"dataframe\">\n",
       "  <thead>\n",
       "    <tr style=\"text-align: right;\">\n",
       "      <th></th>\n",
       "      <th>k__Bacteria</th>\n",
       "      <th>k__Bacteria|p__Proteobacteria</th>\n",
       "      <th>k__Bacteria|p__Fusobacteria</th>\n",
       "      <th>k__Bacteria|p__Firmicutes</th>\n",
       "      <th>k__Bacteria|p__Proteobacteria|c__Gammaproteobacteria</th>\n",
       "      <th>k__Bacteria|p__Fusobacteria|c__Fusobacteriia</th>\n",
       "      <th>k__Bacteria|p__Firmicutes|c__Bacilli</th>\n",
       "      <th>k__Bacteria|p__Firmicutes|c__Clostridia</th>\n",
       "      <th>k__Bacteria|p__Proteobacteria|c__Betaproteobacteria</th>\n",
       "      <th>k__Bacteria|p__Firmicutes|c__Tissierellia</th>\n",
       "      <th>...</th>\n",
       "      <th>k__Bacteria|p__Actinobacteria|c__Actinomycetia|o__Micrococcales|f__Micrococcaceae|g__Kocuria|s__Kocuria_rhizophila</th>\n",
       "      <th>k__Bacteria|p__Actinobacteria|c__Actinomycetia|o__Micrococcales|f__Micrococcaceae|g__Kocuria|s__Kocuria_rhizophila|t__SGB16671</th>\n",
       "      <th>k__Eukaryota|p__Basidiomycota</th>\n",
       "      <th>k__Eukaryota|p__Basidiomycota|c__Malasseziomycetes</th>\n",
       "      <th>k__Eukaryota|p__Basidiomycota|c__Malasseziomycetes|o__Malasseziales</th>\n",
       "      <th>k__Eukaryota|p__Basidiomycota|c__Malasseziomycetes|o__Malasseziales|f__Malasseziaceae</th>\n",
       "      <th>k__Eukaryota|p__Basidiomycota|c__Malasseziomycetes|o__Malasseziales|f__Malasseziaceae|g__Malassezia</th>\n",
       "      <th>k__Eukaryota|p__Basidiomycota|c__Malasseziomycetes|o__Malasseziales|f__Malasseziaceae|g__Malassezia|s__Malassezia_restricta</th>\n",
       "      <th>k__Eukaryota|p__Basidiomycota|c__Malasseziomycetes|o__Malasseziales|f__Malasseziaceae|g__Malassezia|s__Malassezia_restricta|t__EUK76775</th>\n",
       "      <th>GeneLine</th>\n",
       "    </tr>\n",
       "  </thead>\n",
       "  <tbody>\n",
       "    <tr>\n",
       "      <th>0</th>\n",
       "      <td>100.00000</td>\n",
       "      <td>96.23163</td>\n",
       "      <td>1.90922</td>\n",
       "      <td>1.85915</td>\n",
       "      <td>95.58687</td>\n",
       "      <td>1.90922</td>\n",
       "      <td>1.11486</td>\n",
       "      <td>0.74234</td>\n",
       "      <td>0.64476</td>\n",
       "      <td>0.00196</td>\n",
       "      <td>...</td>\n",
       "      <td>0.0</td>\n",
       "      <td>0.0</td>\n",
       "      <td>0.0</td>\n",
       "      <td>0.0</td>\n",
       "      <td>0.0</td>\n",
       "      <td>0.0</td>\n",
       "      <td>0.0</td>\n",
       "      <td>0.0</td>\n",
       "      <td>0.0</td>\n",
       "      <td>high</td>\n",
       "    </tr>\n",
       "    <tr>\n",
       "      <th>1</th>\n",
       "      <td>99.97197</td>\n",
       "      <td>1.28278</td>\n",
       "      <td>0.02158</td>\n",
       "      <td>97.78226</td>\n",
       "      <td>0.00000</td>\n",
       "      <td>0.02158</td>\n",
       "      <td>68.89391</td>\n",
       "      <td>27.90214</td>\n",
       "      <td>1.28278</td>\n",
       "      <td>0.60573</td>\n",
       "      <td>...</td>\n",
       "      <td>0.0</td>\n",
       "      <td>0.0</td>\n",
       "      <td>0.0</td>\n",
       "      <td>0.0</td>\n",
       "      <td>0.0</td>\n",
       "      <td>0.0</td>\n",
       "      <td>0.0</td>\n",
       "      <td>0.0</td>\n",
       "      <td>0.0</td>\n",
       "      <td>high</td>\n",
       "    </tr>\n",
       "    <tr>\n",
       "      <th>2</th>\n",
       "      <td>100.00000</td>\n",
       "      <td>2.46132</td>\n",
       "      <td>96.92149</td>\n",
       "      <td>0.47840</td>\n",
       "      <td>1.11736</td>\n",
       "      <td>96.92149</td>\n",
       "      <td>0.32089</td>\n",
       "      <td>0.15752</td>\n",
       "      <td>1.34395</td>\n",
       "      <td>0.00000</td>\n",
       "      <td>...</td>\n",
       "      <td>0.0</td>\n",
       "      <td>0.0</td>\n",
       "      <td>0.0</td>\n",
       "      <td>0.0</td>\n",
       "      <td>0.0</td>\n",
       "      <td>0.0</td>\n",
       "      <td>0.0</td>\n",
       "      <td>0.0</td>\n",
       "      <td>0.0</td>\n",
       "      <td>high</td>\n",
       "    </tr>\n",
       "    <tr>\n",
       "      <th>3</th>\n",
       "      <td>100.00000</td>\n",
       "      <td>4.19295</td>\n",
       "      <td>0.24615</td>\n",
       "      <td>87.89138</td>\n",
       "      <td>0.05299</td>\n",
       "      <td>0.24615</td>\n",
       "      <td>63.51245</td>\n",
       "      <td>24.07249</td>\n",
       "      <td>3.15654</td>\n",
       "      <td>0.19579</td>\n",
       "      <td>...</td>\n",
       "      <td>0.0</td>\n",
       "      <td>0.0</td>\n",
       "      <td>0.0</td>\n",
       "      <td>0.0</td>\n",
       "      <td>0.0</td>\n",
       "      <td>0.0</td>\n",
       "      <td>0.0</td>\n",
       "      <td>0.0</td>\n",
       "      <td>0.0</td>\n",
       "      <td>high</td>\n",
       "    </tr>\n",
       "    <tr>\n",
       "      <th>4</th>\n",
       "      <td>100.00000</td>\n",
       "      <td>0.61851</td>\n",
       "      <td>91.75045</td>\n",
       "      <td>6.77893</td>\n",
       "      <td>0.04970</td>\n",
       "      <td>91.75045</td>\n",
       "      <td>5.07279</td>\n",
       "      <td>1.67751</td>\n",
       "      <td>0.56792</td>\n",
       "      <td>0.02729</td>\n",
       "      <td>...</td>\n",
       "      <td>0.0</td>\n",
       "      <td>0.0</td>\n",
       "      <td>0.0</td>\n",
       "      <td>0.0</td>\n",
       "      <td>0.0</td>\n",
       "      <td>0.0</td>\n",
       "      <td>0.0</td>\n",
       "      <td>0.0</td>\n",
       "      <td>0.0</td>\n",
       "      <td>high</td>\n",
       "    </tr>\n",
       "  </tbody>\n",
       "</table>\n",
       "<p>5 rows × 1567 columns</p>\n",
       "</div>"
      ],
      "text/plain": [
       "   k__Bacteria  k__Bacteria|p__Proteobacteria  k__Bacteria|p__Fusobacteria  \\\n",
       "0    100.00000                       96.23163                      1.90922   \n",
       "1     99.97197                        1.28278                      0.02158   \n",
       "2    100.00000                        2.46132                     96.92149   \n",
       "3    100.00000                        4.19295                      0.24615   \n",
       "4    100.00000                        0.61851                     91.75045   \n",
       "\n",
       "   k__Bacteria|p__Firmicutes  \\\n",
       "0                    1.85915   \n",
       "1                   97.78226   \n",
       "2                    0.47840   \n",
       "3                   87.89138   \n",
       "4                    6.77893   \n",
       "\n",
       "   k__Bacteria|p__Proteobacteria|c__Gammaproteobacteria  \\\n",
       "0                                           95.58687      \n",
       "1                                            0.00000      \n",
       "2                                            1.11736      \n",
       "3                                            0.05299      \n",
       "4                                            0.04970      \n",
       "\n",
       "   k__Bacteria|p__Fusobacteria|c__Fusobacteriia  \\\n",
       "0                                       1.90922   \n",
       "1                                       0.02158   \n",
       "2                                      96.92149   \n",
       "3                                       0.24615   \n",
       "4                                      91.75045   \n",
       "\n",
       "   k__Bacteria|p__Firmicutes|c__Bacilli  \\\n",
       "0                               1.11486   \n",
       "1                              68.89391   \n",
       "2                               0.32089   \n",
       "3                              63.51245   \n",
       "4                               5.07279   \n",
       "\n",
       "   k__Bacteria|p__Firmicutes|c__Clostridia  \\\n",
       "0                                  0.74234   \n",
       "1                                 27.90214   \n",
       "2                                  0.15752   \n",
       "3                                 24.07249   \n",
       "4                                  1.67751   \n",
       "\n",
       "   k__Bacteria|p__Proteobacteria|c__Betaproteobacteria  \\\n",
       "0                                            0.64476     \n",
       "1                                            1.28278     \n",
       "2                                            1.34395     \n",
       "3                                            3.15654     \n",
       "4                                            0.56792     \n",
       "\n",
       "   k__Bacteria|p__Firmicutes|c__Tissierellia  ...  \\\n",
       "0                                    0.00196  ...   \n",
       "1                                    0.60573  ...   \n",
       "2                                    0.00000  ...   \n",
       "3                                    0.19579  ...   \n",
       "4                                    0.02729  ...   \n",
       "\n",
       "   k__Bacteria|p__Actinobacteria|c__Actinomycetia|o__Micrococcales|f__Micrococcaceae|g__Kocuria|s__Kocuria_rhizophila  \\\n",
       "0                                                0.0                                                                    \n",
       "1                                                0.0                                                                    \n",
       "2                                                0.0                                                                    \n",
       "3                                                0.0                                                                    \n",
       "4                                                0.0                                                                    \n",
       "\n",
       "   k__Bacteria|p__Actinobacteria|c__Actinomycetia|o__Micrococcales|f__Micrococcaceae|g__Kocuria|s__Kocuria_rhizophila|t__SGB16671  \\\n",
       "0                                                0.0                                                                                \n",
       "1                                                0.0                                                                                \n",
       "2                                                0.0                                                                                \n",
       "3                                                0.0                                                                                \n",
       "4                                                0.0                                                                                \n",
       "\n",
       "   k__Eukaryota|p__Basidiomycota  \\\n",
       "0                            0.0   \n",
       "1                            0.0   \n",
       "2                            0.0   \n",
       "3                            0.0   \n",
       "4                            0.0   \n",
       "\n",
       "   k__Eukaryota|p__Basidiomycota|c__Malasseziomycetes  \\\n",
       "0                                                0.0    \n",
       "1                                                0.0    \n",
       "2                                                0.0    \n",
       "3                                                0.0    \n",
       "4                                                0.0    \n",
       "\n",
       "   k__Eukaryota|p__Basidiomycota|c__Malasseziomycetes|o__Malasseziales  \\\n",
       "0                                                0.0                     \n",
       "1                                                0.0                     \n",
       "2                                                0.0                     \n",
       "3                                                0.0                     \n",
       "4                                                0.0                     \n",
       "\n",
       "   k__Eukaryota|p__Basidiomycota|c__Malasseziomycetes|o__Malasseziales|f__Malasseziaceae  \\\n",
       "0                                                0.0                                       \n",
       "1                                                0.0                                       \n",
       "2                                                0.0                                       \n",
       "3                                                0.0                                       \n",
       "4                                                0.0                                       \n",
       "\n",
       "   k__Eukaryota|p__Basidiomycota|c__Malasseziomycetes|o__Malasseziales|f__Malasseziaceae|g__Malassezia  \\\n",
       "0                                                0.0                                                     \n",
       "1                                                0.0                                                     \n",
       "2                                                0.0                                                     \n",
       "3                                                0.0                                                     \n",
       "4                                                0.0                                                     \n",
       "\n",
       "   k__Eukaryota|p__Basidiomycota|c__Malasseziomycetes|o__Malasseziales|f__Malasseziaceae|g__Malassezia|s__Malassezia_restricta  \\\n",
       "0                                                0.0                                                                             \n",
       "1                                                0.0                                                                             \n",
       "2                                                0.0                                                                             \n",
       "3                                                0.0                                                                             \n",
       "4                                                0.0                                                                             \n",
       "\n",
       "   k__Eukaryota|p__Basidiomycota|c__Malasseziomycetes|o__Malasseziales|f__Malasseziaceae|g__Malassezia|s__Malassezia_restricta|t__EUK76775  \\\n",
       "0                                                0.0                                                                                         \n",
       "1                                                0.0                                                                                         \n",
       "2                                                0.0                                                                                         \n",
       "3                                                0.0                                                                                         \n",
       "4                                                0.0                                                                                         \n",
       "\n",
       "   GeneLine  \n",
       "0      high  \n",
       "1      high  \n",
       "2      high  \n",
       "3      high  \n",
       "4      high  \n",
       "\n",
       "[5 rows x 1567 columns]"
      ]
     },
     "execution_count": 120,
     "metadata": {},
     "output_type": "execute_result"
    }
   ],
   "source": [
    "mp_df.head()"
   ]
  },
  {
   "cell_type": "code",
   "execution_count": 121,
   "id": "92778ad9-9ff3-47e8-b515-93fa57e85653",
   "metadata": {},
   "outputs": [],
   "source": [
    "def genDataFnx(columns='full', scale=None, test_size=0.3, stratify=False, SEED=SEED, data=mp_df):\n",
    "    '''\n",
    "    args\n",
    "    data: input dataframe. default mp_df\n",
    "    columns: columns to consider. default 'full'. inputs list.\n",
    "    scale: scaling strategy. default None. inputs 'standard', 'minmax'.\n",
    "    test_size: data split test size. defaults 0.3. inputs float, None (no train test split).\n",
    "    stratify: stratify strategy. defaults False. On labels if True.\n",
    "    SEED: random state SEED\n",
    "    '''\n",
    "    dataModel = mp_df.copy()\n",
    "    dataModel.replace({'GeneLine':{'high':1, 'low':0}}, inplace=True)\n",
    "\n",
    "    if columns == 'full':\n",
    "        xdata, ydata = dataModel.iloc[:,:-1], dataModel.iloc[:,-1]\n",
    "    else:\n",
    "        xdata, ydata = dataModel.loc[:,columns], dataModel.iloc[:,-1]\n",
    "    sca = None\n",
    "    if scale=='standard':\n",
    "        sca = StandardScaler()\n",
    "        xdata = sca.fit_transform(xdata)\n",
    "    elif scale=='minmax':\n",
    "        sca = MinMaxScaler()\n",
    "        xdata = sca.fit_transform(xdata)\n",
    "\n",
    "    if test_size==None:\n",
    "        return np.array(xdata), np.array(ydata)\n",
    "\n",
    "    if stratify==False:\n",
    "        xstrain, xstest, ytrain, ytest = train_test_split(xdata, ydata, test_size=test_size, random_state=SEED)\n",
    "    else:\n",
    "        xstrain, xstest, ytrain, ytest = train_test_split(xdata, ydata, test_size=test_size, stratify=ydata, random_state=SEED)\n",
    "    \n",
    "    xstrain, xstest = np.array(xstrain), np.array(xstest)\n",
    "    del dataModel, xdata, ydata\n",
    "    gc.collect()\n",
    "    return xstrain, xstest, ytrain, ytest, sca\n",
    "\n",
    "xtrain, xtest, ytrain, ytest, _ = genDataFnx()"
   ]
  },
  {
   "cell_type": "code",
   "execution_count": 122,
   "id": "55ede20b-eda2-4c79-9722-f019487e46fc",
   "metadata": {},
   "outputs": [],
   "source": [
    "def resultAnalysisFnx(ytrue,ypred,target_names=None):\n",
    "    if target_names != None:\n",
    "        print(classification_report(ytrue,ypred,target_names = target_names, zero_division=0))\n",
    "    else:\n",
    "        print(classification_report(ytrue,ypred, zero_division=0))\n",
    "\n",
    "    conf_matrix = confusion_matrix(ytrue, ypred)\n",
    "    plt.figure(figsize=(4, 3))\n",
    "    if target_names != None:\n",
    "        sns.heatmap(conf_matrix/np.sum(conf_matrix), annot=True, fmt='.2%', cmap='Blues', cbar=False, xticklabels=target_names,yticklabels=target_names, linewidths=0.8, linecolor='black')\n",
    "    else:\n",
    "        sns.heatmap(conf_matrix/np.sum(conf_matrix), annot=True, fmt='.2%', cmap='Blues', cbar=False, linewidths=0.8, linecolor='black', xticklabels=True, yticklabels=True)\n",
    "\n",
    "    # sns.heatmap(conf_matrix, annot=True, fmt='d', cmap='Blues', cbar=False)\n",
    "    plt.xlabel('Predicted')\n",
    "    plt.ylabel('Actual')\n",
    "    plt.title('Confusion Matrix')\n",
    "    plt.show()\n",
    "\n",
    "    return classification_report(ytrue,ypred,output_dict=True, zero_division=0)"
   ]
  },
  {
   "cell_type": "code",
   "execution_count": 123,
   "id": "502f4041-bade-46b1-a5fd-9ae7d600f9f2",
   "metadata": {},
   "outputs": [],
   "source": [
    "TARGETNAMES = ['low', 'high']"
   ]
  },
  {
   "cell_type": "markdown",
   "id": "5719ea7d-7a5b-4071-b7d9-b415de0b5c65",
   "metadata": {},
   "source": [
    "## Naive Bayes - Gaussian"
   ]
  },
  {
   "cell_type": "code",
   "execution_count": 124,
   "id": "980d2070-f3ab-45a7-ac52-f65d85bb7d7b",
   "metadata": {},
   "outputs": [],
   "source": [
    "from sklearn.naive_bayes import GaussianNB"
   ]
  },
  {
   "cell_type": "code",
   "execution_count": 125,
   "id": "8f50d121-a223-4fff-a7a2-b8bab8f4b03e",
   "metadata": {},
   "outputs": [],
   "source": [
    "xtrain, xtest, ytrain, ytest, _ = genDataFnx(scale=None)"
   ]
  },
  {
   "cell_type": "code",
   "execution_count": 126,
   "id": "2bf85103-7652-44ae-a713-9e288409ffde",
   "metadata": {},
   "outputs": [
    {
     "name": "stdout",
     "output_type": "stream",
     "text": [
      "CPU times: user 11.2 ms, sys: 4.95 ms, total: 16.1 ms\n",
      "Wall time: 13.2 ms\n"
     ]
    }
   ],
   "source": [
    "%%time\n",
    "gnb = GaussianNB()\n",
    "gnb.fit(xtrain, ytrain)\n",
    "\n",
    "ypred = gnb.predict(xtest)"
   ]
  },
  {
   "cell_type": "code",
   "execution_count": 127,
   "id": "4573492d-7645-44b4-85ff-ae29646be2fa",
   "metadata": {},
   "outputs": [
    {
     "data": {
      "text/plain": [
       "GeneLine\n",
       "0    57\n",
       "1    48\n",
       "Name: count, dtype: int64"
      ]
     },
     "execution_count": 127,
     "metadata": {},
     "output_type": "execute_result"
    }
   ],
   "source": [
    "ytest.value_counts()"
   ]
  },
  {
   "cell_type": "code",
   "execution_count": 128,
   "id": "b90cc799-d7df-4126-bc2b-e159984a968c",
   "metadata": {},
   "outputs": [
    {
     "name": "stdout",
     "output_type": "stream",
     "text": [
      "              precision    recall  f1-score   support\n",
      "\n",
      "         low       0.60      0.21      0.31        57\n",
      "        high       0.47      0.83      0.60        48\n",
      "\n",
      "    accuracy                           0.50       105\n",
      "   macro avg       0.54      0.52      0.46       105\n",
      "weighted avg       0.54      0.50      0.44       105\n",
      "\n"
     ]
    },
    {
     "data": {
      "image/png": "[encoded data removed]",
      "text/plain": [
       "<Figure size 400x300 with 1 Axes>"
      ]
     },
     "metadata": {},
     "output_type": "display_data"
    }
   ],
   "source": [
    "_ = resultAnalysisFnx(ytest, ypred, target_names=TARGETNAMES)"
   ]
  },
  {
   "cell_type": "markdown",
   "id": "2b3870bd-e384-4403-8ed3-6d91c7eb047d",
   "metadata": {},
   "source": [
    "### KFold CV"
   ]
  },
  {
   "cell_type": "code",
   "execution_count": 129,
   "id": "7dfbb01a-8658-4924-bde8-c0ebb37585ba",
   "metadata": {},
   "outputs": [],
   "source": [
    "xdata, ydata = genDataFnx(test_size=None)\n",
    "\n",
    "gnbK = GaussianNB()"
   ]
  },
  {
   "cell_type": "code",
   "execution_count": 130,
   "id": "e73158c7-33fc-4a39-9d8f-f6ff48113c04",
   "metadata": {},
   "outputs": [
    {
     "name": "stdout",
     "output_type": "stream",
     "text": [
      "Average 0.52% accuracy with a standard deviation of 0.08 for 10 folds.\n"
     ]
    }
   ],
   "source": [
    "CV = 10\n",
    "scores = cross_val_score(gnbK, xdata, ydata, cv=5)\n",
    "print(f\"Average {scores.mean():.2f}% accuracy with a standard deviation of {scores.std():.2f} for {CV} folds.\")"
   ]
  },
  {
   "cell_type": "markdown",
   "id": "62a0f194-e019-4407-a896-6bf7c5f6a801",
   "metadata": {},
   "source": [
    "### MI FeaImp Columns"
   ]
  },
  {
   "cell_type": "code",
   "execution_count": 157,
   "id": "4236ea27-4c8d-481d-93e3-8f0021e15b47",
   "metadata": {},
   "outputs": [],
   "source": [
    "colExp = outlierDf[outlierDf['mi']!=0]['feature'].values\n",
    "\n",
    "xtrainE, xtestE, ytrainE, ytestE, _ = genDataFnx(scale=None)"
   ]
  },
  {
   "cell_type": "code",
   "execution_count": null,
   "id": "014bf12e-8e06-4c29-bbaf-ecbe460153ac",
   "metadata": {},
   "outputs": [],
   "source": [
    "%%time\n",
    "gnb = GaussianNB()\n",
    "gnb.fit(xtrain, ytrain)\n",
    "\n",
    "ypred = gnb.predict(xtest)"
   ]
  },
  {
   "cell_type": "code",
   "execution_count": null,
   "id": "16c42aca-5dd1-451f-bfac-dc0846b7d0e9",
   "metadata": {},
   "outputs": [],
   "source": []
  },
  {
   "cell_type": "markdown",
   "id": "1a869f3a-9ac5-4232-89cc-8cab602d1b0d",
   "metadata": {},
   "source": [
    "## Logistic Regression"
   ]
  },
  {
   "cell_type": "code",
   "execution_count": 131,
   "id": "8941d7ad-65d2-407a-a3ae-dee44e7401ab",
   "metadata": {},
   "outputs": [],
   "source": [
    "from sklearn.linear_model import LogisticRegression\n",
    "xtrain, xtest, ytrain, ytest, _ = genDataFnx(scale='standard')"
   ]
  },
  {
   "cell_type": "code",
   "execution_count": 132,
   "id": "cdd17269-8ca1-4423-843b-f4f4294e2ee4",
   "metadata": {},
   "outputs": [
    {
     "name": "stdout",
     "output_type": "stream",
     "text": [
      "CPU times: user 397 ms, sys: 10.8 ms, total: 408 ms\n",
      "Wall time: 67 ms\n"
     ]
    }
   ],
   "source": [
    "%%time\n",
    "logres = LogisticRegression(random_state=SEED)\n",
    "\n",
    "logres.fit(xtrain, ytrain)\n",
    "\n",
    "ypred = logres.predict(xtest)"
   ]
  },
  {
   "cell_type": "code",
   "execution_count": 133,
   "id": "a7bcbfb2-0e9c-4c8e-88d1-a36f8e8284a3",
   "metadata": {},
   "outputs": [
    {
     "name": "stdout",
     "output_type": "stream",
     "text": [
      "              precision    recall  f1-score   support\n",
      "\n",
      "         low       0.65      0.42      0.51        57\n",
      "        high       0.51      0.73      0.60        48\n",
      "\n",
      "    accuracy                           0.56       105\n",
      "   macro avg       0.58      0.58      0.56       105\n",
      "weighted avg       0.59      0.56      0.55       105\n",
      "\n"
     ]
    },
    {
     "data": {
      "image/png": "[encoded data removed]",
      "text/plain": [
       "<Figure size 400x300 with 1 Axes>"
      ]
     },
     "metadata": {},
     "output_type": "display_data"
    }
   ],
   "source": [
    "_ = resultAnalysisFnx(ytest, ypred, target_names=TARGETNAMES)"
   ]
  },
  {
   "cell_type": "markdown",
   "id": "c89083e5-e55f-4e05-bc16-60335d38a0a2",
   "metadata": {},
   "source": [
    "### Feature Importance"
   ]
  },
  {
   "cell_type": "code",
   "execution_count": 134,
   "id": "b02dd5c4-7383-4b9d-b57a-2ab82bfc7bc4",
   "metadata": {},
   "outputs": [],
   "source": [
    "feature_importance = logres.coef_[0]"
   ]
  },
  {
   "cell_type": "code",
   "execution_count": 144,
   "id": "2477d3db-55b7-47a0-aad8-b32ae7fe568d",
   "metadata": {},
   "outputs": [],
   "source": [
    "odf_temp = outlierDf.assign(logresFeaImp = feature_importance)"
   ]
  },
  {
   "cell_type": "code",
   "execution_count": 154,
   "id": "f5c9cc51-7a9a-4285-bf77-33790d595910",
   "metadata": {},
   "outputs": [
    {
     "data": {
      "image/png": "[encoded data removed]",
      "text/plain": [
       "<Figure size 800x400 with 1 Axes>"
      ]
     },
     "metadata": {},
     "output_type": "display_data"
    }
   ],
   "source": [
    "plt.figure(figsize=(8, 4), dpi = 100)\n",
    "sns.histplot(data=odf_temp['logresFeaImp'], binwidth=0.01)\n",
    "\n",
    "plt.title(f\"Distribution of feature importances.\")\n",
    "plt.show()"
   ]
  },
  {
   "cell_type": "code",
   "execution_count": 151,
   "id": "8a0083a1-8f64-4685-9e06-96bdbf81b848",
   "metadata": {},
   "outputs": [
    {
     "data": {
      "text/plain": [
       "count    1566.000000\n",
       "mean       -0.005774\n",
       "std         0.100956\n",
       "min        -0.474397\n",
       "25%        -0.035989\n",
       "50%        -0.002744\n",
       "75%         0.033778\n",
       "max         0.662211\n",
       "Name: logresFeaImp, dtype: float64"
      ]
     },
     "execution_count": 151,
     "metadata": {},
     "output_type": "execute_result"
    }
   ],
   "source": [
    "odf_temp['logresFeaImp'].describe()"
   ]
  },
  {
   "cell_type": "code",
   "execution_count": 147,
   "id": "2e1b9f51-d063-4348-82f1-bf8cfa80d5a1",
   "metadata": {},
   "outputs": [
    {
     "data": {
      "text/plain": [
       "(1566, 9)"
      ]
     },
     "execution_count": 147,
     "metadata": {},
     "output_type": "execute_result"
    }
   ],
   "source": [
    "odf_temp[odf_temp['logresFeaImp']!=0]['logresFeaImp']\n"
   ]
  },
  {
   "cell_type": "markdown",
   "id": "f075d1ba-a4e1-4ae4-b4ca-84db86f50a09",
   "metadata": {},
   "source": [
    "### KFold CV"
   ]
  },
  {
   "cell_type": "code",
   "execution_count": 137,
   "id": "f792d54b-d548-491f-bf9b-c42976aeecf8",
   "metadata": {},
   "outputs": [
    {
     "name": "stdout",
     "output_type": "stream",
     "text": [
      "Average 0.54% accuracy with a standard deviation of 0.08 for 10 folds.\n"
     ]
    }
   ],
   "source": [
    "xdata, ydata = genDataFnx(scale='standard', test_size=None)\n",
    "\n",
    "logresK = LogisticRegression(random_state=SEED)\n",
    "\n",
    "CV = 10\n",
    "scores = cross_val_score(logresK, xdata, ydata, cv=5)\n",
    "print(f\"Average {scores.mean():.2f}% accuracy with a standard deviation of {scores.std():.2f} for {CV} folds.\")"
   ]
  },
  {
   "cell_type": "markdown",
   "id": "38fd0388-058b-43c1-a245-9d903d6173b0",
   "metadata": {},
   "source": [
    "## Decision Tree"
   ]
  },
  {
   "cell_type": "code",
   "execution_count": null,
   "id": "d973a20c-7e51-4995-b01f-27a8ed01d884",
   "metadata": {},
   "outputs": [],
   "source": []
  },
  {
   "cell_type": "code",
   "execution_count": null,
   "id": "da9a3103-7184-4d97-9d53-74262665aec6",
   "metadata": {},
   "outputs": [],
   "source": []
  },
  {
   "cell_type": "code",
   "execution_count": null,
   "id": "79926fb4-489f-4171-a1af-fe7177a2c39f",
   "metadata": {},
   "outputs": [],
   "source": []
  },
  {
   "cell_type": "code",
   "execution_count": null,
   "id": "e486c57f-10ca-4a45-9eb3-ccb1a58f126b",
   "metadata": {},
   "outputs": [],
   "source": []
  },
  {
   "cell_type": "code",
   "execution_count": null,
   "id": "91931932-6207-4a6b-ab9d-34ee9e1e6cdf",
   "metadata": {},
   "outputs": [],
   "source": []
  },
  {
   "cell_type": "code",
   "execution_count": null,
   "id": "f63f6211-a397-4a20-b242-95db5e41a0cb",
   "metadata": {},
   "outputs": [],
   "source": []
  }
 ],
 "metadata": {
  "kernelspec": {
   "display_name": "Python 3 (ipykernel)",
   "language": "python",
   "name": "python3"
  },
  "language_info": {
   "codemirror_mode": {
    "name": "ipython",
    "version": 3
   },
   "file_extension": ".py",
   "mimetype": "text/x-python",
   "name": "python",
   "nbconvert_exporter": "python",
   "pygments_lexer": "ipython3",
   "version": "3.11.11"
  }
 },
 "nbformat": 4,
 "nbformat_minor": 5
}
