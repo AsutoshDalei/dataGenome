{
 "cells": [
  {
   "cell_type": "markdown",
   "id": "a2ed642d-aef6-4b5a-8833-69e46d6894c0",
   "metadata": {},
   "source": [
    "# Rainbow Trout Genome Exploration\n",
    "This study demonstrates a new method for determining the sex of rainbow trout using genetic information and machine learning."
   ]
  },
  {
   "cell_type": "markdown",
   "id": "fae855ef-d595-41e2-a9f0-a9fdd54db9ca",
   "metadata": {},
   "source": [
    "## Importing necessary packages"
   ]
  },
  {
   "cell_type": "code",
   "execution_count": 1,
   "id": "64fe9caa-1b3d-4567-9dfb-e4f7884a9f01",
   "metadata": {},
   "outputs": [
    {
     "data": {
      "application/javascript": [
       "IPython.notebook.set_autosave_interval(30000)"
      ]
     },
     "metadata": {},
     "output_type": "display_data"
    },
    {
     "name": "stdout",
     "output_type": "stream",
     "text": [
      "Autosaving every 30 seconds\n"
     ]
    }
   ],
   "source": [
    "import os\n",
    "\n",
    "import pandas as pd\n",
    "import numpy as np\n",
    "import matplotlib.pyplot as plt\n",
    "%matplotlib inline\n",
    "import seaborn as sns\n",
    "\n",
    "%autosave 30"
   ]
  },
  {
   "cell_type": "markdown",
   "id": "4214c624-4966-4ee5-bf97-4aaabc4ad128",
   "metadata": {},
   "source": [
    "## Data\n",
    "The information regarding the data in the paper mentions that the first column is the target column, indication of the gender of the rainbow trout fish.\n",
    "* Male : 0\n",
    "* Female : 1\n",
    "\n",
    "The remaining columns are the SNPs of the rainbow trout. There is a _unified error rate (in %)_ across all SNPs, indicated by the number at the end of the data file's name. A _unified error rate_ across all SNPs means that the same percentage of genotyping errors was applied to every single nucleotide polymorphism (SNP) marker in the dataset.\n",
    "\n",
    "For the Sim_5 dataset, a 5% unified error rate was used. This means that for each of the 15 SNP markers:\n",
    "* 5% of the non-missing genotypes were randomly selected to deviate from the ground truth model.\n",
    "* The same 5% error rate was applied consistently across all 15 SNPs.\n",
    "\n",
    "Additionally, a few samples with missing SNP information were selected randomly. The missing SNP genotypes were coded as 5."
   ]
  },
  {
   "cell_type": "code",
   "execution_count": 2,
   "id": "5f1eb8da-306c-407e-9bfe-26b050357acd",
   "metadata": {},
   "outputs": [
    {
     "name": "stdout",
     "output_type": "stream",
     "text": [
      "Available Data:\n"
     ]
    },
    {
     "data": {
      "text/plain": [
       "['sim_random.dat', 'sim_5.dat', 'sim_real.dat', 'sim_50.dat']"
      ]
     },
     "execution_count": 2,
     "metadata": {},
     "output_type": "execute_result"
    }
   ],
   "source": [
    "print(\"Available Data:\")\n",
    "os.listdir(\"./data\")"
   ]
  },
  {
   "cell_type": "code",
   "execution_count": 8,
   "id": "8198f0d5-a6da-4ead-9b12-2315a97fc914",
   "metadata": {},
   "outputs": [],
   "source": [
    "# List of column names\n",
    "# GN: Gender, M{i}: Marker{i} for i:(1,15)\n",
    "columnName = ['GN'] + [f'M{i}' for i in range(1,16)]"
   ]
  },
  {
   "cell_type": "code",
   "execution_count": 39,
   "id": "c20822d5-3e1c-4708-a883-3f17395b8148",
   "metadata": {},
   "outputs": [
    {
     "name": "stdout",
     "output_type": "stream",
     "text": [
      "Shape of data: (14010, 16)\n"
     ]
    },
    {
     "data": {
      "text/html": [
       "<div>\n",
       "<style scoped>\n",
       "    .dataframe tbody tr th:only-of-type {\n",
       "        vertical-align: middle;\n",
       "    }\n",
       "\n",
       "    .dataframe tbody tr th {\n",
       "        vertical-align: top;\n",
       "    }\n",
       "\n",
       "    .dataframe thead th {\n",
       "        text-align: right;\n",
       "    }\n",
       "</style>\n",
       "<table border=\"1\" class=\"dataframe\">\n",
       "  <thead>\n",
       "    <tr style=\"text-align: right;\">\n",
       "      <th></th>\n",
       "      <th>GN</th>\n",
       "      <th>M1</th>\n",
       "      <th>M2</th>\n",
       "      <th>M3</th>\n",
       "      <th>M4</th>\n",
       "      <th>M5</th>\n",
       "      <th>M6</th>\n",
       "      <th>M7</th>\n",
       "      <th>M8</th>\n",
       "      <th>M9</th>\n",
       "      <th>M10</th>\n",
       "      <th>M11</th>\n",
       "      <th>M12</th>\n",
       "      <th>M13</th>\n",
       "      <th>M14</th>\n",
       "      <th>M15</th>\n",
       "    </tr>\n",
       "  </thead>\n",
       "  <tbody>\n",
       "    <tr>\n",
       "      <th>0</th>\n",
       "      <td>1</td>\n",
       "      <td>2.0</td>\n",
       "      <td>2.0</td>\n",
       "      <td>2.0</td>\n",
       "      <td>2.0</td>\n",
       "      <td>2.0</td>\n",
       "      <td>2.0</td>\n",
       "      <td>2.0</td>\n",
       "      <td>2.0</td>\n",
       "      <td>2.0</td>\n",
       "      <td>2.0</td>\n",
       "      <td>1.0</td>\n",
       "      <td>1.0</td>\n",
       "      <td>2.0</td>\n",
       "      <td>2.0</td>\n",
       "      <td>2.0</td>\n",
       "    </tr>\n",
       "    <tr>\n",
       "      <th>1</th>\n",
       "      <td>0</td>\n",
       "      <td>1.0</td>\n",
       "      <td>NaN</td>\n",
       "      <td>1.0</td>\n",
       "      <td>1.0</td>\n",
       "      <td>2.0</td>\n",
       "      <td>1.0</td>\n",
       "      <td>1.0</td>\n",
       "      <td>1.0</td>\n",
       "      <td>1.0</td>\n",
       "      <td>1.0</td>\n",
       "      <td>1.0</td>\n",
       "      <td>1.0</td>\n",
       "      <td>NaN</td>\n",
       "      <td>1.0</td>\n",
       "      <td>1.0</td>\n",
       "    </tr>\n",
       "    <tr>\n",
       "      <th>2</th>\n",
       "      <td>1</td>\n",
       "      <td>NaN</td>\n",
       "      <td>2.0</td>\n",
       "      <td>2.0</td>\n",
       "      <td>2.0</td>\n",
       "      <td>2.0</td>\n",
       "      <td>2.0</td>\n",
       "      <td>2.0</td>\n",
       "      <td>1.0</td>\n",
       "      <td>2.0</td>\n",
       "      <td>2.0</td>\n",
       "      <td>2.0</td>\n",
       "      <td>2.0</td>\n",
       "      <td>2.0</td>\n",
       "      <td>2.0</td>\n",
       "      <td>2.0</td>\n",
       "    </tr>\n",
       "    <tr>\n",
       "      <th>3</th>\n",
       "      <td>1</td>\n",
       "      <td>NaN</td>\n",
       "      <td>2.0</td>\n",
       "      <td>2.0</td>\n",
       "      <td>2.0</td>\n",
       "      <td>2.0</td>\n",
       "      <td>2.0</td>\n",
       "      <td>2.0</td>\n",
       "      <td>2.0</td>\n",
       "      <td>2.0</td>\n",
       "      <td>2.0</td>\n",
       "      <td>2.0</td>\n",
       "      <td>2.0</td>\n",
       "      <td>2.0</td>\n",
       "      <td>2.0</td>\n",
       "      <td>2.0</td>\n",
       "    </tr>\n",
       "    <tr>\n",
       "      <th>4</th>\n",
       "      <td>1</td>\n",
       "      <td>2.0</td>\n",
       "      <td>2.0</td>\n",
       "      <td>2.0</td>\n",
       "      <td>2.0</td>\n",
       "      <td>2.0</td>\n",
       "      <td>2.0</td>\n",
       "      <td>2.0</td>\n",
       "      <td>2.0</td>\n",
       "      <td>2.0</td>\n",
       "      <td>1.0</td>\n",
       "      <td>2.0</td>\n",
       "      <td>2.0</td>\n",
       "      <td>2.0</td>\n",
       "      <td>NaN</td>\n",
       "      <td>2.0</td>\n",
       "    </tr>\n",
       "  </tbody>\n",
       "</table>\n",
       "</div>"
      ],
      "text/plain": [
       "   GN   M1   M2   M3   M4   M5   M6   M7   M8   M9  M10  M11  M12  M13  M14  \\\n",
       "0   1  2.0  2.0  2.0  2.0  2.0  2.0  2.0  2.0  2.0  2.0  1.0  1.0  2.0  2.0   \n",
       "1   0  1.0  NaN  1.0  1.0  2.0  1.0  1.0  1.0  1.0  1.0  1.0  1.0  NaN  1.0   \n",
       "2   1  NaN  2.0  2.0  2.0  2.0  2.0  2.0  1.0  2.0  2.0  2.0  2.0  2.0  2.0   \n",
       "3   1  NaN  2.0  2.0  2.0  2.0  2.0  2.0  2.0  2.0  2.0  2.0  2.0  2.0  2.0   \n",
       "4   1  2.0  2.0  2.0  2.0  2.0  2.0  2.0  2.0  2.0  1.0  2.0  2.0  2.0  NaN   \n",
       "\n",
       "   M15  \n",
       "0  2.0  \n",
       "1  1.0  \n",
       "2  2.0  \n",
       "3  2.0  \n",
       "4  2.0  "
      ]
     },
     "execution_count": 39,
     "metadata": {},
     "output_type": "execute_result"
    }
   ],
   "source": [
    "dataPath = \"./data/sim_5.dat\"\n",
    "\n",
    "data = pd.read_csv(dataPath, header = None, sep=',', names=columnName)\n",
    "# Replacing 5 with np.NaN\n",
    "data.replace(5, np.nan, inplace=True)\n",
    "print(f\"Shape of data: {data.shape}\")\n",
    "data.head()"
   ]
  },
  {
   "cell_type": "code",
   "execution_count": 37,
   "id": "2738a73f-df45-40fd-ae43-208c25a3622b",
   "metadata": {},
   "outputs": [
    {
     "name": "stdout",
     "output_type": "stream",
     "text": [
      "Number of rows with a missing SNP in their sequence: 7520 \n",
      "Total numer of sequences: 14010\n",
      "\n",
      "Ratio to missing sequences: 53.675945753033545 %\n"
     ]
    }
   ],
   "source": [
    "print(f\"Number of rows with a missing SNP in their sequence: {data[data.isna().any(axis=1)].shape[0]} \")\n",
    "print(f\"Total numer of sequences: {data.shape[0]}\\n\")\n",
    "print(f\"Ratio to missing sequences: {data[data.isna().any(axis=1)].shape[0]*100/data.shape[0]} %\")"
   ]
  },
  {
   "cell_type": "markdown",
   "id": "5f14d437-291d-460a-9bc7-07f2638266c9",
   "metadata": {},
   "source": [
    "More that 50% of the data samples have atleast one missing SNP."
   ]
  },
  {
   "cell_type": "markdown",
   "id": "228ff627-ad8a-4673-8fbc-ca608b5e2749",
   "metadata": {},
   "source": [
    "## Exploring Data"
   ]
  },
  {
   "cell_type": "code",
   "execution_count": 28,
   "id": "93b2e915-cc1f-4dec-af84-ee6c5a260bc9",
   "metadata": {},
   "outputs": [
    {
     "data": {
      "image/png": "[encoded data removed]",
      "text/plain": [
       "<Figure size 600x400 with 1 Axes>"
      ]
     },
     "metadata": {},
     "output_type": "display_data"
    }
   ],
   "source": [
    "plt.figure(figsize = (6,4), dpi = 100)\n",
    "sns.barplot(data=data['GN'].replace({1:'Female',0:'Male'}).value_counts())\n",
    "plt.title(\"Distribution of Gender across the samples.\")\n",
    "plt.xlabel(\"Gender\")\n",
    "plt.show()"
   ]
  },
  {
   "cell_type": "code",
   "execution_count": 33,
   "id": "b5116b09-b09a-4637-8f56-812a1b0b540a",
   "metadata": {},
   "outputs": [
    {
     "name": "stdout",
     "output_type": "stream",
     "text": [
      "Number of rows with a missing SNP in their sequence: 7520 \n",
      "Total numer of sequences: 14010\n"
     ]
    }
   ],
   "source": []
  },
  {
   "cell_type": "code",
   "execution_count": null,
   "id": "6162f58f-dca0-407b-99e8-9c091b180e62",
   "metadata": {},
   "outputs": [],
   "source": []
  },
  {
   "cell_type": "code",
   "execution_count": null,
   "id": "1bb02678-500f-46ff-bc28-d0004068730b",
   "metadata": {},
   "outputs": [],
   "source": []
  },
  {
   "cell_type": "code",
   "execution_count": null,
   "id": "a459b76d-3ba3-4b39-a03e-06b3e00d6854",
   "metadata": {},
   "outputs": [],
   "source": []
  },
  {
   "cell_type": "code",
   "execution_count": null,
   "id": "5eb050c0-4f43-4c2b-ac41-9c8e0a2988f4",
   "metadata": {},
   "outputs": [],
   "source": []
  },
  {
   "cell_type": "code",
   "execution_count": null,
   "id": "5606f7d3-e9d0-484f-bfb2-4fcb21ea406e",
   "metadata": {},
   "outputs": [],
   "source": []
  },
  {
   "cell_type": "code",
   "execution_count": null,
   "id": "c732695c-6179-4fe7-a615-3d54b24ff2ee",
   "metadata": {},
   "outputs": [],
   "source": []
  },
  {
   "cell_type": "code",
   "execution_count": null,
   "id": "1b5c9cf7-a0a6-4129-a763-4271a49c0615",
   "metadata": {},
   "outputs": [],
   "source": []
  },
  {
   "cell_type": "code",
   "execution_count": null,
   "id": "0c9e3d12-50b7-4713-bf7d-9aab5f71f08f",
   "metadata": {},
   "outputs": [],
   "source": []
  }
 ],
 "metadata": {
  "kernelspec": {
   "display_name": "Python 3 (ipykernel)",
   "language": "python",
   "name": "python3"
  },
  "language_info": {
   "codemirror_mode": {
    "name": "ipython",
    "version": 3
   },
   "file_extension": ".py",
   "mimetype": "text/x-python",
   "name": "python",
   "nbconvert_exporter": "python",
   "pygments_lexer": "ipython3",
   "version": "3.9.6"
  }
 },
 "nbformat": 4,
 "nbformat_minor": 5
}
