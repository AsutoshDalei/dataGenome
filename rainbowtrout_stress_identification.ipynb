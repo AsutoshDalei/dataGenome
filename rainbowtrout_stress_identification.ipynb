{
 "cells": [
  {
   "cell_type": "markdown",
   "id": "6e5cd9dd-e5af-4821-8321-028afa6b4638",
   "metadata": {},
   "source": [
    "# Indentifying Stress Factors in Rainbow Trouts"
   ]
  },
  {
   "cell_type": "code",
   "execution_count": 1,
   "id": "be9f78ca-0277-4ce0-83f1-dd0523a2cead",
   "metadata": {},
   "outputs": [],
   "source": [
    "import os\n",
    "\n",
    "import pandas as pd\n",
    "import numpy as np\n",
    "import matplotlib.pyplot as plt\n",
    "%matplotlib inline\n",
    "import seaborn as sns\n",
    "sns.set_theme()\n",
    "from tqdm import tqdm"
   ]
  },
  {
   "cell_type": "markdown",
   "id": "c03846a8-b1ce-4328-a67d-7e976a881bfa",
   "metadata": {},
   "source": [
    "## Data"
   ]
  },
  {
   "cell_type": "code",
   "execution_count": 2,
   "id": "69ec9018-38a1-4c9f-ae2c-89d16a11cc2d",
   "metadata": {},
   "outputs": [],
   "source": [
    "%%time\n",
    "dataPath = './data/TPM_stress_RedTrout.xlsx'\n",
    "\n",
    "data = pd.read_excel(dataPath)\n"
   ]
  },
  {
   "cell_type": "code",
   "execution_count": 4,
   "id": "e972109f-3d55-4c8c-95f2-7a36ce7cc791",
   "metadata": {},
   "outputs": [
    {
     "name": "stdout",
     "output_type": "stream",
     "text": [
      "<class 'pandas.core.frame.DataFrame'>\n",
      "RangeIndex: 125909 entries, 0 to 125908\n",
      "Data columns (total 73 columns):\n",
      " #   Column      Non-Null Count   Dtype \n",
      "---  ------      --------------   ----- \n",
      " 0   Unnamed: 0  125908 non-null  object\n",
      " 1   Control     125909 non-null  object\n",
      " 2   Control.1   125909 non-null  object\n",
      " 3   Control.2   125909 non-null  object\n",
      " 4   Control.3   125909 non-null  object\n",
      " 5   Control.4   125909 non-null  object\n",
      " 6   Control.5   125909 non-null  object\n",
      " 7   Control.6   125909 non-null  object\n",
      " 8   Control.7   125909 non-null  object\n",
      " 9   Control.8   125909 non-null  object\n",
      " 10  Control.9   125909 non-null  object\n",
      " 11  Control.10  125909 non-null  object\n",
      " 12  Control.11  125909 non-null  object\n",
      " 13  Control.12  125909 non-null  object\n",
      " 14  Control.13  125909 non-null  object\n",
      " 15  Control.14  125909 non-null  object\n",
      " 16  Control.15  125909 non-null  object\n",
      " 17  Control.16  125909 non-null  object\n",
      " 18  Control.17  125909 non-null  object\n",
      " 19  Control.18  125909 non-null  object\n",
      " 20  Control.19  125909 non-null  object\n",
      " 21  Control.20  125909 non-null  object\n",
      " 22  Control.21  125909 non-null  object\n",
      " 23  Control.22  125909 non-null  object\n",
      " 24  Control.23  125909 non-null  object\n",
      " 25  Control.24  125909 non-null  object\n",
      " 26  Control.25  125909 non-null  object\n",
      " 27  Control.26  125909 non-null  object\n",
      " 28  Control.27  125909 non-null  object\n",
      " 29  Control.28  125909 non-null  object\n",
      " 30  Control.29  125909 non-null  object\n",
      " 31  Control.30  125909 non-null  object\n",
      " 32  Control.31  125909 non-null  object\n",
      " 33  Control.32  125909 non-null  object\n",
      " 34  Control.33  125909 non-null  object\n",
      " 35  Control.34  125909 non-null  object\n",
      " 36  Control.35  125909 non-null  object\n",
      " 37  Heat        125909 non-null  object\n",
      " 38  Heat.1      125909 non-null  object\n",
      " 39  Heat.2      125909 non-null  object\n",
      " 40  Heat.3      125909 non-null  object\n",
      " 41  Heat.4      125909 non-null  object\n",
      " 42  Heat.5      125909 non-null  object\n",
      " 43  Heat.6      125909 non-null  object\n",
      " 44  Heat.7      125909 non-null  object\n",
      " 45  Heat.8      125909 non-null  object\n",
      " 46  Heat.9      125909 non-null  object\n",
      " 47  Heat.10     125909 non-null  object\n",
      " 48  Heat.11     125909 non-null  object\n",
      " 49  Heat.12     125909 non-null  object\n",
      " 50  Heat.13     125909 non-null  object\n",
      " 51  Heat.14     125909 non-null  object\n",
      " 52  Heat.15     125909 non-null  object\n",
      " 53  Heat.16     125909 non-null  object\n",
      " 54  Heat.17     125909 non-null  object\n",
      " 55  Heat.18     125909 non-null  object\n",
      " 56  Heat.19     125909 non-null  object\n",
      " 57  Heat.20     125909 non-null  object\n",
      " 58  Heat.21     125909 non-null  object\n",
      " 59  Heat.22     125909 non-null  object\n",
      " 60  Heat.23     125909 non-null  object\n",
      " 61  Heat.24     125909 non-null  object\n",
      " 62  Heat.25     125909 non-null  object\n",
      " 63  Heat.26     125909 non-null  object\n",
      " 64  Heat.27     125909 non-null  object\n",
      " 65  Heat.28     125909 non-null  object\n",
      " 66  Heat.29     125909 non-null  object\n",
      " 67  Heat.30     125909 non-null  object\n",
      " 68  Heat.31     125909 non-null  object\n",
      " 69  Heat.32     125909 non-null  object\n",
      " 70  Heat.33     125909 non-null  object\n",
      " 71  Heat.34     125909 non-null  object\n",
      " 72  Heat.35     125909 non-null  object\n",
      "dtypes: object(73)\n",
      "memory usage: 297.2 MB\n"
     ]
    }
   ],
   "source": [
    "data.info(memory_usage='deep')"
   ]
  },
  {
   "cell_type": "code",
   "execution_count": null,
   "id": "c3699d22-b88f-47c7-8751-df48a7ab9739",
   "metadata": {},
   "outputs": [],
   "source": []
  },
  {
   "cell_type": "code",
   "execution_count": null,
   "id": "3c215584-2ef8-461c-b91b-63df4c6942fd",
   "metadata": {},
   "outputs": [],
   "source": []
  },
  {
   "cell_type": "code",
   "execution_count": null,
   "id": "3c1e154c-7da2-4268-8000-dcb6e7ef121b",
   "metadata": {},
   "outputs": [],
   "source": []
  }
 ],
 "metadata": {
  "kernelspec": {
   "display_name": "Python 3 (ipykernel)",
   "language": "python",
   "name": "python3"
  },
  "language_info": {
   "codemirror_mode": {
    "name": "ipython",
    "version": 3
   },
   "file_extension": ".py",
   "mimetype": "text/x-python",
   "name": "python",
   "nbconvert_exporter": "python",
   "pygments_lexer": "ipython3",
   "version": "3.11.11"
  }
 },
 "nbformat": 4,
 "nbformat_minor": 5
}
