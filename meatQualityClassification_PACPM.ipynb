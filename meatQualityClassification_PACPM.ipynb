{
 "cells": [
  {
   "cell_type": "markdown",
   "id": "ecb7592c-9907-4f69-bd53-a488a90e4ebf",
   "metadata": {},
   "source": [
    "# Rainbow Trout Meat Quality Classification using Genomic Data "
   ]
  },
  {
   "cell_type": "markdown",
   "id": "7756e56c-9c5f-49e0-9e0f-f02af3ea886f",
   "metadata": {},
   "source": [
    "## Imports"
   ]
  },
  {
   "cell_type": "code",
   "execution_count": 1,
   "id": "589a7885-2d9c-4933-8227-d49670ae6377",
   "metadata": {},
   "outputs": [
    {
     "data": {
      "application/javascript": [
       "IPython.notebook.set_autosave_interval(30000)"
      ]
     },
     "metadata": {},
     "output_type": "display_data"
    },
    {
     "name": "stdout",
     "output_type": "stream",
     "text": [
      "Autosaving every 30 seconds\n"
     ]
    }
   ],
   "source": [
    "import pandas as pd\n",
    "import numpy as np\n",
    "import matplotlib.pyplot as plt\n",
    "%matplotlib inline\n",
    "import seaborn as sns\n",
    "import os\n",
    "import json\n",
    "from tqdm import tqdm\n",
    "\n",
    "from sklearn.decomposition import KernelPCA, PCA\n",
    "from sklearn.model_selection import train_test_split, cross_val_score, GridSearchCV\n",
    "from sklearn.preprocessing import MinMaxScaler, StandardScaler\n",
    "from sklearn.metrics import classification_report, confusion_matrix\n",
    "\n",
    "SEED = 32\n",
    "%autosave 30"
   ]
  },
  {
   "cell_type": "code",
   "execution_count": 2,
   "id": "8a3a70ec-e620-4b9c-bc4b-e2d18ed4e206",
   "metadata": {},
   "outputs": [],
   "source": [
    "import gc\n",
    "\n",
    "import warnings\n",
    "warnings.filterwarnings(\"ignore\")"
   ]
  },
  {
   "cell_type": "markdown",
   "id": "a59090f8-5a74-4e61-bc53-ca8e8fbdef1d",
   "metadata": {},
   "source": [
    "## Meta Data Creation"
   ]
  },
  {
   "cell_type": "code",
   "execution_count": 4,
   "id": "630fbb77-38b6-4c3e-bf37-d974d1d21a4f",
   "metadata": {},
   "outputs": [],
   "source": [
    "# %%time\n",
    "# metadf_init = pd.read_excel(\"./data/GeneExpressionData/Meta_data.xlsx\", usecols=['genetic line','Orso_Id'])\n",
    "# print(f\"Initial Dataframe Size:{metadf_init.shape}\")\n",
    "\n",
    "# #Dropping rows with NaN values.\n",
    "# metadf_init.dropna(inplace=True)\n",
    "# print(f\"Dataframe Size post cleaning:{metadf_init.shape}\")\n",
    "# metadf_init.head()"
   ]
  },
  {
   "cell_type": "code",
   "execution_count": 5,
   "id": "59606096-3859-4b54-b52e-8b7b406fa33b",
   "metadata": {},
   "outputs": [],
   "source": [
    "# def processRows(row):\n",
    "#     geneLine, fishId = row['genetic line'].split('-')[-1], row['Orso_Id'].split('_')[-1]\n",
    "#     # print(geneLine, fishId)\n",
    "#     return pd.Series(data = [f\"F{fishId}\", 'high' if geneLine=='H' else 'low'], index=['FishID', 'GeneLine'])\n",
    "\n",
    "# metadf_init.apply(processRows, axis=1).to_csv(\"./metaFishData.csv\", index=False)"
   ]
  },
  {
   "cell_type": "markdown",
   "id": "e1cb27cf-44c0-4834-9208-efe6d3c3ce89",
   "metadata": {},
   "source": [
    "## Meta Data"
   ]
  },
  {
   "cell_type": "code",
   "execution_count": 6,
   "id": "56940095-f0cf-45b8-81db-3d05789eadf2",
   "metadata": {},
   "outputs": [
    {
     "data": {
      "text/html": [
       "<div>\n",
       "<style scoped>\n",
       "    .dataframe tbody tr th:only-of-type {\n",
       "        vertical-align: middle;\n",
       "    }\n",
       "\n",
       "    .dataframe tbody tr th {\n",
       "        vertical-align: top;\n",
       "    }\n",
       "\n",
       "    .dataframe thead th {\n",
       "        text-align: right;\n",
       "    }\n",
       "</style>\n",
       "<table border=\"1\" class=\"dataframe\">\n",
       "  <thead>\n",
       "    <tr style=\"text-align: right;\">\n",
       "      <th></th>\n",
       "      <th>FishID</th>\n",
       "      <th>GeneLine</th>\n",
       "    </tr>\n",
       "  </thead>\n",
       "  <tbody>\n",
       "    <tr>\n",
       "      <th>0</th>\n",
       "      <td>F75</td>\n",
       "      <td>high</td>\n",
       "    </tr>\n",
       "    <tr>\n",
       "      <th>1</th>\n",
       "      <td>F66</td>\n",
       "      <td>low</td>\n",
       "    </tr>\n",
       "    <tr>\n",
       "      <th>2</th>\n",
       "      <td>F76</td>\n",
       "      <td>high</td>\n",
       "    </tr>\n",
       "    <tr>\n",
       "      <th>3</th>\n",
       "      <td>F72</td>\n",
       "      <td>low</td>\n",
       "    </tr>\n",
       "    <tr>\n",
       "      <th>4</th>\n",
       "      <td>F78</td>\n",
       "      <td>high</td>\n",
       "    </tr>\n",
       "  </tbody>\n",
       "</table>\n",
       "</div>"
      ],
      "text/plain": [
       "  FishID GeneLine\n",
       "0    F75     high\n",
       "1    F66      low\n",
       "2    F76     high\n",
       "3    F72      low\n",
       "4    F78     high"
      ]
     },
     "execution_count": 6,
     "metadata": {},
     "output_type": "execute_result"
    }
   ],
   "source": [
    "metadf = pd.read_csv(\"./metaFishData.csv\")\n",
    "metadf.head()"
   ]
  },
  {
   "cell_type": "code",
   "execution_count": 7,
   "id": "2ef45489-3cd6-4896-b7c2-2ddb9898dd93",
   "metadata": {},
   "outputs": [
    {
     "data": {
      "text/plain": [
       "GeneLine\n",
       "high    0.504298\n",
       "low     0.495702\n",
       "Name: proportion, dtype: float64"
      ]
     },
     "execution_count": 7,
     "metadata": {},
     "output_type": "execute_result"
    }
   ],
   "source": [
    "metadf['GeneLine'].value_counts(normalize=True)"
   ]
  },
  {
   "cell_type": "markdown",
   "id": "054c4a99-8642-4980-ab87-74b6266950cf",
   "metadata": {},
   "source": [
    "## PathAbundance CPM Profile"
   ]
  },
  {
   "cell_type": "code",
   "execution_count": 248,
   "id": "fc970d72-5e0d-4101-9d2f-1b3b7ef08c4c",
   "metadata": {},
   "outputs": [],
   "source": [
    "# %%time\n",
    "# mp_df = pd.read_csv(\"./data/GeneExpressionData/merged_metaphlan_profile.tsv\", sep='\\t', header=0).reset_index()\n",
    "# print(f\"Metaphlan Profile Data Shape: {mp_df.shape}\")\n",
    "\n",
    "# #Generating consistent Fish Identification Marking\n",
    "# fishIdentifierFnx = lambda row: f'F{row.split(\"_\")[3]}'\n",
    "# mp_df.iloc[0, 1:] = mp_df.iloc[0, 1:].apply(fishIdentifierFnx)\n",
    "\n",
    "# #Setting Column Names to the fish identification markings\n",
    "# mp_df.columns = mp_df.iloc[0]\n",
    "# mp_df.drop(mp_df.index[0], inplace=True)\n",
    "# mp_df.head()"
   ]
  },
  {
   "cell_type": "code",
   "execution_count": 249,
   "id": "409f8599-f9cd-4886-8025-d06d640186dc",
   "metadata": {
    "scrolled": true
   },
   "outputs": [
    {
     "name": "stdout",
     "output_type": "stream",
     "text": [
      "Path Abundance CPM Profile Data Shape: (6835, 352)\n",
      "CPU times: user 85.6 ms, sys: 17.5 ms, total: 103 ms\n",
      "Wall time: 103 ms\n"
     ]
    },
    {
     "data": {
      "text/html": [
       "<div>\n",
       "<style scoped>\n",
       "    .dataframe tbody tr th:only-of-type {\n",
       "        vertical-align: middle;\n",
       "    }\n",
       "\n",
       "    .dataframe tbody tr th {\n",
       "        vertical-align: top;\n",
       "    }\n",
       "\n",
       "    .dataframe thead th {\n",
       "        text-align: right;\n",
       "    }\n",
       "</style>\n",
       "<table border=\"1\" class=\"dataframe\">\n",
       "  <thead>\n",
       "    <tr style=\"text-align: right;\">\n",
       "      <th></th>\n",
       "      <th>clade_name</th>\n",
       "      <th>F100</th>\n",
       "      <th>F101</th>\n",
       "      <th>F102</th>\n",
       "      <th>F103</th>\n",
       "      <th>F104</th>\n",
       "      <th>F105</th>\n",
       "      <th>F106</th>\n",
       "      <th>F107</th>\n",
       "      <th>F108</th>\n",
       "      <th>...</th>\n",
       "      <th>F91</th>\n",
       "      <th>F92</th>\n",
       "      <th>F93</th>\n",
       "      <th>F94</th>\n",
       "      <th>F95</th>\n",
       "      <th>F96</th>\n",
       "      <th>F97</th>\n",
       "      <th>F98</th>\n",
       "      <th>F99</th>\n",
       "      <th>F9</th>\n",
       "    </tr>\n",
       "  </thead>\n",
       "  <tbody>\n",
       "    <tr>\n",
       "      <th>0</th>\n",
       "      <td>UNMAPPED</td>\n",
       "      <td>913783.0</td>\n",
       "      <td>804474.0</td>\n",
       "      <td>882094.0</td>\n",
       "      <td>799929.0</td>\n",
       "      <td>812526.0</td>\n",
       "      <td>734514.0</td>\n",
       "      <td>711594.0</td>\n",
       "      <td>646577.0</td>\n",
       "      <td>930722.0</td>\n",
       "      <td>...</td>\n",
       "      <td>783320.0</td>\n",
       "      <td>899060.0</td>\n",
       "      <td>895572.0</td>\n",
       "      <td>662809.0</td>\n",
       "      <td>962781.0</td>\n",
       "      <td>985565.0</td>\n",
       "      <td>810644.0</td>\n",
       "      <td>962823.0</td>\n",
       "      <td>997729.00</td>\n",
       "      <td>838469.0</td>\n",
       "    </tr>\n",
       "    <tr>\n",
       "      <th>1</th>\n",
       "      <td>UNINTEGRATED</td>\n",
       "      <td>47444.9</td>\n",
       "      <td>181615.0</td>\n",
       "      <td>54773.9</td>\n",
       "      <td>167266.0</td>\n",
       "      <td>139233.0</td>\n",
       "      <td>217285.0</td>\n",
       "      <td>264653.0</td>\n",
       "      <td>308450.0</td>\n",
       "      <td>35426.2</td>\n",
       "      <td>...</td>\n",
       "      <td>173189.0</td>\n",
       "      <td>49811.1</td>\n",
       "      <td>53371.9</td>\n",
       "      <td>289614.0</td>\n",
       "      <td>21325.5</td>\n",
       "      <td>14068.4</td>\n",
       "      <td>170383.0</td>\n",
       "      <td>23586.1</td>\n",
       "      <td>1794.43</td>\n",
       "      <td>126577.0</td>\n",
       "    </tr>\n",
       "    <tr>\n",
       "      <th>2</th>\n",
       "      <td>UNINTEGRATED|g__Acinetobacter.s__Acinetobacter...</td>\n",
       "      <td>0.0</td>\n",
       "      <td>0.0</td>\n",
       "      <td>0.0</td>\n",
       "      <td>0.0</td>\n",
       "      <td>0.0</td>\n",
       "      <td>0.0</td>\n",
       "      <td>0.0</td>\n",
       "      <td>0.0</td>\n",
       "      <td>0.0</td>\n",
       "      <td>...</td>\n",
       "      <td>0.0</td>\n",
       "      <td>0.0</td>\n",
       "      <td>0.0</td>\n",
       "      <td>0.0</td>\n",
       "      <td>0.0</td>\n",
       "      <td>0.0</td>\n",
       "      <td>0.0</td>\n",
       "      <td>0.0</td>\n",
       "      <td>0.00</td>\n",
       "      <td>0.0</td>\n",
       "    </tr>\n",
       "    <tr>\n",
       "      <th>3</th>\n",
       "      <td>UNINTEGRATED|g__Acinetobacter.s__Acinetobacter...</td>\n",
       "      <td>0.0</td>\n",
       "      <td>0.0</td>\n",
       "      <td>0.0</td>\n",
       "      <td>0.0</td>\n",
       "      <td>0.0</td>\n",
       "      <td>0.0</td>\n",
       "      <td>0.0</td>\n",
       "      <td>0.0</td>\n",
       "      <td>0.0</td>\n",
       "      <td>...</td>\n",
       "      <td>0.0</td>\n",
       "      <td>0.0</td>\n",
       "      <td>0.0</td>\n",
       "      <td>0.0</td>\n",
       "      <td>0.0</td>\n",
       "      <td>0.0</td>\n",
       "      <td>0.0</td>\n",
       "      <td>0.0</td>\n",
       "      <td>0.00</td>\n",
       "      <td>0.0</td>\n",
       "    </tr>\n",
       "    <tr>\n",
       "      <th>4</th>\n",
       "      <td>UNINTEGRATED|g__Aeromonas.s__Aeromonas_bestiarum</td>\n",
       "      <td>0.0</td>\n",
       "      <td>0.0</td>\n",
       "      <td>0.0</td>\n",
       "      <td>0.0</td>\n",
       "      <td>0.0</td>\n",
       "      <td>0.0</td>\n",
       "      <td>0.0</td>\n",
       "      <td>0.0</td>\n",
       "      <td>0.0</td>\n",
       "      <td>...</td>\n",
       "      <td>0.0</td>\n",
       "      <td>0.0</td>\n",
       "      <td>0.0</td>\n",
       "      <td>0.0</td>\n",
       "      <td>0.0</td>\n",
       "      <td>0.0</td>\n",
       "      <td>0.0</td>\n",
       "      <td>0.0</td>\n",
       "      <td>0.00</td>\n",
       "      <td>0.0</td>\n",
       "    </tr>\n",
       "  </tbody>\n",
       "</table>\n",
       "<p>5 rows × 352 columns</p>\n",
       "</div>"
      ],
      "text/plain": [
       "                                          clade_name      F100      F101  \\\n",
       "0                                           UNMAPPED  913783.0  804474.0   \n",
       "1                                       UNINTEGRATED   47444.9  181615.0   \n",
       "2  UNINTEGRATED|g__Acinetobacter.s__Acinetobacter...       0.0       0.0   \n",
       "3  UNINTEGRATED|g__Acinetobacter.s__Acinetobacter...       0.0       0.0   \n",
       "4   UNINTEGRATED|g__Aeromonas.s__Aeromonas_bestiarum       0.0       0.0   \n",
       "\n",
       "       F102      F103      F104      F105      F106      F107      F108  ...  \\\n",
       "0  882094.0  799929.0  812526.0  734514.0  711594.0  646577.0  930722.0  ...   \n",
       "1   54773.9  167266.0  139233.0  217285.0  264653.0  308450.0   35426.2  ...   \n",
       "2       0.0       0.0       0.0       0.0       0.0       0.0       0.0  ...   \n",
       "3       0.0       0.0       0.0       0.0       0.0       0.0       0.0  ...   \n",
       "4       0.0       0.0       0.0       0.0       0.0       0.0       0.0  ...   \n",
       "\n",
       "        F91       F92       F93       F94       F95       F96       F97  \\\n",
       "0  783320.0  899060.0  895572.0  662809.0  962781.0  985565.0  810644.0   \n",
       "1  173189.0   49811.1   53371.9  289614.0   21325.5   14068.4  170383.0   \n",
       "2       0.0       0.0       0.0       0.0       0.0       0.0       0.0   \n",
       "3       0.0       0.0       0.0       0.0       0.0       0.0       0.0   \n",
       "4       0.0       0.0       0.0       0.0       0.0       0.0       0.0   \n",
       "\n",
       "        F98        F99        F9  \n",
       "0  962823.0  997729.00  838469.0  \n",
       "1   23586.1    1794.43  126577.0  \n",
       "2       0.0       0.00       0.0  \n",
       "3       0.0       0.00       0.0  \n",
       "4       0.0       0.00       0.0  \n",
       "\n",
       "[5 rows x 352 columns]"
      ]
     },
     "execution_count": 249,
     "metadata": {},
     "output_type": "execute_result"
    }
   ],
   "source": [
    "%%time\n",
    "mp_df = pd.read_csv(\"./data/GeneExpressionData/humann_pathabundance_merged_cpm.tsv\", sep='\\t', header=0)#.reset_index(drop=True)\n",
    "print(f\"Path Abundance CPM Profile Data Shape: {mp_df.shape}\")\n",
    "\n",
    "#Generating consistent Fish Identification Marking\n",
    "fishIdentifierFnx = lambda row: f'F{row.split(\"_\")[3]}'\n",
    "\n",
    "colNames = list(map(fishIdentifierFnx, mp_df.columns[1:]))\n",
    "colNames.insert(0, 'clade_name')\n",
    "\n",
    "mp_df.columns = colNames\n",
    "mp_df.head()"
   ]
  },
  {
   "cell_type": "code",
   "execution_count": 250,
   "id": "16fa7977-4ae0-423c-b3df-797fc4119978",
   "metadata": {},
   "outputs": [
    {
     "name": "stdout",
     "output_type": "stream",
     "text": [
      "UNINTEGRATED|g__Acinetobacter.s__Acinetobacter_johnsonii\n"
     ]
    },
    {
     "data": {
      "text/plain": [
       "['UNINTEGRATED', 'g', '', 'Oceanobacillus', 's', '', 'Oceanobacillus', 'caeni']"
      ]
     },
     "execution_count": 250,
     "metadata": {},
     "output_type": "execute_result"
    }
   ],
   "source": [
    "print(mp_df.iloc[3,0])\n",
    "\n",
    "delimiters = r\"[.|_]\"\n",
    "# delimiters = r\"([|.])|(_)\"\n",
    "result = re.split(delimiters, mp_df.iloc[97,0])\n",
    "# result = [s.replace('__', '__ ', 1) for s in result]\n",
    "result"
   ]
  },
  {
   "cell_type": "markdown",
   "id": "01dd29fb-836d-448b-8d66-bd0eb619ba4d",
   "metadata": {},
   "source": [
    "## Clade Family"
   ]
  },
  {
   "cell_type": "code",
   "execution_count": 251,
   "id": "321ea530-9c9f-4627-af74-8d9b2c1b95b2",
   "metadata": {},
   "outputs": [],
   "source": [
    "from treelib import Node, Tree\n",
    "import re"
   ]
  },
  {
   "cell_type": "code",
   "execution_count": 252,
   "id": "51253b7f-3a1c-4243-9323-1b50e3046469",
   "metadata": {},
   "outputs": [
    {
     "data": {
      "text/plain": [
       "clade_name\n",
       "4    5345\n",
       "1     539\n",
       "2     539\n",
       "5     305\n",
       "6      96\n",
       "3      11\n",
       "Name: count, dtype: int64"
      ]
     },
     "execution_count": 252,
     "metadata": {},
     "output_type": "execute_result"
    }
   ],
   "source": [
    "def cladeFnxLambda(row):\n",
    "    result = re.split(delimiters, row)\n",
    "    result = [i for i in result if len(i)>1]\n",
    "    return len(result)\n",
    "    \n",
    "clade.apply(cladeFnxLambda).value_counts()"
   ]
  },
  {
   "cell_type": "code",
   "execution_count": 253,
   "id": "027c204c-c2d3-4685-9d28-f3afb61d6fe9",
   "metadata": {},
   "outputs": [],
   "source": [
    "# %%time\n",
    "# tree = Tree()\n",
    "# tree.create_node('Main', 'main')\n",
    "# def cladeFnxTree(row):\n",
    "#     row = row.split('|')\n",
    "#     if len(row)==1:\n",
    "#         tree.create_node(row[0], row[0], parent='main')\n",
    "#     else:\n",
    "#         tree.create_node(row[-1], row[-1], parent=row[-2])\n",
    "             \n",
    "# _ = clade.apply(cladeFnxTree)\n",
    "\n",
    "# print(\"Depth of tree:\", tree.depth())\n",
    "# tree.show()      "
   ]
  },
  {
   "cell_type": "code",
   "execution_count": 254,
   "id": "280aee90-992a-48b9-a9f8-6117fdff643a",
   "metadata": {},
   "outputs": [],
   "source": [
    "# treeFamily = json.loads(tree.to_json(with_data=False))"
   ]
  },
  {
   "cell_type": "code",
   "execution_count": 255,
   "id": "d95210fd-36d2-4ec5-a0a9-dc9b46bf0556",
   "metadata": {},
   "outputs": [],
   "source": [
    "# clade.apply(cladeFnxLambda)"
   ]
  },
  {
   "cell_type": "code",
   "execution_count": 256,
   "id": "51ad2650-9555-4900-a2a4-decf9c0db753",
   "metadata": {},
   "outputs": [],
   "source": [
    "familyMap = {f'level{r}':[] for r in range(0,6)}\n",
    "\n",
    "def cladeFnx(row):\n",
    "    row_ = re.split(delimiters, row)\n",
    "    row_ = [i for i in row_ if len(i)>1]\n",
    "    # print(len(row_))\n",
    "    familyMap[f'level{len(row_)-1}'].append(row)\n",
    "    \n",
    "\n",
    "_ = clade.apply(cladeFnx)"
   ]
  },
  {
   "cell_type": "code",
   "execution_count": 257,
   "id": "dda3c163-8275-4a2c-9152-1b8dd8bbd728",
   "metadata": {},
   "outputs": [
    {
     "data": {
      "text/plain": [
       "dict_keys(['level0', 'level1', 'level2', 'level3', 'level4', 'level5'])"
      ]
     },
     "execution_count": 257,
     "metadata": {},
     "output_type": "execute_result"
    }
   ],
   "source": [
    "familyMap.keys()\n",
    "# familyMap['level5']"
   ]
  },
  {
   "cell_type": "code",
   "execution_count": 258,
   "id": "59342fe4-c87c-450b-8587-d5483c561b71",
   "metadata": {},
   "outputs": [],
   "source": [
    "for i in familyMap:\n",
    "    familyMap[i] = list(set(familyMap[i]))\n",
    "\n",
    "familyMapRev = {}\n",
    "for i in familyMap:\n",
    "    for j in familyMap[i]:\n",
    "        familyMapRev[j] = i"
   ]
  },
  {
   "cell_type": "code",
   "execution_count": 259,
   "id": "0f7b4b26-9140-4bb3-9444-3d93f177eaa3",
   "metadata": {},
   "outputs": [],
   "source": [
    "# familyMapRev"
   ]
  },
  {
   "cell_type": "markdown",
   "id": "c4cea046-0d8b-49fb-8407-9069052d8b5b",
   "metadata": {},
   "source": [
    "## Initial Exploration"
   ]
  },
  {
   "cell_type": "code",
   "execution_count": 260,
   "id": "853feaf1-7646-4daa-a6e6-6a1f9daddc18",
   "metadata": {},
   "outputs": [
    {
     "name": "stdout",
     "output_type": "stream",
     "text": [
      "(349, 6836)\n"
     ]
    }
   ],
   "source": [
    "mp_fin = mp_df.set_index('clade_name').T\n",
    "mp_fin = mp_fin.apply(pd.to_numeric, downcast='float')\n",
    "\n",
    "mp_fin = pd.merge(left=mp_fin, right=metadf, left_index=True, right_on='FishID', how='inner').drop('FishID', axis=1)\n",
    "mp_fin.dropna(inplace=True)\n",
    "print(mp_fin.shape)"
   ]
  },
  {
   "cell_type": "code",
   "execution_count": 261,
   "id": "409257f8-506c-442a-9d67-a207f1ef7a74",
   "metadata": {},
   "outputs": [],
   "source": [
    "# mp_fin.to_csv(\"./data/pathAbundanceCPMData.csv\", index=False)"
   ]
  },
  {
   "cell_type": "code",
   "execution_count": 262,
   "id": "2266a205-8367-40b1-ab62-888c249eb8d1",
   "metadata": {},
   "outputs": [
    {
     "data": {
      "text/html": [
       "<div>\n",
       "<style scoped>\n",
       "    .dataframe tbody tr th:only-of-type {\n",
       "        vertical-align: middle;\n",
       "    }\n",
       "\n",
       "    .dataframe tbody tr th {\n",
       "        vertical-align: top;\n",
       "    }\n",
       "\n",
       "    .dataframe thead th {\n",
       "        text-align: right;\n",
       "    }\n",
       "</style>\n",
       "<table border=\"1\" class=\"dataframe\">\n",
       "  <thead>\n",
       "    <tr style=\"text-align: right;\">\n",
       "      <th></th>\n",
       "      <th>UNMAPPED</th>\n",
       "      <th>UNINTEGRATED</th>\n",
       "      <th>UNINTEGRATED|g__Acinetobacter.s__Acinetobacter_albensis</th>\n",
       "      <th>UNINTEGRATED|g__Acinetobacter.s__Acinetobacter_johnsonii</th>\n",
       "      <th>UNINTEGRATED|g__Aeromonas.s__Aeromonas_bestiarum</th>\n",
       "      <th>UNINTEGRATED|g__Aeromonas.s__Aeromonas_diversa</th>\n",
       "      <th>UNINTEGRATED|g__Aeromonas.s__Aeromonas_hydrophila</th>\n",
       "      <th>UNINTEGRATED|g__Aeromonas.s__Aeromonas_media</th>\n",
       "      <th>UNINTEGRATED|g__Aeromonas.s__Aeromonas_rivipollensis</th>\n",
       "      <th>UNINTEGRATED|g__Aeromonas.s__Aeromonas_sobria</th>\n",
       "      <th>...</th>\n",
       "      <th>VALSYN-PWY: L-valine biosynthesis|g__Staphylococcus.s__Staphylococcus_xylosus</th>\n",
       "      <th>VALSYN-PWY: L-valine biosynthesis|g__Streptococcus.s__Streptococcus_dysgalactiae_group</th>\n",
       "      <th>VALSYN-PWY: L-valine biosynthesis|g__Streptococcus.s__Streptococcus_equinus</th>\n",
       "      <th>VALSYN-PWY: L-valine biosynthesis|g__Streptococcus.s__Streptococcus_gallolyticus</th>\n",
       "      <th>VALSYN-PWY: L-valine biosynthesis|g__Streptococcus.s__Streptococcus_infantarius</th>\n",
       "      <th>VALSYN-PWY: L-valine biosynthesis|g__Streptococcus.s__Streptococcus_lutetiensis</th>\n",
       "      <th>VALSYN-PWY: L-valine biosynthesis|g__Streptococcus.s__Streptococcus_macedonicus</th>\n",
       "      <th>VALSYN-PWY: L-valine biosynthesis|g__Streptococcus.s__Streptococcus_pasteurianus</th>\n",
       "      <th>VALSYN-PWY: L-valine biosynthesis|unclassified</th>\n",
       "      <th>GeneLine</th>\n",
       "    </tr>\n",
       "  </thead>\n",
       "  <tbody>\n",
       "    <tr>\n",
       "      <th>181</th>\n",
       "      <td>913783.0</td>\n",
       "      <td>47444.9</td>\n",
       "      <td>0.0</td>\n",
       "      <td>0.0</td>\n",
       "      <td>0.0</td>\n",
       "      <td>0.0</td>\n",
       "      <td>0.0</td>\n",
       "      <td>0.0</td>\n",
       "      <td>0.0</td>\n",
       "      <td>0.0</td>\n",
       "      <td>...</td>\n",
       "      <td>0.0</td>\n",
       "      <td>0.0</td>\n",
       "      <td>0.0</td>\n",
       "      <td>0.0</td>\n",
       "      <td>0.0</td>\n",
       "      <td>0.0</td>\n",
       "      <td>0.0</td>\n",
       "      <td>0.0</td>\n",
       "      <td>480.730011</td>\n",
       "      <td>high</td>\n",
       "    </tr>\n",
       "    <tr>\n",
       "      <th>209</th>\n",
       "      <td>804474.0</td>\n",
       "      <td>181615.0</td>\n",
       "      <td>0.0</td>\n",
       "      <td>0.0</td>\n",
       "      <td>0.0</td>\n",
       "      <td>0.0</td>\n",
       "      <td>0.0</td>\n",
       "      <td>0.0</td>\n",
       "      <td>0.0</td>\n",
       "      <td>0.0</td>\n",
       "      <td>...</td>\n",
       "      <td>0.0</td>\n",
       "      <td>0.0</td>\n",
       "      <td>0.0</td>\n",
       "      <td>0.0</td>\n",
       "      <td>0.0</td>\n",
       "      <td>0.0</td>\n",
       "      <td>0.0</td>\n",
       "      <td>0.0</td>\n",
       "      <td>21.457899</td>\n",
       "      <td>high</td>\n",
       "    </tr>\n",
       "    <tr>\n",
       "      <th>246</th>\n",
       "      <td>882094.0</td>\n",
       "      <td>54773.9</td>\n",
       "      <td>0.0</td>\n",
       "      <td>0.0</td>\n",
       "      <td>0.0</td>\n",
       "      <td>0.0</td>\n",
       "      <td>0.0</td>\n",
       "      <td>0.0</td>\n",
       "      <td>0.0</td>\n",
       "      <td>0.0</td>\n",
       "      <td>...</td>\n",
       "      <td>0.0</td>\n",
       "      <td>0.0</td>\n",
       "      <td>0.0</td>\n",
       "      <td>0.0</td>\n",
       "      <td>0.0</td>\n",
       "      <td>0.0</td>\n",
       "      <td>0.0</td>\n",
       "      <td>0.0</td>\n",
       "      <td>65.724197</td>\n",
       "      <td>high</td>\n",
       "    </tr>\n",
       "    <tr>\n",
       "      <th>78</th>\n",
       "      <td>799929.0</td>\n",
       "      <td>167266.0</td>\n",
       "      <td>0.0</td>\n",
       "      <td>0.0</td>\n",
       "      <td>0.0</td>\n",
       "      <td>0.0</td>\n",
       "      <td>0.0</td>\n",
       "      <td>0.0</td>\n",
       "      <td>0.0</td>\n",
       "      <td>0.0</td>\n",
       "      <td>...</td>\n",
       "      <td>0.0</td>\n",
       "      <td>0.0</td>\n",
       "      <td>0.0</td>\n",
       "      <td>0.0</td>\n",
       "      <td>0.0</td>\n",
       "      <td>0.0</td>\n",
       "      <td>0.0</td>\n",
       "      <td>0.0</td>\n",
       "      <td>174.072006</td>\n",
       "      <td>high</td>\n",
       "    </tr>\n",
       "    <tr>\n",
       "      <th>265</th>\n",
       "      <td>812526.0</td>\n",
       "      <td>139233.0</td>\n",
       "      <td>0.0</td>\n",
       "      <td>0.0</td>\n",
       "      <td>0.0</td>\n",
       "      <td>0.0</td>\n",
       "      <td>0.0</td>\n",
       "      <td>0.0</td>\n",
       "      <td>0.0</td>\n",
       "      <td>0.0</td>\n",
       "      <td>...</td>\n",
       "      <td>0.0</td>\n",
       "      <td>0.0</td>\n",
       "      <td>0.0</td>\n",
       "      <td>0.0</td>\n",
       "      <td>0.0</td>\n",
       "      <td>0.0</td>\n",
       "      <td>0.0</td>\n",
       "      <td>0.0</td>\n",
       "      <td>55.977100</td>\n",
       "      <td>high</td>\n",
       "    </tr>\n",
       "  </tbody>\n",
       "</table>\n",
       "<p>5 rows × 6836 columns</p>\n",
       "</div>"
      ],
      "text/plain": [
       "     UNMAPPED  UNINTEGRATED  \\\n",
       "181  913783.0       47444.9   \n",
       "209  804474.0      181615.0   \n",
       "246  882094.0       54773.9   \n",
       "78   799929.0      167266.0   \n",
       "265  812526.0      139233.0   \n",
       "\n",
       "     UNINTEGRATED|g__Acinetobacter.s__Acinetobacter_albensis  \\\n",
       "181                                                0.0         \n",
       "209                                                0.0         \n",
       "246                                                0.0         \n",
       "78                                                 0.0         \n",
       "265                                                0.0         \n",
       "\n",
       "     UNINTEGRATED|g__Acinetobacter.s__Acinetobacter_johnsonii  \\\n",
       "181                                                0.0          \n",
       "209                                                0.0          \n",
       "246                                                0.0          \n",
       "78                                                 0.0          \n",
       "265                                                0.0          \n",
       "\n",
       "     UNINTEGRATED|g__Aeromonas.s__Aeromonas_bestiarum  \\\n",
       "181                                               0.0   \n",
       "209                                               0.0   \n",
       "246                                               0.0   \n",
       "78                                                0.0   \n",
       "265                                               0.0   \n",
       "\n",
       "     UNINTEGRATED|g__Aeromonas.s__Aeromonas_diversa  \\\n",
       "181                                             0.0   \n",
       "209                                             0.0   \n",
       "246                                             0.0   \n",
       "78                                              0.0   \n",
       "265                                             0.0   \n",
       "\n",
       "     UNINTEGRATED|g__Aeromonas.s__Aeromonas_hydrophila  \\\n",
       "181                                                0.0   \n",
       "209                                                0.0   \n",
       "246                                                0.0   \n",
       "78                                                 0.0   \n",
       "265                                                0.0   \n",
       "\n",
       "     UNINTEGRATED|g__Aeromonas.s__Aeromonas_media  \\\n",
       "181                                           0.0   \n",
       "209                                           0.0   \n",
       "246                                           0.0   \n",
       "78                                            0.0   \n",
       "265                                           0.0   \n",
       "\n",
       "     UNINTEGRATED|g__Aeromonas.s__Aeromonas_rivipollensis  \\\n",
       "181                                                0.0      \n",
       "209                                                0.0      \n",
       "246                                                0.0      \n",
       "78                                                 0.0      \n",
       "265                                                0.0      \n",
       "\n",
       "     UNINTEGRATED|g__Aeromonas.s__Aeromonas_sobria  ...  \\\n",
       "181                                            0.0  ...   \n",
       "209                                            0.0  ...   \n",
       "246                                            0.0  ...   \n",
       "78                                             0.0  ...   \n",
       "265                                            0.0  ...   \n",
       "\n",
       "     VALSYN-PWY: L-valine biosynthesis|g__Staphylococcus.s__Staphylococcus_xylosus  \\\n",
       "181                                                0.0                               \n",
       "209                                                0.0                               \n",
       "246                                                0.0                               \n",
       "78                                                 0.0                               \n",
       "265                                                0.0                               \n",
       "\n",
       "     VALSYN-PWY: L-valine biosynthesis|g__Streptococcus.s__Streptococcus_dysgalactiae_group  \\\n",
       "181                                                0.0                                        \n",
       "209                                                0.0                                        \n",
       "246                                                0.0                                        \n",
       "78                                                 0.0                                        \n",
       "265                                                0.0                                        \n",
       "\n",
       "     VALSYN-PWY: L-valine biosynthesis|g__Streptococcus.s__Streptococcus_equinus  \\\n",
       "181                                                0.0                             \n",
       "209                                                0.0                             \n",
       "246                                                0.0                             \n",
       "78                                                 0.0                             \n",
       "265                                                0.0                             \n",
       "\n",
       "     VALSYN-PWY: L-valine biosynthesis|g__Streptococcus.s__Streptococcus_gallolyticus  \\\n",
       "181                                                0.0                                  \n",
       "209                                                0.0                                  \n",
       "246                                                0.0                                  \n",
       "78                                                 0.0                                  \n",
       "265                                                0.0                                  \n",
       "\n",
       "     VALSYN-PWY: L-valine biosynthesis|g__Streptococcus.s__Streptococcus_infantarius  \\\n",
       "181                                                0.0                                 \n",
       "209                                                0.0                                 \n",
       "246                                                0.0                                 \n",
       "78                                                 0.0                                 \n",
       "265                                                0.0                                 \n",
       "\n",
       "     VALSYN-PWY: L-valine biosynthesis|g__Streptococcus.s__Streptococcus_lutetiensis  \\\n",
       "181                                                0.0                                 \n",
       "209                                                0.0                                 \n",
       "246                                                0.0                                 \n",
       "78                                                 0.0                                 \n",
       "265                                                0.0                                 \n",
       "\n",
       "     VALSYN-PWY: L-valine biosynthesis|g__Streptococcus.s__Streptococcus_macedonicus  \\\n",
       "181                                                0.0                                 \n",
       "209                                                0.0                                 \n",
       "246                                                0.0                                 \n",
       "78                                                 0.0                                 \n",
       "265                                                0.0                                 \n",
       "\n",
       "     VALSYN-PWY: L-valine biosynthesis|g__Streptococcus.s__Streptococcus_pasteurianus  \\\n",
       "181                                                0.0                                  \n",
       "209                                                0.0                                  \n",
       "246                                                0.0                                  \n",
       "78                                                 0.0                                  \n",
       "265                                                0.0                                  \n",
       "\n",
       "     VALSYN-PWY: L-valine biosynthesis|unclassified  GeneLine  \n",
       "181                                      480.730011      high  \n",
       "209                                       21.457899      high  \n",
       "246                                       65.724197      high  \n",
       "78                                       174.072006      high  \n",
       "265                                       55.977100      high  \n",
       "\n",
       "[5 rows x 6836 columns]"
      ]
     },
     "execution_count": 262,
     "metadata": {},
     "output_type": "execute_result"
    }
   ],
   "source": [
    "mp_fin.head()"
   ]
  },
  {
   "cell_type": "markdown",
   "id": "9afb0de5-38a0-4706-84eb-199d5e173fb5",
   "metadata": {},
   "source": [
    "### Outlier Analysis"
   ]
  },
  {
   "cell_type": "code",
   "execution_count": 263,
   "id": "bf56f9ac-e46a-4be4-a191-0e739f3b1be8",
   "metadata": {},
   "outputs": [
    {
     "data": {
      "text/plain": [
       "(349, 6836)"
      ]
     },
     "execution_count": 263,
     "metadata": {},
     "output_type": "execute_result"
    }
   ],
   "source": [
    "mp_fin.iloc[:, :].shape"
   ]
  },
  {
   "cell_type": "code",
   "execution_count": 264,
   "id": "f798abc6-7e15-4290-a3f6-95aaee7e955c",
   "metadata": {},
   "outputs": [],
   "source": [
    "# Number of outliers in each column\n",
    "def outliersFnx(data, m = 2.):\n",
    "    d = np.abs(data - np.median(data))\n",
    "    mdev = np.median(d)\n",
    "    s = d/mdev if mdev else np.zeros(len(d))\n",
    "    return len(data[s>m])"
   ]
  },
  {
   "cell_type": "code",
   "execution_count": 265,
   "id": "62073609-f42e-443a-a66d-1a7782593e91",
   "metadata": {},
   "outputs": [],
   "source": [
    "fnx = lambda row: type(row.values)\n",
    "fnx = lambda row: outliersFnx(row.values)\n",
    "outlierCount = mp_fin.iloc[:, :-1].apply(fnx, axis=0).values"
   ]
  },
  {
   "cell_type": "code",
   "execution_count": 266,
   "id": "cd0e7bcd-6b26-451f-9abb-fe531adbf8a2",
   "metadata": {},
   "outputs": [
    {
     "data": {
      "image/png": "[encoded data removed]",
      "text/plain": [
       "<Figure size 1000x500 with 1 Axes>"
      ]
     },
     "metadata": {},
     "output_type": "display_data"
    }
   ],
   "source": [
    "OUTLIER_CUTOFF = 40\n",
    "plt.figure(figsize=(10,5), dpi = 100)\n",
    "sns.histplot(data=outlierCount[outlierCount!=0]*100/(mp_df.shape[1]-1), bins=30)\n",
    "plt.axvline(x=OUTLIER_CUTOFF, color='black', linestyle='--', label='40% Cutoff')\n",
    "plt.legend()\n",
    "plt.title(\"Histogram of % of statistical outliers in each column.\")\n",
    "plt.xlabel(\"% of statistical outliers.\")\n",
    "plt.show()"
   ]
  },
  {
   "cell_type": "markdown",
   "id": "57214443-7091-4b75-9784-ac21c6c26985",
   "metadata": {},
   "source": [
    "The dashed vertical lines represents the cutoff mark, beyond which there are features with more than the cutoff statistical outlier values."
   ]
  },
  {
   "cell_type": "code",
   "execution_count": 197,
   "id": "13af2420-46d1-461d-bdf1-ec028cbe5d46",
   "metadata": {},
   "outputs": [
    {
     "name": "stdout",
     "output_type": "stream",
     "text": [
      "15 out of 6835 features have more than 40% datapoints as statistical outliers.\n"
     ]
    }
   ],
   "source": [
    "var_ = outlierCount*100/(mp_df.shape[1]-1)\n",
    "len(var_[var_>40])\n",
    "\n",
    "print(f\"{len(var_[var_>40])} out of {len(var_)} features have more than {OUTLIER_CUTOFF}% datapoints as statistical outliers.\")"
   ]
  },
  {
   "cell_type": "code",
   "execution_count": 267,
   "id": "b4933667-caa9-46b5-837b-fe786cf4a226",
   "metadata": {},
   "outputs": [],
   "source": [
    "hmap = {'feature':[], 'outlierCount':[], 'outlierCount%':[], 'level':[]}\n",
    "for i,j  in zip(mp_fin.columns, outlierCount):\n",
    "    hmap['feature'].append(i)\n",
    "    hmap['outlierCount'].append(j)\n",
    "    hmap['outlierCount%'].append(j*100/mp_df.shape[1])\n",
    "    hmap['level'].append(cladeFnxLambda(i))\n",
    "    \n",
    "outlierDf = pd.DataFrame(hmap)"
   ]
  },
  {
   "cell_type": "code",
   "execution_count": 274,
   "id": "171223b2-c234-4e47-884e-1c5a14e48105",
   "metadata": {},
   "outputs": [
    {
     "data": {
      "text/plain": [
       "6835"
      ]
     },
     "execution_count": 274,
     "metadata": {},
     "output_type": "execute_result"
    }
   ],
   "source": [
    "len(hmap['feature'])\n",
    "len(outlierCount)"
   ]
  },
  {
   "cell_type": "code",
   "execution_count": 275,
   "id": "9a9c3c30-491b-4208-9986-4025736f3a36",
   "metadata": {},
   "outputs": [
    {
     "data": {
      "text/plain": [
       "6836"
      ]
     },
     "execution_count": 275,
     "metadata": {},
     "output_type": "execute_result"
    }
   ],
   "source": [
    "len(mp_fin.columns)"
   ]
  },
  {
   "cell_type": "code",
   "execution_count": 276,
   "id": "31bfea53-87a6-4ce9-8b94-c08f0990abfa",
   "metadata": {},
   "outputs": [
    {
     "data": {
      "text/plain": [
       "(6835, 4)"
      ]
     },
     "execution_count": 276,
     "metadata": {},
     "output_type": "execute_result"
    }
   ],
   "source": [
    "outlierDf.shape"
   ]
  },
  {
   "cell_type": "code",
   "execution_count": 277,
   "id": "02764627-e5eb-494c-86cd-f8dd019d320e",
   "metadata": {},
   "outputs": [
    {
     "data": {
      "text/html": [
       "<div>\n",
       "<style scoped>\n",
       "    .dataframe tbody tr th:only-of-type {\n",
       "        vertical-align: middle;\n",
       "    }\n",
       "\n",
       "    .dataframe tbody tr th {\n",
       "        vertical-align: top;\n",
       "    }\n",
       "\n",
       "    .dataframe thead th {\n",
       "        text-align: right;\n",
       "    }\n",
       "</style>\n",
       "<table border=\"1\" class=\"dataframe\">\n",
       "  <thead>\n",
       "    <tr style=\"text-align: right;\">\n",
       "      <th></th>\n",
       "      <th>feature</th>\n",
       "      <th>outlierCount</th>\n",
       "      <th>outlierCount%</th>\n",
       "      <th>level</th>\n",
       "    </tr>\n",
       "  </thead>\n",
       "  <tbody>\n",
       "    <tr>\n",
       "      <th>733</th>\n",
       "      <td>FAO-PWY: fatty acid &amp;beta;-oxidation I (generic)</td>\n",
       "      <td>152</td>\n",
       "      <td>43.181818</td>\n",
       "      <td>1</td>\n",
       "    </tr>\n",
       "    <tr>\n",
       "      <th>1397</th>\n",
       "      <td>ORNDEG-PWY: superpathway of ornithine degradation</td>\n",
       "      <td>161</td>\n",
       "      <td>45.738636</td>\n",
       "      <td>1</td>\n",
       "    </tr>\n",
       "    <tr>\n",
       "      <th>1763</th>\n",
       "      <td>PWY-1269: CMP-3-deoxy-D-manno-octulosonate bio...</td>\n",
       "      <td>142</td>\n",
       "      <td>40.340909</td>\n",
       "      <td>1</td>\n",
       "    </tr>\n",
       "    <tr>\n",
       "      <th>1791</th>\n",
       "      <td>PWY-1861: formaldehyde assimilation II (assimi...</td>\n",
       "      <td>143</td>\n",
       "      <td>40.625000</td>\n",
       "      <td>5</td>\n",
       "    </tr>\n",
       "    <tr>\n",
       "      <th>1871</th>\n",
       "      <td>PWY-3841: folate transformations II (plants)|g...</td>\n",
       "      <td>152</td>\n",
       "      <td>43.181818</td>\n",
       "      <td>4</td>\n",
       "    </tr>\n",
       "  </tbody>\n",
       "</table>\n",
       "</div>"
      ],
      "text/plain": [
       "                                                feature  outlierCount  \\\n",
       "733    FAO-PWY: fatty acid &beta;-oxidation I (generic)           152   \n",
       "1397  ORNDEG-PWY: superpathway of ornithine degradation           161   \n",
       "1763  PWY-1269: CMP-3-deoxy-D-manno-octulosonate bio...           142   \n",
       "1791  PWY-1861: formaldehyde assimilation II (assimi...           143   \n",
       "1871  PWY-3841: folate transformations II (plants)|g...           152   \n",
       "\n",
       "      outlierCount%  level  \n",
       "733       43.181818      1  \n",
       "1397      45.738636      1  \n",
       "1763      40.340909      1  \n",
       "1791      40.625000      5  \n",
       "1871      43.181818      4  "
      ]
     },
     "execution_count": 277,
     "metadata": {},
     "output_type": "execute_result"
    }
   ],
   "source": [
    "outlierDf[outlierDf['outlierCount%']>OUTLIER_CUTOFF].head()"
   ]
  },
  {
   "cell_type": "code",
   "execution_count": 278,
   "id": "8ee6591b-2088-4d43-83b9-314ec5c83389",
   "metadata": {},
   "outputs": [
    {
     "data": {
      "image/png": "[encoded data removed]",
      "text/plain": [
       "<Figure size 1200x400 with 2 Axes>"
      ]
     },
     "metadata": {},
     "output_type": "display_data"
    }
   ],
   "source": [
    "fig, ax = plt.subplots(nrows=1,ncols=2, figsize=(12,4), sharey=False)\n",
    "outlierDf['level'].value_counts().plot(kind='bar', ax=ax[0])\n",
    "outlierDf[outlierDf['outlierCount%']>OUTLIER_CUTOFF]['level'].value_counts().plot(kind='bar', ax=ax[1])\n",
    "\n",
    "ax[0].set_title('Level Distribution')\n",
    "ax[1].set_title('Level Distribution in Outliers')\n",
    "plt.tight_layout()\n",
    "plt.show()"
   ]
  },
  {
   "cell_type": "code",
   "execution_count": 279,
   "id": "ee13cdc8-2c29-4ee8-9cdf-4203d614b360",
   "metadata": {},
   "outputs": [
    {
     "data": {
      "text/html": [
       "<div>\n",
       "<style scoped>\n",
       "    .dataframe tbody tr th:only-of-type {\n",
       "        vertical-align: middle;\n",
       "    }\n",
       "\n",
       "    .dataframe tbody tr th {\n",
       "        vertical-align: top;\n",
       "    }\n",
       "\n",
       "    .dataframe thead th {\n",
       "        text-align: right;\n",
       "    }\n",
       "</style>\n",
       "<table border=\"1\" class=\"dataframe\">\n",
       "  <thead>\n",
       "    <tr style=\"text-align: right;\">\n",
       "      <th></th>\n",
       "      <th>UNMAPPED</th>\n",
       "      <th>UNINTEGRATED</th>\n",
       "      <th>UNINTEGRATED|g__Acinetobacter.s__Acinetobacter_albensis</th>\n",
       "      <th>UNINTEGRATED|g__Acinetobacter.s__Acinetobacter_johnsonii</th>\n",
       "      <th>UNINTEGRATED|g__Aeromonas.s__Aeromonas_bestiarum</th>\n",
       "      <th>UNINTEGRATED|g__Aeromonas.s__Aeromonas_diversa</th>\n",
       "      <th>UNINTEGRATED|g__Aeromonas.s__Aeromonas_hydrophila</th>\n",
       "      <th>UNINTEGRATED|g__Aeromonas.s__Aeromonas_media</th>\n",
       "      <th>UNINTEGRATED|g__Aeromonas.s__Aeromonas_rivipollensis</th>\n",
       "      <th>UNINTEGRATED|g__Aeromonas.s__Aeromonas_sobria</th>\n",
       "      <th>...</th>\n",
       "      <th>VALSYN-PWY: L-valine biosynthesis|g__Staphylococcus.s__Staphylococcus_simulans</th>\n",
       "      <th>VALSYN-PWY: L-valine biosynthesis|g__Staphylococcus.s__Staphylococcus_xylosus</th>\n",
       "      <th>VALSYN-PWY: L-valine biosynthesis|g__Streptococcus.s__Streptococcus_dysgalactiae_group</th>\n",
       "      <th>VALSYN-PWY: L-valine biosynthesis|g__Streptococcus.s__Streptococcus_equinus</th>\n",
       "      <th>VALSYN-PWY: L-valine biosynthesis|g__Streptococcus.s__Streptococcus_gallolyticus</th>\n",
       "      <th>VALSYN-PWY: L-valine biosynthesis|g__Streptococcus.s__Streptococcus_infantarius</th>\n",
       "      <th>VALSYN-PWY: L-valine biosynthesis|g__Streptococcus.s__Streptococcus_lutetiensis</th>\n",
       "      <th>VALSYN-PWY: L-valine biosynthesis|g__Streptococcus.s__Streptococcus_macedonicus</th>\n",
       "      <th>VALSYN-PWY: L-valine biosynthesis|g__Streptococcus.s__Streptococcus_pasteurianus</th>\n",
       "      <th>VALSYN-PWY: L-valine biosynthesis|unclassified</th>\n",
       "    </tr>\n",
       "    <tr>\n",
       "      <th>GeneLine</th>\n",
       "      <th></th>\n",
       "      <th></th>\n",
       "      <th></th>\n",
       "      <th></th>\n",
       "      <th></th>\n",
       "      <th></th>\n",
       "      <th></th>\n",
       "      <th></th>\n",
       "      <th></th>\n",
       "      <th></th>\n",
       "      <th></th>\n",
       "      <th></th>\n",
       "      <th></th>\n",
       "      <th></th>\n",
       "      <th></th>\n",
       "      <th></th>\n",
       "      <th></th>\n",
       "      <th></th>\n",
       "      <th></th>\n",
       "      <th></th>\n",
       "      <th></th>\n",
       "    </tr>\n",
       "  </thead>\n",
       "  <tbody>\n",
       "    <tr>\n",
       "      <th>high</th>\n",
       "      <td>2.051422e+10</td>\n",
       "      <td>1.561710e+10</td>\n",
       "      <td>330.794861</td>\n",
       "      <td>1975.280396</td>\n",
       "      <td>9.780278e+04</td>\n",
       "      <td>3.880166e+05</td>\n",
       "      <td>5.477877e+04</td>\n",
       "      <td>1611.636108</td>\n",
       "      <td>1.751288e+03</td>\n",
       "      <td>8.620087e+07</td>\n",
       "      <td>...</td>\n",
       "      <td>0.000000</td>\n",
       "      <td>0.000358</td>\n",
       "      <td>0.040123</td>\n",
       "      <td>0.001204</td>\n",
       "      <td>0.003983</td>\n",
       "      <td>0.002853</td>\n",
       "      <td>0.003263</td>\n",
       "      <td>0.000938</td>\n",
       "      <td>0.000572</td>\n",
       "      <td>11198.749023</td>\n",
       "    </tr>\n",
       "    <tr>\n",
       "      <th>low</th>\n",
       "      <td>3.319654e+10</td>\n",
       "      <td>1.800541e+10</td>\n",
       "      <td>0.000000</td>\n",
       "      <td>0.000000</td>\n",
       "      <td>1.168652e+07</td>\n",
       "      <td>1.156839e+07</td>\n",
       "      <td>1.019728e+06</td>\n",
       "      <td>94357.296875</td>\n",
       "      <td>1.119131e+06</td>\n",
       "      <td>3.413406e+06</td>\n",
       "      <td>...</td>\n",
       "      <td>0.000167</td>\n",
       "      <td>0.001052</td>\n",
       "      <td>0.037866</td>\n",
       "      <td>0.000712</td>\n",
       "      <td>0.001531</td>\n",
       "      <td>0.004253</td>\n",
       "      <td>0.002518</td>\n",
       "      <td>0.000681</td>\n",
       "      <td>0.000184</td>\n",
       "      <td>3353.336426</td>\n",
       "    </tr>\n",
       "  </tbody>\n",
       "</table>\n",
       "<p>2 rows × 6835 columns</p>\n",
       "</div>"
      ],
      "text/plain": [
       "              UNMAPPED  UNINTEGRATED  \\\n",
       "GeneLine                               \n",
       "high      2.051422e+10  1.561710e+10   \n",
       "low       3.319654e+10  1.800541e+10   \n",
       "\n",
       "          UNINTEGRATED|g__Acinetobacter.s__Acinetobacter_albensis  \\\n",
       "GeneLine                                                            \n",
       "high                                             330.794861         \n",
       "low                                                0.000000         \n",
       "\n",
       "          UNINTEGRATED|g__Acinetobacter.s__Acinetobacter_johnsonii  \\\n",
       "GeneLine                                                             \n",
       "high                                            1975.280396          \n",
       "low                                                0.000000          \n",
       "\n",
       "          UNINTEGRATED|g__Aeromonas.s__Aeromonas_bestiarum  \\\n",
       "GeneLine                                                     \n",
       "high                                          9.780278e+04   \n",
       "low                                           1.168652e+07   \n",
       "\n",
       "          UNINTEGRATED|g__Aeromonas.s__Aeromonas_diversa  \\\n",
       "GeneLine                                                   \n",
       "high                                        3.880166e+05   \n",
       "low                                         1.156839e+07   \n",
       "\n",
       "          UNINTEGRATED|g__Aeromonas.s__Aeromonas_hydrophila  \\\n",
       "GeneLine                                                      \n",
       "high                                           5.477877e+04   \n",
       "low                                            1.019728e+06   \n",
       "\n",
       "          UNINTEGRATED|g__Aeromonas.s__Aeromonas_media  \\\n",
       "GeneLine                                                 \n",
       "high                                       1611.636108   \n",
       "low                                       94357.296875   \n",
       "\n",
       "          UNINTEGRATED|g__Aeromonas.s__Aeromonas_rivipollensis  \\\n",
       "GeneLine                                                         \n",
       "high                                           1.751288e+03      \n",
       "low                                            1.119131e+06      \n",
       "\n",
       "          UNINTEGRATED|g__Aeromonas.s__Aeromonas_sobria  ...  \\\n",
       "GeneLine                                                 ...   \n",
       "high                                       8.620087e+07  ...   \n",
       "low                                        3.413406e+06  ...   \n",
       "\n",
       "          VALSYN-PWY: L-valine biosynthesis|g__Staphylococcus.s__Staphylococcus_simulans  \\\n",
       "GeneLine                                                                                   \n",
       "high                                               0.000000                                \n",
       "low                                                0.000167                                \n",
       "\n",
       "          VALSYN-PWY: L-valine biosynthesis|g__Staphylococcus.s__Staphylococcus_xylosus  \\\n",
       "GeneLine                                                                                  \n",
       "high                                               0.000358                               \n",
       "low                                                0.001052                               \n",
       "\n",
       "          VALSYN-PWY: L-valine biosynthesis|g__Streptococcus.s__Streptococcus_dysgalactiae_group  \\\n",
       "GeneLine                                                                                           \n",
       "high                                               0.040123                                        \n",
       "low                                                0.037866                                        \n",
       "\n",
       "          VALSYN-PWY: L-valine biosynthesis|g__Streptococcus.s__Streptococcus_equinus  \\\n",
       "GeneLine                                                                                \n",
       "high                                               0.001204                             \n",
       "low                                                0.000712                             \n",
       "\n",
       "          VALSYN-PWY: L-valine biosynthesis|g__Streptococcus.s__Streptococcus_gallolyticus  \\\n",
       "GeneLine                                                                                     \n",
       "high                                               0.003983                                  \n",
       "low                                                0.001531                                  \n",
       "\n",
       "          VALSYN-PWY: L-valine biosynthesis|g__Streptococcus.s__Streptococcus_infantarius  \\\n",
       "GeneLine                                                                                    \n",
       "high                                               0.002853                                 \n",
       "low                                                0.004253                                 \n",
       "\n",
       "          VALSYN-PWY: L-valine biosynthesis|g__Streptococcus.s__Streptococcus_lutetiensis  \\\n",
       "GeneLine                                                                                    \n",
       "high                                               0.003263                                 \n",
       "low                                                0.002518                                 \n",
       "\n",
       "          VALSYN-PWY: L-valine biosynthesis|g__Streptococcus.s__Streptococcus_macedonicus  \\\n",
       "GeneLine                                                                                    \n",
       "high                                               0.000938                                 \n",
       "low                                                0.000681                                 \n",
       "\n",
       "          VALSYN-PWY: L-valine biosynthesis|g__Streptococcus.s__Streptococcus_pasteurianus  \\\n",
       "GeneLine                                                                                     \n",
       "high                                               0.000572                                  \n",
       "low                                                0.000184                                  \n",
       "\n",
       "          VALSYN-PWY: L-valine biosynthesis|unclassified  \n",
       "GeneLine                                                  \n",
       "high                                        11198.749023  \n",
       "low                                          3353.336426  \n",
       "\n",
       "[2 rows x 6835 columns]"
      ]
     },
     "execution_count": 279,
     "metadata": {},
     "output_type": "execute_result"
    }
   ],
   "source": [
    "# Variance\n",
    "mp_fin.groupby('GeneLine').var()"
   ]
  },
  {
   "cell_type": "code",
   "execution_count": 280,
   "id": "73c9cb65-70ec-4d45-925e-4101409475ba",
   "metadata": {},
   "outputs": [
    {
     "data": {
      "text/html": [
       "<div>\n",
       "<style scoped>\n",
       "    .dataframe tbody tr th:only-of-type {\n",
       "        vertical-align: middle;\n",
       "    }\n",
       "\n",
       "    .dataframe tbody tr th {\n",
       "        vertical-align: top;\n",
       "    }\n",
       "\n",
       "    .dataframe thead th {\n",
       "        text-align: right;\n",
       "    }\n",
       "</style>\n",
       "<table border=\"1\" class=\"dataframe\">\n",
       "  <thead>\n",
       "    <tr style=\"text-align: right;\">\n",
       "      <th>GeneLine</th>\n",
       "      <th>high</th>\n",
       "      <th>low</th>\n",
       "    </tr>\n",
       "  </thead>\n",
       "  <tbody>\n",
       "    <tr>\n",
       "      <th>PWY-6285: superpathway of fatty acids biosynthesis (E. coli)|unclassified</th>\n",
       "      <td>11.339546</td>\n",
       "      <td>9.198452</td>\n",
       "    </tr>\n",
       "    <tr>\n",
       "      <th>PWY-7820: teichuronic acid biosynthesis (B. subtilis 168)|unclassified</th>\n",
       "      <td>0.130105</td>\n",
       "      <td>0.000000</td>\n",
       "    </tr>\n",
       "    <tr>\n",
       "      <th>FASYN-INITIAL-PWY: superpathway of fatty acid biosynthesis initiation (E. coli)|unclassified</th>\n",
       "      <td>1.233978</td>\n",
       "      <td>1.405536</td>\n",
       "    </tr>\n",
       "    <tr>\n",
       "      <th>POLYISOPRENSYN-PWY: polyisoprenoid biosynthesis (E. coli)|unclassified</th>\n",
       "      <td>18.416389</td>\n",
       "      <td>16.014008</td>\n",
       "    </tr>\n",
       "    <tr>\n",
       "      <th>PWY0-166: superpathway of pyrimidine deoxyribonucleotides de novo biosynthesis (E. coli)|unclassified</th>\n",
       "      <td>9.323432</td>\n",
       "      <td>7.964573</td>\n",
       "    </tr>\n",
       "  </tbody>\n",
       "</table>\n",
       "</div>"
      ],
      "text/plain": [
       "GeneLine                                                 high        low\n",
       "PWY-6285: superpathway of fatty acids biosynthe...  11.339546   9.198452\n",
       "PWY-7820: teichuronic acid biosynthesis (B. sub...   0.130105   0.000000\n",
       "FASYN-INITIAL-PWY: superpathway of fatty acid b...   1.233978   1.405536\n",
       "POLYISOPRENSYN-PWY: polyisoprenoid biosynthesis...  18.416389  16.014008\n",
       "PWY0-166: superpathway of pyrimidine deoxyribon...   9.323432   7.964573"
      ]
     },
     "execution_count": 280,
     "metadata": {},
     "output_type": "execute_result"
    }
   ],
   "source": [
    "LEVEL = 'level2'\n",
    "temp_ = mp_fin.loc[:, familyMap[LEVEL]+['GeneLine']].groupby('GeneLine').mean().T\n",
    "temp_ = temp_[temp_['high']<30]\n",
    "temp_.head()"
   ]
  },
  {
   "cell_type": "code",
   "execution_count": 281,
   "id": "280961f7-f617-4c59-93df-bcc0427ed4e3",
   "metadata": {},
   "outputs": [
    {
     "data": {
      "image/png": "[encoded data removed]",
      "text/plain": [
       "<Figure size 1000x500 with 1 Axes>"
      ]
     },
     "metadata": {},
     "output_type": "display_data"
    }
   ],
   "source": [
    "t_ = 10\n",
    "\n",
    "plt.figure(figsize=(10, 5), dpi = 100)\n",
    "sns.scatterplot(x=temp_['high'], y=temp_['low'])\n",
    "plt.plot([0,t_], [0, t_], ls=':', color='black', linewidth = .9, label='y=x')\n",
    "plt.title(f\"Statistical Shift across both gene lines in {LEVEL} family.\")\n",
    "plt.legend()\n",
    "plt.show()"
   ]
  },
  {
   "cell_type": "code",
   "execution_count": 282,
   "id": "424557f0-ede4-4eb6-9fb1-23fc31a41bb3",
   "metadata": {},
   "outputs": [
    {
     "data": {
      "image/png": "[encoded data removed]",
      "text/plain": [
       "<Figure size 800x400 with 1 Axes>"
      ]
     },
     "metadata": {},
     "output_type": "display_data"
    }
   ],
   "source": [
    "LEVEL = 'full'\n",
    "temp2_ = mp_fin.groupby('GeneLine').median().T\n",
    "temp2Diff_ = (temp2_['high']-temp2_['low'])\n",
    "\n",
    "plt.figure(figsize=(8, 4), dpi = 100)\n",
    "sns.boxplot(data=temp2Diff_, showfliers=True, orient = 'h')\n",
    "\n",
    "plt.title(f\"Boxplot of statistical measure difference across both gene lines in {LEVEL} family.\")\n",
    "plt.show()"
   ]
  },
  {
   "cell_type": "markdown",
   "id": "6b78bc3a-57c7-49c9-8780-865fb0591e3e",
   "metadata": {},
   "source": [
    "We see that several features are present in the outlier region"
   ]
  },
  {
   "cell_type": "code",
   "execution_count": 283,
   "id": "7a80e084-9a3f-4317-a673-344a4e66123e",
   "metadata": {},
   "outputs": [],
   "source": [
    "# temp2_ = mp_fin.groupby('GeneLine').mean().T\n",
    "# temp2_ = mp_fin.groupby('GeneLine').median().T\n",
    "# temp2_ = mp_fin.groupby('GeneLine').var().T\n",
    "# temp2Diff_ = (temp2_['high']-temp2_['low'])\n",
    "\n",
    "# outlierDf = pd.merge(left=outlierDf, right = temp2Diff_.rename(\"statVarDiff\"), left_on='feature', right_index=True)"
   ]
  },
  {
   "cell_type": "markdown",
   "id": "26e24058-9976-410d-83c8-4d575eed2b78",
   "metadata": {},
   "source": [
    "### Mutual Importance"
   ]
  },
  {
   "cell_type": "code",
   "execution_count": 284,
   "id": "f1595530-19a5-456c-836a-3f47ffc39697",
   "metadata": {},
   "outputs": [],
   "source": [
    "from sklearn.feature_selection import mutual_info_classif"
   ]
  },
  {
   "cell_type": "code",
   "execution_count": 285,
   "id": "538519d7-53f1-4ff1-a7b0-f2cffabd163b",
   "metadata": {
    "scrolled": true
   },
   "outputs": [
    {
     "name": "stdout",
     "output_type": "stream",
     "text": [
      "CPU times: user 4.86 s, sys: 50.1 ms, total: 4.91 s\n",
      "Wall time: 4.91 s\n"
     ]
    }
   ],
   "source": [
    "%%time\n",
    "# Mutual Information\n",
    "mi = mutual_info_classif(mp_fin.iloc[:, :-1], mp_fin.iloc[:, -1].replace({'high':1, 'low':0}))"
   ]
  },
  {
   "cell_type": "code",
   "execution_count": 286,
   "id": "18fda64e-2314-4385-ade4-f96bb88e9e86",
   "metadata": {},
   "outputs": [],
   "source": [
    "outlierDf = outlierDf.assign(mi=mi)"
   ]
  },
  {
   "cell_type": "code",
   "execution_count": 212,
   "id": "9e59db90-77d0-4e51-b6ab-48c827563e1e",
   "metadata": {},
   "outputs": [],
   "source": [
    "# outlierDf"
   ]
  },
  {
   "cell_type": "code",
   "execution_count": 213,
   "id": "8e2f296e-8b3d-4731-a82d-88233e33c73c",
   "metadata": {},
   "outputs": [],
   "source": [
    "# outlierDf[outlierDf['mi']!=0].sort_values('mi', ascending=False)"
   ]
  },
  {
   "cell_type": "code",
   "execution_count": 287,
   "id": "7d7f6fa9-bf1e-4557-8fef-bc7526cbefb0",
   "metadata": {},
   "outputs": [],
   "source": [
    "# outlierDf.to_csv(\"./metaFishOutlierDataPACPM.csv\", index=False)"
   ]
  },
  {
   "cell_type": "markdown",
   "id": "e48f672f-0726-491f-8e30-e5edfb917e4a",
   "metadata": {},
   "source": [
    "# Machine Learning\n",
    "\n",
    "Data Creation"
   ]
  },
  {
   "cell_type": "code",
   "execution_count": 288,
   "id": "c623832c-ce1b-4f49-8da8-375f0dcc0733",
   "metadata": {},
   "outputs": [],
   "source": [
    "outlierDf = pd.read_csv(\"./metaFishOutlierDataPACPM.csv\")\n",
    "mp_df = pd.read_csv(\"./data/pathAbundanceCPMData.csv\")"
   ]
  },
  {
   "cell_type": "code",
   "execution_count": 289,
   "id": "c3163000-7b84-4948-b85d-c52dd2dd5bb3",
   "metadata": {},
   "outputs": [
    {
     "data": {
      "text/html": [
       "<div>\n",
       "<style scoped>\n",
       "    .dataframe tbody tr th:only-of-type {\n",
       "        vertical-align: middle;\n",
       "    }\n",
       "\n",
       "    .dataframe tbody tr th {\n",
       "        vertical-align: top;\n",
       "    }\n",
       "\n",
       "    .dataframe thead th {\n",
       "        text-align: right;\n",
       "    }\n",
       "</style>\n",
       "<table border=\"1\" class=\"dataframe\">\n",
       "  <thead>\n",
       "    <tr style=\"text-align: right;\">\n",
       "      <th></th>\n",
       "      <th>UNMAPPED</th>\n",
       "      <th>UNINTEGRATED</th>\n",
       "      <th>UNINTEGRATED|g__Acinetobacter.s__Acinetobacter_albensis</th>\n",
       "      <th>UNINTEGRATED|g__Acinetobacter.s__Acinetobacter_johnsonii</th>\n",
       "      <th>UNINTEGRATED|g__Aeromonas.s__Aeromonas_bestiarum</th>\n",
       "      <th>UNINTEGRATED|g__Aeromonas.s__Aeromonas_diversa</th>\n",
       "      <th>UNINTEGRATED|g__Aeromonas.s__Aeromonas_hydrophila</th>\n",
       "      <th>UNINTEGRATED|g__Aeromonas.s__Aeromonas_media</th>\n",
       "      <th>UNINTEGRATED|g__Aeromonas.s__Aeromonas_rivipollensis</th>\n",
       "      <th>UNINTEGRATED|g__Aeromonas.s__Aeromonas_sobria</th>\n",
       "      <th>...</th>\n",
       "      <th>VALSYN-PWY: L-valine biosynthesis|g__Staphylococcus.s__Staphylococcus_xylosus</th>\n",
       "      <th>VALSYN-PWY: L-valine biosynthesis|g__Streptococcus.s__Streptococcus_dysgalactiae_group</th>\n",
       "      <th>VALSYN-PWY: L-valine biosynthesis|g__Streptococcus.s__Streptococcus_equinus</th>\n",
       "      <th>VALSYN-PWY: L-valine biosynthesis|g__Streptococcus.s__Streptococcus_gallolyticus</th>\n",
       "      <th>VALSYN-PWY: L-valine biosynthesis|g__Streptococcus.s__Streptococcus_infantarius</th>\n",
       "      <th>VALSYN-PWY: L-valine biosynthesis|g__Streptococcus.s__Streptococcus_lutetiensis</th>\n",
       "      <th>VALSYN-PWY: L-valine biosynthesis|g__Streptococcus.s__Streptococcus_macedonicus</th>\n",
       "      <th>VALSYN-PWY: L-valine biosynthesis|g__Streptococcus.s__Streptococcus_pasteurianus</th>\n",
       "      <th>VALSYN-PWY: L-valine biosynthesis|unclassified</th>\n",
       "      <th>GeneLine</th>\n",
       "    </tr>\n",
       "  </thead>\n",
       "  <tbody>\n",
       "    <tr>\n",
       "      <th>0</th>\n",
       "      <td>913783.0</td>\n",
       "      <td>47444.9</td>\n",
       "      <td>0.0</td>\n",
       "      <td>0.0</td>\n",
       "      <td>0.0</td>\n",
       "      <td>0.0</td>\n",
       "      <td>0.0</td>\n",
       "      <td>0.0</td>\n",
       "      <td>0.0</td>\n",
       "      <td>0.0</td>\n",
       "      <td>...</td>\n",
       "      <td>0.0</td>\n",
       "      <td>0.0</td>\n",
       "      <td>0.0</td>\n",
       "      <td>0.0</td>\n",
       "      <td>0.0</td>\n",
       "      <td>0.0</td>\n",
       "      <td>0.0</td>\n",
       "      <td>0.0</td>\n",
       "      <td>480.7300</td>\n",
       "      <td>high</td>\n",
       "    </tr>\n",
       "    <tr>\n",
       "      <th>1</th>\n",
       "      <td>804474.0</td>\n",
       "      <td>181615.0</td>\n",
       "      <td>0.0</td>\n",
       "      <td>0.0</td>\n",
       "      <td>0.0</td>\n",
       "      <td>0.0</td>\n",
       "      <td>0.0</td>\n",
       "      <td>0.0</td>\n",
       "      <td>0.0</td>\n",
       "      <td>0.0</td>\n",
       "      <td>...</td>\n",
       "      <td>0.0</td>\n",
       "      <td>0.0</td>\n",
       "      <td>0.0</td>\n",
       "      <td>0.0</td>\n",
       "      <td>0.0</td>\n",
       "      <td>0.0</td>\n",
       "      <td>0.0</td>\n",
       "      <td>0.0</td>\n",
       "      <td>21.4579</td>\n",
       "      <td>high</td>\n",
       "    </tr>\n",
       "    <tr>\n",
       "      <th>2</th>\n",
       "      <td>882094.0</td>\n",
       "      <td>54773.9</td>\n",
       "      <td>0.0</td>\n",
       "      <td>0.0</td>\n",
       "      <td>0.0</td>\n",
       "      <td>0.0</td>\n",
       "      <td>0.0</td>\n",
       "      <td>0.0</td>\n",
       "      <td>0.0</td>\n",
       "      <td>0.0</td>\n",
       "      <td>...</td>\n",
       "      <td>0.0</td>\n",
       "      <td>0.0</td>\n",
       "      <td>0.0</td>\n",
       "      <td>0.0</td>\n",
       "      <td>0.0</td>\n",
       "      <td>0.0</td>\n",
       "      <td>0.0</td>\n",
       "      <td>0.0</td>\n",
       "      <td>65.7242</td>\n",
       "      <td>high</td>\n",
       "    </tr>\n",
       "    <tr>\n",
       "      <th>3</th>\n",
       "      <td>799929.0</td>\n",
       "      <td>167266.0</td>\n",
       "      <td>0.0</td>\n",
       "      <td>0.0</td>\n",
       "      <td>0.0</td>\n",
       "      <td>0.0</td>\n",
       "      <td>0.0</td>\n",
       "      <td>0.0</td>\n",
       "      <td>0.0</td>\n",
       "      <td>0.0</td>\n",
       "      <td>...</td>\n",
       "      <td>0.0</td>\n",
       "      <td>0.0</td>\n",
       "      <td>0.0</td>\n",
       "      <td>0.0</td>\n",
       "      <td>0.0</td>\n",
       "      <td>0.0</td>\n",
       "      <td>0.0</td>\n",
       "      <td>0.0</td>\n",
       "      <td>174.0720</td>\n",
       "      <td>high</td>\n",
       "    </tr>\n",
       "    <tr>\n",
       "      <th>4</th>\n",
       "      <td>812526.0</td>\n",
       "      <td>139233.0</td>\n",
       "      <td>0.0</td>\n",
       "      <td>0.0</td>\n",
       "      <td>0.0</td>\n",
       "      <td>0.0</td>\n",
       "      <td>0.0</td>\n",
       "      <td>0.0</td>\n",
       "      <td>0.0</td>\n",
       "      <td>0.0</td>\n",
       "      <td>...</td>\n",
       "      <td>0.0</td>\n",
       "      <td>0.0</td>\n",
       "      <td>0.0</td>\n",
       "      <td>0.0</td>\n",
       "      <td>0.0</td>\n",
       "      <td>0.0</td>\n",
       "      <td>0.0</td>\n",
       "      <td>0.0</td>\n",
       "      <td>55.9771</td>\n",
       "      <td>high</td>\n",
       "    </tr>\n",
       "  </tbody>\n",
       "</table>\n",
       "<p>5 rows × 6836 columns</p>\n",
       "</div>"
      ],
      "text/plain": [
       "   UNMAPPED  UNINTEGRATED  \\\n",
       "0  913783.0       47444.9   \n",
       "1  804474.0      181615.0   \n",
       "2  882094.0       54773.9   \n",
       "3  799929.0      167266.0   \n",
       "4  812526.0      139233.0   \n",
       "\n",
       "   UNINTEGRATED|g__Acinetobacter.s__Acinetobacter_albensis  \\\n",
       "0                                                0.0         \n",
       "1                                                0.0         \n",
       "2                                                0.0         \n",
       "3                                                0.0         \n",
       "4                                                0.0         \n",
       "\n",
       "   UNINTEGRATED|g__Acinetobacter.s__Acinetobacter_johnsonii  \\\n",
       "0                                                0.0          \n",
       "1                                                0.0          \n",
       "2                                                0.0          \n",
       "3                                                0.0          \n",
       "4                                                0.0          \n",
       "\n",
       "   UNINTEGRATED|g__Aeromonas.s__Aeromonas_bestiarum  \\\n",
       "0                                               0.0   \n",
       "1                                               0.0   \n",
       "2                                               0.0   \n",
       "3                                               0.0   \n",
       "4                                               0.0   \n",
       "\n",
       "   UNINTEGRATED|g__Aeromonas.s__Aeromonas_diversa  \\\n",
       "0                                             0.0   \n",
       "1                                             0.0   \n",
       "2                                             0.0   \n",
       "3                                             0.0   \n",
       "4                                             0.0   \n",
       "\n",
       "   UNINTEGRATED|g__Aeromonas.s__Aeromonas_hydrophila  \\\n",
       "0                                                0.0   \n",
       "1                                                0.0   \n",
       "2                                                0.0   \n",
       "3                                                0.0   \n",
       "4                                                0.0   \n",
       "\n",
       "   UNINTEGRATED|g__Aeromonas.s__Aeromonas_media  \\\n",
       "0                                           0.0   \n",
       "1                                           0.0   \n",
       "2                                           0.0   \n",
       "3                                           0.0   \n",
       "4                                           0.0   \n",
       "\n",
       "   UNINTEGRATED|g__Aeromonas.s__Aeromonas_rivipollensis  \\\n",
       "0                                                0.0      \n",
       "1                                                0.0      \n",
       "2                                                0.0      \n",
       "3                                                0.0      \n",
       "4                                                0.0      \n",
       "\n",
       "   UNINTEGRATED|g__Aeromonas.s__Aeromonas_sobria  ...  \\\n",
       "0                                            0.0  ...   \n",
       "1                                            0.0  ...   \n",
       "2                                            0.0  ...   \n",
       "3                                            0.0  ...   \n",
       "4                                            0.0  ...   \n",
       "\n",
       "   VALSYN-PWY: L-valine biosynthesis|g__Staphylococcus.s__Staphylococcus_xylosus  \\\n",
       "0                                                0.0                               \n",
       "1                                                0.0                               \n",
       "2                                                0.0                               \n",
       "3                                                0.0                               \n",
       "4                                                0.0                               \n",
       "\n",
       "   VALSYN-PWY: L-valine biosynthesis|g__Streptococcus.s__Streptococcus_dysgalactiae_group  \\\n",
       "0                                                0.0                                        \n",
       "1                                                0.0                                        \n",
       "2                                                0.0                                        \n",
       "3                                                0.0                                        \n",
       "4                                                0.0                                        \n",
       "\n",
       "   VALSYN-PWY: L-valine biosynthesis|g__Streptococcus.s__Streptococcus_equinus  \\\n",
       "0                                                0.0                             \n",
       "1                                                0.0                             \n",
       "2                                                0.0                             \n",
       "3                                                0.0                             \n",
       "4                                                0.0                             \n",
       "\n",
       "   VALSYN-PWY: L-valine biosynthesis|g__Streptococcus.s__Streptococcus_gallolyticus  \\\n",
       "0                                                0.0                                  \n",
       "1                                                0.0                                  \n",
       "2                                                0.0                                  \n",
       "3                                                0.0                                  \n",
       "4                                                0.0                                  \n",
       "\n",
       "   VALSYN-PWY: L-valine biosynthesis|g__Streptococcus.s__Streptococcus_infantarius  \\\n",
       "0                                                0.0                                 \n",
       "1                                                0.0                                 \n",
       "2                                                0.0                                 \n",
       "3                                                0.0                                 \n",
       "4                                                0.0                                 \n",
       "\n",
       "   VALSYN-PWY: L-valine biosynthesis|g__Streptococcus.s__Streptococcus_lutetiensis  \\\n",
       "0                                                0.0                                 \n",
       "1                                                0.0                                 \n",
       "2                                                0.0                                 \n",
       "3                                                0.0                                 \n",
       "4                                                0.0                                 \n",
       "\n",
       "   VALSYN-PWY: L-valine biosynthesis|g__Streptococcus.s__Streptococcus_macedonicus  \\\n",
       "0                                                0.0                                 \n",
       "1                                                0.0                                 \n",
       "2                                                0.0                                 \n",
       "3                                                0.0                                 \n",
       "4                                                0.0                                 \n",
       "\n",
       "   VALSYN-PWY: L-valine biosynthesis|g__Streptococcus.s__Streptococcus_pasteurianus  \\\n",
       "0                                                0.0                                  \n",
       "1                                                0.0                                  \n",
       "2                                                0.0                                  \n",
       "3                                                0.0                                  \n",
       "4                                                0.0                                  \n",
       "\n",
       "   VALSYN-PWY: L-valine biosynthesis|unclassified  GeneLine  \n",
       "0                                        480.7300      high  \n",
       "1                                         21.4579      high  \n",
       "2                                         65.7242      high  \n",
       "3                                        174.0720      high  \n",
       "4                                         55.9771      high  \n",
       "\n",
       "[5 rows x 6836 columns]"
      ]
     },
     "execution_count": 289,
     "metadata": {},
     "output_type": "execute_result"
    }
   ],
   "source": [
    "mp_df.head()"
   ]
  },
  {
   "cell_type": "code",
   "execution_count": 290,
   "id": "92778ad9-9ff3-47e8-b515-93fa57e85653",
   "metadata": {},
   "outputs": [
    {
     "name": "stdout",
     "output_type": "stream",
     "text": [
      "Data Shape: (244, 6835) : (105, 6835) : (244,) : (105,)\n"
     ]
    }
   ],
   "source": [
    "def genDataFnx(columns='full', scale=None, test_size=0.3, stratify=False, SEED=SEED, data=mp_df):\n",
    "    '''\n",
    "    args\n",
    "    data: input dataframe. default mp_df\n",
    "    columns: columns to consider. default 'full'. inputs list.\n",
    "    scale: scaling strategy. default None. inputs 'standard', 'minmax'.\n",
    "    test_size: data split test size. defaults 0.3. inputs float, None (no train test split).\n",
    "    stratify: stratify strategy. defaults False. On labels if True.\n",
    "    SEED: random state SEED\n",
    "    '''\n",
    "    dataModel = mp_df.copy()\n",
    "    dataModel.replace({'GeneLine':{'high':1, 'low':0}}, inplace=True)\n",
    "\n",
    "    if columns == 'full':\n",
    "        xdata, ydata = dataModel.iloc[:,:-1], dataModel.iloc[:,-1]\n",
    "    else:\n",
    "        xdata, ydata = dataModel.loc[:,columns], dataModel.iloc[:,-1]\n",
    "    sca = None\n",
    "    if scale=='standard':\n",
    "        sca = StandardScaler()\n",
    "        xdata = sca.fit_transform(xdata)\n",
    "    elif scale=='minmax':\n",
    "        sca = MinMaxScaler()\n",
    "        xdata = sca.fit_transform(xdata)\n",
    "\n",
    "    if test_size==None:\n",
    "        return np.array(xdata), np.array(ydata)\n",
    "\n",
    "    if stratify==False:\n",
    "        xstrain, xstest, ytrain, ytest = train_test_split(xdata, ydata, test_size=test_size, random_state=SEED)\n",
    "    else:\n",
    "        xstrain, xstest, ytrain, ytest = train_test_split(xdata, ydata, test_size=test_size, stratify=ydata, random_state=SEED)\n",
    "    \n",
    "    xstrain, xstest = np.array(xstrain), np.array(xstest)\n",
    "    del dataModel, xdata, ydata\n",
    "    gc.collect()\n",
    "    print(f\"Data Shape: {xstrain.shape} : {xstest.shape} : {ytrain.shape} : {ytest.shape}\")\n",
    "    return xstrain, xstest, ytrain, ytest, sca\n",
    "\n",
    "xtrain, xtest, ytrain, ytest, _ = genDataFnx()"
   ]
  },
  {
   "cell_type": "code",
   "execution_count": 291,
   "id": "55ede20b-eda2-4c79-9722-f019487e46fc",
   "metadata": {},
   "outputs": [],
   "source": [
    "def resultAnalysisFnx(ytrue,ypred,target_names=None,plot=True):\n",
    "    if target_names != None:\n",
    "        print(classification_report(ytrue,ypred,target_names = target_names, zero_division=0))\n",
    "    else:\n",
    "        print(classification_report(ytrue,ypred, zero_division=0))\n",
    "\n",
    "    conf_matrix = confusion_matrix(ytrue, ypred)\n",
    "    \n",
    "    plt.figure(figsize=(4, 3))\n",
    "    if target_names != None:\n",
    "        sns.heatmap(conf_matrix/np.sum(conf_matrix), annot=True, fmt='.2%', cmap='Blues', cbar=False, xticklabels=target_names,yticklabels=target_names, linewidths=0.8, linecolor='black')\n",
    "    else:\n",
    "        sns.heatmap(conf_matrix/np.sum(conf_matrix), annot=True, fmt='.2%', cmap='Blues', cbar=False, linewidths=0.8, linecolor='black', xticklabels=True, yticklabels=True)\n",
    "\n",
    "    # sns.heatmap(conf_matrix, annot=True, fmt='d', cmap='Blues', cbar=False)\n",
    "    plt.xlabel('Predicted')\n",
    "    plt.ylabel('Actual')\n",
    "    plt.title('Confusion Matrix')\n",
    "    plt.show()\n",
    "\n",
    "    return classification_report(ytrue,ypred,output_dict=True, zero_division=0)"
   ]
  },
  {
   "cell_type": "code",
   "execution_count": 292,
   "id": "502f4041-bade-46b1-a5fd-9ae7d600f9f2",
   "metadata": {},
   "outputs": [],
   "source": [
    "TARGETNAMES = ['low', 'high']"
   ]
  },
  {
   "cell_type": "markdown",
   "id": "5719ea7d-7a5b-4071-b7d9-b415de0b5c65",
   "metadata": {},
   "source": [
    "## Naive Bayes - Gaussian"
   ]
  },
  {
   "cell_type": "code",
   "execution_count": 293,
   "id": "980d2070-f3ab-45a7-ac52-f65d85bb7d7b",
   "metadata": {},
   "outputs": [],
   "source": [
    "from sklearn.naive_bayes import GaussianNB"
   ]
  },
  {
   "cell_type": "code",
   "execution_count": 294,
   "id": "8f50d121-a223-4fff-a7a2-b8bab8f4b03e",
   "metadata": {},
   "outputs": [
    {
     "name": "stdout",
     "output_type": "stream",
     "text": [
      "Data Shape: (244, 6835) : (105, 6835) : (244,) : (105,)\n"
     ]
    }
   ],
   "source": [
    "xtrain, xtest, ytrain, ytest, _ = genDataFnx(scale=None)"
   ]
  },
  {
   "cell_type": "code",
   "execution_count": 295,
   "id": "2bf85103-7652-44ae-a713-9e288409ffde",
   "metadata": {},
   "outputs": [
    {
     "name": "stdout",
     "output_type": "stream",
     "text": [
      "CPU times: user 11.3 ms, sys: 4.74 ms, total: 16.1 ms\n",
      "Wall time: 15.2 ms\n"
     ]
    }
   ],
   "source": [
    "%%time\n",
    "gnb = GaussianNB()\n",
    "gnb.fit(xtrain, ytrain)\n",
    "\n",
    "ypred = gnb.predict(xtest)"
   ]
  },
  {
   "cell_type": "code",
   "execution_count": 296,
   "id": "4573492d-7645-44b4-85ff-ae29646be2fa",
   "metadata": {},
   "outputs": [
    {
     "data": {
      "text/plain": [
       "GeneLine\n",
       "0    57\n",
       "1    48\n",
       "Name: count, dtype: int64"
      ]
     },
     "execution_count": 296,
     "metadata": {},
     "output_type": "execute_result"
    }
   ],
   "source": [
    "ytest.value_counts()"
   ]
  },
  {
   "cell_type": "code",
   "execution_count": 297,
   "id": "b90cc799-d7df-4126-bc2b-e159984a968c",
   "metadata": {},
   "outputs": [
    {
     "name": "stdout",
     "output_type": "stream",
     "text": [
      "              precision    recall  f1-score   support\n",
      "\n",
      "         low       0.57      0.95      0.71        57\n",
      "        high       0.70      0.15      0.24        48\n",
      "\n",
      "    accuracy                           0.58       105\n",
      "   macro avg       0.63      0.55      0.48       105\n",
      "weighted avg       0.63      0.58      0.50       105\n",
      "\n"
     ]
    },
    {
     "data": {
      "image/png": "[encoded data removed]",
      "text/plain": [
       "<Figure size 400x300 with 1 Axes>"
      ]
     },
     "metadata": {},
     "output_type": "display_data"
    }
   ],
   "source": [
    "_ = resultAnalysisFnx(ytest, ypred, target_names=TARGETNAMES)"
   ]
  },
  {
   "cell_type": "markdown",
   "id": "2b3870bd-e384-4403-8ed3-6d91c7eb047d",
   "metadata": {},
   "source": [
    "### KFold CV"
   ]
  },
  {
   "cell_type": "code",
   "execution_count": 298,
   "id": "7dfbb01a-8658-4924-bde8-c0ebb37585ba",
   "metadata": {},
   "outputs": [],
   "source": [
    "xdata, ydata = genDataFnx(test_size=None)\n",
    "gnbK = GaussianNB()"
   ]
  },
  {
   "cell_type": "code",
   "execution_count": 299,
   "id": "e73158c7-33fc-4a39-9d8f-f6ff48113c04",
   "metadata": {},
   "outputs": [
    {
     "name": "stdout",
     "output_type": "stream",
     "text": [
      "Average 0.16% accuracy with a standard deviation of 0.05 for 10 folds.\n"
     ]
    }
   ],
   "source": [
    "CV = 10\n",
    "scores = cross_val_score(gnbK, xdata, ydata, cv=5, scoring='f1')\n",
    "print(f\"Average {scores.mean():.2f}% accuracy with a standard deviation of {scores.std():.2f} for {CV} folds.\")"
   ]
  },
  {
   "cell_type": "markdown",
   "id": "62a0f194-e019-4407-a896-6bf7c5f6a801",
   "metadata": {},
   "source": [
    "### MI Fea Imp Columns"
   ]
  },
  {
   "cell_type": "code",
   "execution_count": 300,
   "id": "4236ea27-4c8d-481d-93e3-8f0021e15b47",
   "metadata": {},
   "outputs": [
    {
     "name": "stdout",
     "output_type": "stream",
     "text": [
      "Data Shape: (244, 3359) : (105, 3359) : (244,) : (105,)\n"
     ]
    }
   ],
   "source": [
    "colExp = outlierDf[outlierDf['mi']!=0]['feature'].values.tolist()\n",
    "xtrainE, xtestE, ytrainE, ytestE, _ = genDataFnx(columns=colExp, scale=None)"
   ]
  },
  {
   "cell_type": "code",
   "execution_count": 301,
   "id": "014bf12e-8e06-4c29-bbaf-ecbe460153ac",
   "metadata": {},
   "outputs": [
    {
     "name": "stdout",
     "output_type": "stream",
     "text": [
      "CPU times: user 13 ms, sys: 4.83 ms, total: 17.8 ms\n",
      "Wall time: 15.6 ms\n"
     ]
    }
   ],
   "source": [
    "%%time\n",
    "gnb = GaussianNB()\n",
    "gnb.fit(xtrainE, ytrainE)\n",
    "\n",
    "ypredE = gnb.predict(xtestE)"
   ]
  },
  {
   "cell_type": "code",
   "execution_count": 302,
   "id": "16c42aca-5dd1-451f-bfac-dc0846b7d0e9",
   "metadata": {},
   "outputs": [
    {
     "name": "stdout",
     "output_type": "stream",
     "text": [
      "              precision    recall  f1-score   support\n",
      "\n",
      "         low       0.56      0.96      0.71        57\n",
      "        high       0.71      0.10      0.18        48\n",
      "\n",
      "    accuracy                           0.57       105\n",
      "   macro avg       0.64      0.53      0.45       105\n",
      "weighted avg       0.63      0.57      0.47       105\n",
      "\n"
     ]
    },
    {
     "data": {
      "image/png": "[encoded data removed]",
      "text/plain": [
       "<Figure size 400x300 with 1 Axes>"
      ]
     },
     "metadata": {},
     "output_type": "display_data"
    }
   ],
   "source": [
    "_ = resultAnalysisFnx(ytestE, ypredE, target_names=TARGETNAMES)"
   ]
  },
  {
   "cell_type": "markdown",
   "id": "ac41077d-9e1c-4bc7-9bbe-7aead3ad9a6b",
   "metadata": {},
   "source": [
    "### NB - Level Wise"
   ]
  },
  {
   "cell_type": "code",
   "execution_count": 303,
   "id": "26a0a485-7aa0-40ec-97e5-61bec0f5148f",
   "metadata": {},
   "outputs": [
    {
     "data": {
      "text/plain": [
       "level\n",
       "4    5345\n",
       "1     539\n",
       "2     539\n",
       "5     305\n",
       "6      96\n",
       "3      11\n",
       "Name: count, dtype: int64"
      ]
     },
     "execution_count": 303,
     "metadata": {},
     "output_type": "execute_result"
    }
   ],
   "source": [
    "outlierDf['level'].value_counts()"
   ]
  },
  {
   "cell_type": "code",
   "execution_count": 304,
   "id": "5a7d6d14-debe-45ad-a57b-8344100912a5",
   "metadata": {},
   "outputs": [
    {
     "data": {
      "text/plain": [
       "6"
      ]
     },
     "execution_count": 304,
     "metadata": {},
     "output_type": "execute_result"
    }
   ],
   "source": []
  },
  {
   "cell_type": "code",
   "execution_count": 305,
   "id": "e6e51786-31e8-4915-8263-cae40bb55824",
   "metadata": {},
   "outputs": [
    {
     "name": "stdout",
     "output_type": "stream",
     "text": [
      "Data Shape: (244, 539) : (105, 539) : (244,) : (105,)\n",
      "Number of Columns at level1: 539 features with acc of 54.29%\n",
      "Data Shape: (244, 539) : (105, 539) : (244,) : (105,)\n",
      "Number of Columns at level2: 539 features with acc of 44.76%\n",
      "Data Shape: (244, 11) : (105, 11) : (244,) : (105,)\n",
      "Number of Columns at level3: 11 features with acc of 56.19%\n",
      "Data Shape: (244, 5345) : (105, 5345) : (244,) : (105,)\n",
      "Number of Columns at level4: 5345 features with acc of 53.33%\n",
      "Data Shape: (244, 305) : (105, 305) : (244,) : (105,)\n",
      "Number of Columns at level5: 305 features with acc of 48.57%\n",
      "Data Shape: (244, 96) : (105, 96) : (244,) : (105,)\n",
      "Number of Columns at level6: 96 features with acc of 55.24%\n"
     ]
    }
   ],
   "source": [
    "for i in range(1, outlierDf['level'].max()+1):\n",
    "    colExp = outlierDf[outlierDf['level']==i]['feature'].values.tolist()\n",
    "    \n",
    "    xtrainE, xtestE, ytrainE, ytestE, _ = genDataFnx(columns=colExp, scale=None)\n",
    "    gnb = GaussianNB()\n",
    "    gnb.fit(xtrainE, ytrainE)\n",
    "    \n",
    "    ypredE = gnb.predict(xtestE)\n",
    "    tt = classification_report(ytestE,ypredE,output_dict=True, zero_division=0)\n",
    "    print(f\"Number of Columns at level{i}: {len(colExp)} features with acc of {tt['accuracy']*100:.2f}%\")"
   ]
  },
  {
   "cell_type": "markdown",
   "id": "1a869f3a-9ac5-4232-89cc-8cab602d1b0d",
   "metadata": {},
   "source": [
    "## Logistic Regression"
   ]
  },
  {
   "cell_type": "code",
   "execution_count": 306,
   "id": "8941d7ad-65d2-407a-a3ae-dee44e7401ab",
   "metadata": {},
   "outputs": [],
   "source": [
    "from sklearn.linear_model import LogisticRegression"
   ]
  },
  {
   "cell_type": "code",
   "execution_count": 307,
   "id": "cdd17269-8ca1-4423-843b-f4f4294e2ee4",
   "metadata": {},
   "outputs": [
    {
     "name": "stdout",
     "output_type": "stream",
     "text": [
      "Data Shape: (244, 6835) : (105, 6835) : (244,) : (105,)\n",
      "CPU times: user 1.12 s, sys: 18.1 ms, total: 1.14 s\n",
      "Wall time: 355 ms\n"
     ]
    }
   ],
   "source": [
    "%%time\n",
    "xtrain, xtest, ytrain, ytest, _ = genDataFnx(scale='standard')\n",
    "logres = LogisticRegression(random_state=SEED)\n",
    "\n",
    "logres.fit(xtrain, ytrain)\n",
    "\n",
    "ypred = logres.predict(xtest)"
   ]
  },
  {
   "cell_type": "code",
   "execution_count": 308,
   "id": "a7bcbfb2-0e9c-4c8e-88d1-a36f8e8284a3",
   "metadata": {},
   "outputs": [
    {
     "name": "stdout",
     "output_type": "stream",
     "text": [
      "              precision    recall  f1-score   support\n",
      "\n",
      "         low       0.46      0.33      0.39        57\n",
      "        high       0.41      0.54      0.46        48\n",
      "\n",
      "    accuracy                           0.43       105\n",
      "   macro avg       0.43      0.44      0.43       105\n",
      "weighted avg       0.44      0.43      0.42       105\n",
      "\n"
     ]
    },
    {
     "data": {
      "image/png": "[encoded data removed]",
      "text/plain": [
       "<Figure size 400x300 with 1 Axes>"
      ]
     },
     "metadata": {},
     "output_type": "display_data"
    }
   ],
   "source": [
    "_ = resultAnalysisFnx(ytest, ypred, target_names=TARGETNAMES)"
   ]
  },
  {
   "cell_type": "markdown",
   "id": "c89083e5-e55f-4e05-bc16-60335d38a0a2",
   "metadata": {},
   "source": [
    "### Feature Importance"
   ]
  },
  {
   "cell_type": "code",
   "execution_count": 309,
   "id": "b02dd5c4-7383-4b9d-b57a-2ab82bfc7bc4",
   "metadata": {},
   "outputs": [],
   "source": [
    "feature_importance = logres.coef_[0]"
   ]
  },
  {
   "cell_type": "code",
   "execution_count": 310,
   "id": "2477d3db-55b7-47a0-aad8-b32ae7fe568d",
   "metadata": {},
   "outputs": [],
   "source": [
    "odf_temp = outlierDf.assign(logresFeaImp = feature_importance)"
   ]
  },
  {
   "cell_type": "code",
   "execution_count": 311,
   "id": "e4613e8e-0ceb-4611-9254-2a7fa14b5a4e",
   "metadata": {},
   "outputs": [
    {
     "data": {
      "image/png": "[encoded data removed]",
      "text/plain": [
       "<Figure size 1200x400 with 2 Axes>"
      ]
     },
     "metadata": {},
     "output_type": "display_data"
    }
   ],
   "source": [
    "fig, ax = plt.subplots(nrows=1,ncols=2, figsize=(12,4), sharey=False)\n",
    "sns.histplot(data=odf_temp['logresFeaImp'], binwidth=0.01, ax=ax[0])\n",
    "sns.boxplot(data=odf_temp['logresFeaImp'], orient='h', ax=ax[1])\n",
    "ax[0].set_title('Distribution of feature importances.')\n",
    "ax[1].set_title('Boxplot of feature importances.')\n",
    "plt.tight_layout()\n",
    "plt.show()"
   ]
  },
  {
   "cell_type": "code",
   "execution_count": 312,
   "id": "edb6506c-f347-46ef-8217-ba1e099ab205",
   "metadata": {},
   "outputs": [
    {
     "name": "stdout",
     "output_type": "stream",
     "text": [
      "Data Shape: (244, 389) : (105, 389) : (244,) : (105,)\n",
      "              precision    recall  f1-score   support\n",
      "\n",
      "         low       0.61      0.40      0.48        57\n",
      "        high       0.49      0.69      0.57        48\n",
      "\n",
      "    accuracy                           0.53       105\n",
      "   macro avg       0.55      0.55      0.53       105\n",
      "weighted avg       0.55      0.53      0.53       105\n",
      "\n"
     ]
    },
    {
     "data": {
      "image/png": "[encoded data removed]",
      "text/plain": [
       "<Figure size 400x300 with 1 Axes>"
      ]
     },
     "metadata": {},
     "output_type": "display_data"
    },
    {
     "name": "stdout",
     "output_type": "stream",
     "text": [
      "CPU times: user 511 ms, sys: 245 ms, total: 756 ms\n",
      "Wall time: 234 ms\n"
     ]
    }
   ],
   "source": [
    "%%time\n",
    "colExp = odf_temp[(odf_temp['logresFeaImp']<-0.1)|(odf_temp['logresFeaImp']>0.1)]['feature'].values.tolist()\n",
    "xtrainE, xtestE, ytrainE, ytestE, _ = genDataFnx(columns=colExp, scale=None)\n",
    "\n",
    "logres = LogisticRegression(random_state=SEED)\n",
    "logres.fit(xtrainE, ytrainE)\n",
    "\n",
    "ypredE = logres.predict(xtestE)\n",
    "\n",
    "_ = resultAnalysisFnx(ytestE, ypredE, target_names=TARGETNAMES)"
   ]
  },
  {
   "cell_type": "markdown",
   "id": "f075d1ba-a4e1-4ae4-b4ca-84db86f50a09",
   "metadata": {},
   "source": [
    "### KFold CV"
   ]
  },
  {
   "cell_type": "code",
   "execution_count": 313,
   "id": "f792d54b-d548-491f-bf9b-c42976aeecf8",
   "metadata": {},
   "outputs": [
    {
     "name": "stdout",
     "output_type": "stream",
     "text": [
      "Average 0.49% accuracy with a standard deviation of 0.05 for 10 folds.\n"
     ]
    }
   ],
   "source": [
    "xdata, ydata = genDataFnx(scale='standard', test_size=None)\n",
    "\n",
    "logresK = LogisticRegression(random_state=SEED)\n",
    "\n",
    "CV = 10\n",
    "scores = cross_val_score(logresK, xdata, ydata, cv=5, scoring='f1')\n",
    "print(f\"Average {scores.mean():.2f}% accuracy with a standard deviation of {scores.std():.2f} for {CV} folds.\")"
   ]
  },
  {
   "cell_type": "markdown",
   "id": "21d2c198-529c-45c5-8e99-45a383ca90cc",
   "metadata": {},
   "source": [
    "### MI Fea Imp Columns"
   ]
  },
  {
   "cell_type": "code",
   "execution_count": 314,
   "id": "f9a695e8-d782-483f-beb5-eded33c08ae9",
   "metadata": {},
   "outputs": [
    {
     "name": "stdout",
     "output_type": "stream",
     "text": [
      "Data Shape: (244, 3359) : (105, 3359) : (244,) : (105,)\n",
      "              precision    recall  f1-score   support\n",
      "\n",
      "         low       0.57      0.30      0.39        57\n",
      "        high       0.47      0.73      0.57        48\n",
      "\n",
      "    accuracy                           0.50       105\n",
      "   macro avg       0.52      0.51      0.48       105\n",
      "weighted avg       0.52      0.50      0.47       105\n",
      "\n"
     ]
    },
    {
     "data": {
      "image/png": "[encoded data removed]",
      "text/plain": [
       "<Figure size 400x300 with 1 Axes>"
      ]
     },
     "metadata": {},
     "output_type": "display_data"
    },
    {
     "name": "stdout",
     "output_type": "stream",
     "text": [
      "CPU times: user 906 ms, sys: 49.6 ms, total: 955 ms\n",
      "Wall time: 295 ms\n"
     ]
    }
   ],
   "source": [
    "%%time\n",
    "colExp = outlierDf[outlierDf['mi']!=0]['feature'].values.tolist()\n",
    "xtrainE, xtestE, ytrainE, ytestE, _ = genDataFnx(columns=colExp, scale=None)\n",
    "\n",
    "logres = LogisticRegression(random_state=SEED)\n",
    "logres.fit(xtrainE, ytrainE)\n",
    "\n",
    "ypredE = logres.predict(xtestE)\n",
    "\n",
    "_ = resultAnalysisFnx(ytestE, ypredE, target_names=TARGETNAMES)"
   ]
  },
  {
   "cell_type": "markdown",
   "id": "1e247209-b932-4d20-a7cc-89928422a536",
   "metadata": {},
   "source": [
    "### LogRes - Level Wise"
   ]
  },
  {
   "cell_type": "code",
   "execution_count": 316,
   "id": "9b2c8e28-82e2-4f42-a28e-768983ac83ee",
   "metadata": {},
   "outputs": [
    {
     "name": "stdout",
     "output_type": "stream",
     "text": [
      "Data Shape: (244, 539) : (105, 539) : (244,) : (105,)\n",
      "Number of Columns at level1: 539 features with acc of 47.62%\n",
      "Data Shape: (244, 539) : (105, 539) : (244,) : (105,)\n",
      "Number of Columns at level2: 539 features with acc of 49.52%\n",
      "Data Shape: (244, 11) : (105, 11) : (244,) : (105,)\n",
      "Number of Columns at level3: 11 features with acc of 42.86%\n",
      "Data Shape: (244, 5345) : (105, 5345) : (244,) : (105,)\n",
      "Number of Columns at level4: 5345 features with acc of 43.81%\n",
      "Data Shape: (244, 305) : (105, 305) : (244,) : (105,)\n",
      "Number of Columns at level5: 305 features with acc of 44.76%\n",
      "Data Shape: (244, 96) : (105, 96) : (244,) : (105,)\n",
      "Number of Columns at level6: 96 features with acc of 46.67%\n"
     ]
    }
   ],
   "source": [
    "for i in range(1, max(outlierDf['level'])+1):\n",
    "    colExp = outlierDf[outlierDf['level']==i]['feature'].values.tolist()\n",
    "    \n",
    "    xtrainE, xtestE, ytrainE, ytestE, _ = genDataFnx(columns=colExp, scale='standard')\n",
    "    \n",
    "    logres = LogisticRegression(random_state=SEED)\n",
    "    logres.fit(xtrainE, ytrainE)\n",
    "    \n",
    "    ypredE = logres.predict(xtestE)\n",
    "    tt = classification_report(ytestE,ypredE,output_dict=True, zero_division=0)\n",
    "    print(f\"Number of Columns at level{i}: {len(colExp)} features with acc of {tt['accuracy']*100:.2f}%\")"
   ]
  },
  {
   "cell_type": "code",
   "execution_count": 318,
   "id": "6759916c-b5a7-4b4d-ac40-79525cfd57a0",
   "metadata": {},
   "outputs": [
    {
     "name": "stdout",
     "output_type": "stream",
     "text": [
      "Data Shape: (244, 5345) : (105, 5345) : (244,) : (105,)\n",
      "              precision    recall  f1-score   support\n",
      "\n",
      "         low       0.48      0.49      0.49        57\n",
      "        high       0.38      0.38      0.38        48\n",
      "\n",
      "    accuracy                           0.44       105\n",
      "   macro avg       0.43      0.43      0.43       105\n",
      "weighted avg       0.44      0.44      0.44       105\n",
      "\n"
     ]
    },
    {
     "data": {
      "image/png": "[encoded data removed]",
      "text/plain": [
       "<Figure size 400x300 with 1 Axes>"
      ]
     },
     "metadata": {},
     "output_type": "display_data"
    }
   ],
   "source": [
    "colExp = outlierDf[outlierDf['level']==4]['feature'].values.tolist()   \n",
    "xtrainE, xtestE, ytrainE, ytestE, _ = genDataFnx(columns=colExp, scale='standard')\n",
    "\n",
    "logres = LogisticRegression(random_state=SEED)\n",
    "logres.fit(xtrainE, ytrainE)\n",
    "\n",
    "ypredE = logres.predict(xtestE)\n",
    "_ = resultAnalysisFnx(ytestE, ypredE, target_names=TARGETNAMES)"
   ]
  },
  {
   "cell_type": "code",
   "execution_count": 319,
   "id": "b2936ef3-5fdd-459f-ac0d-8e8d7adc4580",
   "metadata": {},
   "outputs": [],
   "source": [
    "feature_importance = logres.coef_[0]"
   ]
  },
  {
   "cell_type": "code",
   "execution_count": 320,
   "id": "677fa946-7955-4e9a-bb0b-e5b00c953a77",
   "metadata": {},
   "outputs": [
    {
     "data": {
      "image/png": "[encoded data removed]",
      "text/plain": [
       "<Figure size 1200x400 with 2 Axes>"
      ]
     },
     "metadata": {},
     "output_type": "display_data"
    }
   ],
   "source": [
    "fig, ax = plt.subplots(nrows=1,ncols=2, figsize=(12,4), sharey=False)\n",
    "sns.histplot(data=odf_temp['logresFeaImp'], binwidth=0.01, ax=ax[0])\n",
    "sns.boxplot(data=odf_temp['logresFeaImp'], orient='h', showfliers=True, ax=ax[1])\n",
    "ax[0].set_title('Distribution of feature importances.')\n",
    "ax[1].set_title('Boxplot of feature importances.')\n",
    "plt.tight_layout()\n",
    "plt.show()"
   ]
  },
  {
   "cell_type": "code",
   "execution_count": null,
   "id": "b8f08816-4778-4265-997c-d1f16abaab42",
   "metadata": {},
   "outputs": [],
   "source": []
  },
  {
   "cell_type": "markdown",
   "id": "dafecbf8-3f46-47a4-ae08-07440f5a6d8d",
   "metadata": {},
   "source": [
    "### LogRes Regulatization"
   ]
  },
  {
   "cell_type": "code",
   "execution_count": 321,
   "id": "9b7d4f00-0b09-43b3-85f5-ce8ba2445036",
   "metadata": {},
   "outputs": [
    {
     "name": "stdout",
     "output_type": "stream",
     "text": [
      "Data Shape: (244, 6835) : (105, 6835) : (244,) : (105,)\n"
     ]
    },
    {
     "name": "stderr",
     "output_type": "stream",
     "text": [
      "100%|█████████████████████████████████████████| 150/150 [03:53<00:00,  1.56s/it]"
     ]
    },
    {
     "name": "stdout",
     "output_type": "stream",
     "text": [
      "CPU times: user 5min 57s, sys: 2min 24s, total: 8min 22s\n",
      "Wall time: 3min 54s\n"
     ]
    },
    {
     "name": "stderr",
     "output_type": "stream",
     "text": [
      "\n"
     ]
    }
   ],
   "source": [
    "%%time\n",
    "acc_, f1_ = [],[]\n",
    "xtrain, xtest, ytrain, ytest, _ = genDataFnx(scale='standard')\n",
    "RANGE = np.arange(0.001,1.5,0.01)\n",
    "for c_ in tqdm(RANGE):\n",
    "    logresEN = LogisticRegression(random_state=SEED, penalty='elasticnet', C=c_, solver='saga', l1_ratio=0.5)\n",
    "    logresEN.fit(xtrain, ytrain)\n",
    "    \n",
    "    ypred = logresEN.predict(xtest)\n",
    "    \n",
    "    rep_ = classification_report(ytest,ypred,output_dict=True, zero_division=0)\n",
    "    acc_.append(rep_['accuracy'])\n",
    "    f1_.append(rep_['macro avg']['f1-score'])\n",
    "    \n",
    "    "
   ]
  },
  {
   "cell_type": "code",
   "execution_count": 323,
   "id": "ec366fac-505b-4885-aea3-5c1ad7340c05",
   "metadata": {},
   "outputs": [
    {
     "data": {
      "image/png": "[encoded data removed]",
      "text/plain": [
       "<Figure size 800x500 with 1 Axes>"
      ]
     },
     "metadata": {},
     "output_type": "display_data"
    }
   ],
   "source": [
    "plt.figure(figsize=(8,5), dpi = 100)\n",
    "plt.plot(RANGE, acc_, '.--', label='Accuracy')\n",
    "plt.plot(RANGE, f1_, '.-.', label='F1')\n",
    "plt.legend()\n",
    "plt.title(\"Accuracy, F1 v/s ElacticNet Penalty\")\n",
    "plt.xlabel(\"Penalty\")\n",
    "plt.ylabel(\"Accuracy, F1\")\n",
    "plt.show()"
   ]
  },
  {
   "cell_type": "code",
   "execution_count": null,
   "id": "81284d98-7b03-4ed6-be48-2c51880e794d",
   "metadata": {},
   "outputs": [],
   "source": []
  },
  {
   "cell_type": "markdown",
   "id": "d90fa625-3adb-40d6-9c4f-349e9e9571f9",
   "metadata": {},
   "source": [
    "## Support Vector Machines"
   ]
  },
  {
   "cell_type": "code",
   "execution_count": 324,
   "id": "52d68d6c-3510-44db-9c2e-aecfbc8e1b1a",
   "metadata": {},
   "outputs": [],
   "source": [
    "from sklearn.svm import SVC"
   ]
  },
  {
   "cell_type": "code",
   "execution_count": 325,
   "id": "f1c4d796-3e21-4aac-ab02-cd5dc41d1630",
   "metadata": {},
   "outputs": [
    {
     "name": "stdout",
     "output_type": "stream",
     "text": [
      "Data Shape: (244, 6835) : (105, 6835) : (244,) : (105,)\n",
      "CPU times: user 395 ms, sys: 30.8 ms, total: 426 ms\n",
      "Wall time: 478 ms\n"
     ]
    }
   ],
   "source": [
    "%%time\n",
    "xtrain, xtest, ytrain, ytest, _ = genDataFnx(scale='standard')\n",
    "svm = SVC(random_state=SEED)\n",
    "\n",
    "svm.fit(xtrain, ytrain)\n",
    "\n",
    "ypred = svm.predict(xtest)"
   ]
  },
  {
   "cell_type": "code",
   "execution_count": 326,
   "id": "3f88246a-762a-43c1-8559-03e849d0d9a5",
   "metadata": {},
   "outputs": [
    {
     "name": "stdout",
     "output_type": "stream",
     "text": [
      "              precision    recall  f1-score   support\n",
      "\n",
      "         low       0.44      0.07      0.12        57\n",
      "        high       0.45      0.90      0.60        48\n",
      "\n",
      "    accuracy                           0.45       105\n",
      "   macro avg       0.45      0.48      0.36       105\n",
      "weighted avg       0.45      0.45      0.34       105\n",
      "\n"
     ]
    },
    {
     "data": {
      "image/png": "[encoded data removed]",
      "text/plain": [
       "<Figure size 400x300 with 1 Axes>"
      ]
     },
     "metadata": {},
     "output_type": "display_data"
    }
   ],
   "source": [
    "_ = resultAnalysisFnx(ytest, ypred, target_names=TARGETNAMES)"
   ]
  },
  {
   "cell_type": "markdown",
   "id": "be3e2525-14c4-4dd1-b501-0a6c93cf6ffd",
   "metadata": {},
   "source": [
    "### KFold CV"
   ]
  },
  {
   "cell_type": "code",
   "execution_count": 327,
   "id": "c85c695e-e53e-46e5-9518-e9ee9f1c1fe3",
   "metadata": {},
   "outputs": [
    {
     "name": "stdout",
     "output_type": "stream",
     "text": [
      "Average 0.65% accuracy with a standard deviation of 0.04 for 10 folds.\n"
     ]
    }
   ],
   "source": [
    "xdata, ydata = genDataFnx(test_size=None)\n",
    "svmK = SVC()\n",
    "\n",
    "CV = 10\n",
    "scores = cross_val_score(svmK, xdata, ydata, cv=5, scoring='f1')\n",
    "print(f\"Average {scores.mean():.2f}% accuracy with a standard deviation of {scores.std():.2f} for {CV} folds.\")"
   ]
  },
  {
   "cell_type": "code",
   "execution_count": null,
   "id": "a387367f-947d-439b-825a-d3926b5374e7",
   "metadata": {},
   "outputs": [],
   "source": []
  },
  {
   "cell_type": "code",
   "execution_count": null,
   "id": "774b8c94-d0b4-4b6d-ba0c-712a39872a97",
   "metadata": {},
   "outputs": [],
   "source": []
  },
  {
   "cell_type": "code",
   "execution_count": null,
   "id": "f8ec60f2-b6b7-4a6b-abef-a28b7360c7cd",
   "metadata": {},
   "outputs": [],
   "source": []
  },
  {
   "cell_type": "markdown",
   "id": "38fd0388-058b-43c1-a245-9d903d6173b0",
   "metadata": {},
   "source": [
    "## Decision Tree"
   ]
  },
  {
   "cell_type": "code",
   "execution_count": 328,
   "id": "d973a20c-7e51-4995-b01f-27a8ed01d884",
   "metadata": {},
   "outputs": [],
   "source": [
    "from sklearn.tree import DecisionTreeClassifier"
   ]
  },
  {
   "cell_type": "code",
   "execution_count": 329,
   "id": "da9a3103-7184-4d97-9d53-74262665aec6",
   "metadata": {},
   "outputs": [
    {
     "name": "stdout",
     "output_type": "stream",
     "text": [
      "Data Shape: (244, 6835) : (105, 6835) : (244,) : (105,)\n",
      "              precision    recall  f1-score   support\n",
      "\n",
      "         low       0.65      0.54      0.59        57\n",
      "        high       0.54      0.65      0.59        48\n",
      "\n",
      "    accuracy                           0.59       105\n",
      "   macro avg       0.59      0.59      0.59       105\n",
      "weighted avg       0.60      0.59      0.59       105\n",
      "\n"
     ]
    },
    {
     "data": {
      "image/png": "[encoded data removed]",
      "text/plain": [
       "<Figure size 400x300 with 1 Axes>"
      ]
     },
     "metadata": {},
     "output_type": "display_data"
    },
    {
     "name": "stdout",
     "output_type": "stream",
     "text": [
      "CPU times: user 405 ms, sys: 16 ms, total: 421 ms\n",
      "Wall time: 392 ms\n"
     ]
    }
   ],
   "source": [
    "%%time\n",
    "xtrain, xtest, ytrain, ytest, _ = genDataFnx(scale='standard')\n",
    "dt = DecisionTreeClassifier()\n",
    "\n",
    "dt.fit(xtrain, ytrain)\n",
    "ypred = dt.predict(xtest)\n",
    "\n",
    "_ = resultAnalysisFnx(ytest, ypred, target_names=TARGETNAMES)"
   ]
  },
  {
   "cell_type": "markdown",
   "id": "943217c0-c5fb-4041-9a67-0f7eae81bf75",
   "metadata": {},
   "source": [
    "### Feature Importance\n"
   ]
  },
  {
   "cell_type": "code",
   "execution_count": 330,
   "id": "3477c999-8280-4d22-89b8-0b3eaa4e097b",
   "metadata": {},
   "outputs": [],
   "source": [
    "feature_importance = dt.feature_importances_"
   ]
  },
  {
   "cell_type": "code",
   "execution_count": 331,
   "id": "d32cab16-67f1-4322-9c36-5b2a1476611f",
   "metadata": {},
   "outputs": [
    {
     "name": "stdout",
     "output_type": "stream",
     "text": [
      "35\n"
     ]
    }
   ],
   "source": [
    "feaimpCols = []\n",
    "for fi, col in zip(feature_importance, mp_df.columns):\n",
    "    if fi != 0:\n",
    "        # print(f\"Feature Importance of {col} : {fi}\")\n",
    "        feaimpCols.append(col)\n",
    "print(len(feaimpCols))"
   ]
  },
  {
   "cell_type": "code",
   "execution_count": 332,
   "id": "e9ed8159-d3ea-43d9-9aad-0081fac410af",
   "metadata": {},
   "outputs": [
    {
     "name": "stdout",
     "output_type": "stream",
     "text": [
      "Data Shape: (244, 35) : (105, 35) : (244,) : (105,)\n",
      "              precision    recall  f1-score   support\n",
      "\n",
      "         low       0.63      0.51      0.56        57\n",
      "        high       0.53      0.65      0.58        48\n",
      "\n",
      "    accuracy                           0.57       105\n",
      "   macro avg       0.58      0.58      0.57       105\n",
      "weighted avg       0.58      0.57      0.57       105\n",
      "\n"
     ]
    },
    {
     "data": {
      "image/png": "[encoded data removed]",
      "text/plain": [
       "<Figure size 400x300 with 1 Axes>"
      ]
     },
     "metadata": {},
     "output_type": "display_data"
    }
   ],
   "source": [
    "xtrainE, xtestE, ytrainE, ytestE, _ = genDataFnx(columns=feaimpCols, scale='standard')\n",
    "dt = DecisionTreeClassifier()\n",
    "\n",
    "dt.fit(xtrainE, ytrainE)\n",
    "ypredE = dt.predict(xtestE)\n",
    "\n",
    "_ = resultAnalysisFnx(ytestE, ypredE, target_names=TARGETNAMES)"
   ]
  },
  {
   "cell_type": "code",
   "execution_count": null,
   "id": "59659021-3f18-4a87-971e-38a57765f0d0",
   "metadata": {},
   "outputs": [],
   "source": []
  },
  {
   "cell_type": "markdown",
   "id": "92362aeb-ed64-4c86-9090-68294bea5a70",
   "metadata": {},
   "source": [
    "### KFold CV"
   ]
  },
  {
   "cell_type": "code",
   "execution_count": 333,
   "id": "d7f6d32e-9dd9-44ca-a665-3a94eed48a91",
   "metadata": {},
   "outputs": [
    {
     "name": "stdout",
     "output_type": "stream",
     "text": [
      "Average 0.49% accuracy with a standard deviation of 0.10 for 10 folds.\n"
     ]
    }
   ],
   "source": [
    "xdata, ydata = genDataFnx(scale=None, test_size=None)\n",
    "\n",
    "dtK = DecisionTreeClassifier()\n",
    "\n",
    "CV = 10\n",
    "scores = cross_val_score(dtK, xdata, ydata, cv=CV, scoring='f1')\n",
    "print(f\"Average {scores.mean():.2f}% accuracy with a standard deviation of {scores.std():.2f} for {CV} folds.\")"
   ]
  },
  {
   "cell_type": "code",
   "execution_count": null,
   "id": "32104f24-1aaa-41d5-956f-f9229f94b5a9",
   "metadata": {},
   "outputs": [],
   "source": []
  },
  {
   "cell_type": "markdown",
   "id": "7b77499d-861c-409f-a92d-ff27a1b91bf1",
   "metadata": {},
   "source": [
    "### DT - Level Wise"
   ]
  },
  {
   "cell_type": "code",
   "execution_count": 334,
   "id": "e8d38cb0-4005-4d94-a6b5-ef1ae4779117",
   "metadata": {},
   "outputs": [
    {
     "name": "stdout",
     "output_type": "stream",
     "text": [
      "Data Shape: (244, 539) : (105, 539) : (244,) : (105,)\n",
      "Number of Columns at level1: 539 features with acc of 51.43%\n",
      "Data Shape: (244, 539) : (105, 539) : (244,) : (105,)\n",
      "Number of Columns at level2: 539 features with acc of 55.24%\n",
      "Data Shape: (244, 11) : (105, 11) : (244,) : (105,)\n",
      "Number of Columns at level3: 11 features with acc of 48.57%\n",
      "Data Shape: (244, 5345) : (105, 5345) : (244,) : (105,)\n",
      "Number of Columns at level4: 5345 features with acc of 54.29%\n",
      "Data Shape: (244, 305) : (105, 305) : (244,) : (105,)\n",
      "Number of Columns at level5: 305 features with acc of 48.57%\n",
      "Data Shape: (244, 96) : (105, 96) : (244,) : (105,)\n",
      "Number of Columns at level6: 96 features with acc of 48.57%\n"
     ]
    }
   ],
   "source": [
    "for i in range(1, outlierDf['level'].max()+1):\n",
    "    colExp = outlierDf[outlierDf['level']==i]['feature'].values.tolist()\n",
    "    \n",
    "    xtrainE, xtestE, ytrainE, ytestE, _ = genDataFnx(columns=colExp, scale='standard')\n",
    "    \n",
    "    dt = DecisionTreeClassifier()\n",
    "    dt.fit(xtrainE, ytrainE)\n",
    "    \n",
    "    ypredE = dt.predict(xtestE)\n",
    "    tt = classification_report(ytestE,ypredE,output_dict=True, zero_division=0)\n",
    "    print(f\"Number of Columns at level{i}: {len(colExp)} features with acc of {tt['accuracy']*100:.2f}%\")"
   ]
  },
  {
   "cell_type": "markdown",
   "id": "1fd2415d-e944-4697-b7a3-e4f248b0d328",
   "metadata": {},
   "source": [
    "### Grid Search"
   ]
  },
  {
   "cell_type": "code",
   "execution_count": null,
   "id": "9e26ffd1-2d73-4e13-b7f4-c82a533ca412",
   "metadata": {},
   "outputs": [
    {
     "name": "stdout",
     "output_type": "stream",
     "text": [
      "Data Shape: (244, 6835) : (105, 6835) : (244,) : (105,)\n"
     ]
    }
   ],
   "source": [
    "%%time\n",
    "xtrain, xtest, ytrain, ytest, _ = genDataFnx(scale='standard')\n",
    "params = {\n",
    "    'criterion': ['gini', 'entropy'],\n",
    "    'splitter': ['best', 'random'],\n",
    "    'max_depth': [None, 10, 20, 30, 40, 50, 100],\n",
    "    'min_samples_split': [2, 5, 10, 20],\n",
    "    'min_samples_leaf': [1, 2, 4, 10, 20],\n",
    "    'max_features': ['auto', 'sqrt', 'log2', None],\n",
    "    'max_leaf_nodes': [None, 10, 20, 50, 100],\n",
    "    'min_impurity_decrease': [0.0, 0.01, 0.1],\n",
    "    'class_weight': [None, 'balanced'],\n",
    "    'random_state': [42]\n",
    "}\n",
    "\n",
    "dtGS = DecisionTreeClassifier()\n",
    "\n",
    "clfdt = GridSearchCV(dtGS, params, n_jobs=-1)\n",
    "\n",
    "clfdt.fit(xtrain, ytrain)"
   ]
  },
  {
   "cell_type": "code",
   "execution_count": null,
   "id": "a444c338-8416-4355-b975-053e2e45b11e",
   "metadata": {},
   "outputs": [],
   "source": [
    "# pd.DataFrame(clf.cv_results_)\n",
    "clfdt.best_score_"
   ]
  },
  {
   "cell_type": "code",
   "execution_count": null,
   "id": "c5036479-6ca9-4960-8390-6dd1b3e600ee",
   "metadata": {},
   "outputs": [],
   "source": [
    "clfdt.best_params_"
   ]
  },
  {
   "cell_type": "code",
   "execution_count": null,
   "id": "9caaf0ad-b715-4edc-9809-29b272f48699",
   "metadata": {},
   "outputs": [],
   "source": []
  },
  {
   "cell_type": "markdown",
   "id": "10357a66-b22a-4a1f-ac8d-c62f402b285e",
   "metadata": {},
   "source": [
    "## Random Forest"
   ]
  },
  {
   "cell_type": "code",
   "execution_count": null,
   "id": "a02a518a-acbb-457e-ad11-437a2b8e62e1",
   "metadata": {},
   "outputs": [],
   "source": [
    "from sklearn.ensemble import RandomForestClassifier"
   ]
  },
  {
   "cell_type": "code",
   "execution_count": null,
   "id": "91931932-6207-4a6b-ab9d-34ee9e1e6cdf",
   "metadata": {},
   "outputs": [],
   "source": [
    "%%time\n",
    "xtrain, xtest, ytrain, ytest, _ = genDataFnx(scale=None)\n",
    "rf = RandomForestClassifier(max_depth=3)\n",
    "\n",
    "rf.fit(xtrain, ytrain)\n",
    "ypred = rf.predict(xtest)\n",
    "\n",
    "_ = resultAnalysisFnx(ytest, ypred, target_names=TARGETNAMES)"
   ]
  },
  {
   "cell_type": "markdown",
   "id": "9c29d7da-97bf-487d-9922-f738bfe234fc",
   "metadata": {},
   "source": [
    "### RF - Level Wise"
   ]
  },
  {
   "cell_type": "code",
   "execution_count": null,
   "id": "721a670e-bf6f-432f-b69d-f64123de6da8",
   "metadata": {},
   "outputs": [],
   "source": [
    "for i in range(1, outlierDf['level'].max()+1):\n",
    "    colExp = outlierDf[outlierDf['level']==i]['feature'].values.tolist()\n",
    "    \n",
    "    xtrainE, xtestE, ytrainE, ytestE, _ = genDataFnx(columns=colExp, scale='standard')\n",
    "    \n",
    "    rf = DecisionTreeClassifier()\n",
    "    rf.fit(xtrainE, ytrainE)\n",
    "    \n",
    "    ypredE = rf.predict(xtestE)\n",
    "    tt = classification_report(ytestE,ypredE,output_dict=True, zero_division=0)\n",
    "    print(f\"Number of Columns at level{i}: {len(colExp)} features with acc of {tt['accuracy']*100:.2f}%\")"
   ]
  },
  {
   "cell_type": "markdown",
   "id": "1e50e18b-b858-41cc-bab4-551e03f58310",
   "metadata": {},
   "source": [
    "### Grid Search"
   ]
  },
  {
   "cell_type": "code",
   "execution_count": 176,
   "id": "60212be0-6057-4eaa-88ae-d495a954af2d",
   "metadata": {},
   "outputs": [
    {
     "name": "stdout",
     "output_type": "stream",
     "text": [
      "Data Shape: (244, 1566) : (105, 1566) : (244,) : (105,)\n",
      "CPU times: user 571 ms, sys: 556 ms, total: 1.13 s\n",
      "Wall time: 1.13 s\n"
     ]
    }
   ],
   "source": [
    "%%time\n",
    "params = {\n",
    "    'n_estimators': [50, 100, 200, 500, 1000],\n",
    "    'max_features': ['auto', 'sqrt', 'log2', None],\n",
    "    'max_depth': [None, 10, 20, 30, 40, 50, 100],\n",
    "    'min_samples_split': [2, 5, 10, 20],\n",
    "    'min_samples_leaf': [1, 2, 4, 10, 20],\n",
    "    'bootstrap': [True, False],\n",
    "    'criterion': ['gini', 'entropy'],\n",
    "    'oob_score': [True, False],\n",
    "    'warm_start': [True, False],\n",
    "    'class_weight': [None, 'balanced'],\n",
    "    'random_state': [42],\n",
    "    'max_leaf_nodes': [None, 10, 20, 50, 100],\n",
    "    'n_jobs': [-1],\n",
    "    'min_impurity_decrease': [0.0, 0.01, 0.1],\n",
    "    'max_samples': [None, 0.5, 0.8]\n",
    "}\n",
    "\n",
    "\n",
    "xtrain, xtest, ytrain, ytest, _ = genDataFnx(scale='standard')\n",
    "rfGS = RandomForestClassifier()\n",
    "\n",
    "clfrf = GridSearchCV(rfGS, params, n_jobs=-1)\n",
    "\n",
    "# clfrf.fit(xtrain, ytrain)"
   ]
  },
  {
   "cell_type": "code",
   "execution_count": 175,
   "id": "c7b519b7-ae21-4e40-8b56-b04510face0d",
   "metadata": {},
   "outputs": [
    {
     "ename": "AttributeError",
     "evalue": "'GridSearchCV' object has no attribute 'best_score_'",
     "output_type": "error",
     "traceback": [
      "\u001b[0;31m---------------------------------------------------------------------------\u001b[0m",
      "\u001b[0;31mAttributeError\u001b[0m                            Traceback (most recent call last)",
      "Cell \u001b[0;32mIn[175], line 1\u001b[0m\n\u001b[0;32m----> 1\u001b[0m \u001b[43mclfrf\u001b[49m\u001b[38;5;241;43m.\u001b[39;49m\u001b[43mbest_score_\u001b[49m\n",
      "\u001b[0;31mAttributeError\u001b[0m: 'GridSearchCV' object has no attribute 'best_score_'"
     ]
    }
   ],
   "source": [
    "clfrf.best_score_"
   ]
  },
  {
   "cell_type": "code",
   "execution_count": null,
   "id": "6e291fc9-ea73-4882-965f-fb96b5661fd0",
   "metadata": {},
   "outputs": [],
   "source": []
  },
  {
   "cell_type": "markdown",
   "id": "a5a994f0-c9af-4104-a097-5312c6c6d3fe",
   "metadata": {},
   "source": [
    "### Feature Importances"
   ]
  },
  {
   "cell_type": "code",
   "execution_count": null,
   "id": "78364111-328d-4b3e-b024-441332a552d3",
   "metadata": {},
   "outputs": [],
   "source": [
    "feature_importance = rf.feature_importances_\n",
    "\n",
    "feaimpCols = []\n",
    "for fi, col in zip(feature_importance, mp_df.columns):\n",
    "    if fi != 0:\n",
    "        # print(f\"Feature Importance of {col} : {fi}\")\n",
    "        feaimpCols.append(col)\n",
    "print(len(feaimpCols))"
   ]
  },
  {
   "cell_type": "code",
   "execution_count": null,
   "id": "6f58af86-6181-4813-ae83-73dbce924fa9",
   "metadata": {},
   "outputs": [],
   "source": []
  },
  {
   "cell_type": "code",
   "execution_count": null,
   "id": "0c7784d2-490e-461a-bc5d-175948f7b6cd",
   "metadata": {},
   "outputs": [],
   "source": []
  },
  {
   "cell_type": "code",
   "execution_count": null,
   "id": "547baeb2-3012-4dda-ad58-9b5c16982038",
   "metadata": {},
   "outputs": [],
   "source": []
  },
  {
   "cell_type": "code",
   "execution_count": null,
   "id": "2b7b6218-0dc5-4d07-886b-13f8f47d15d2",
   "metadata": {},
   "outputs": [],
   "source": []
  },
  {
   "cell_type": "code",
   "execution_count": null,
   "id": "53ec600a-3aa2-4ef4-ba02-b533f1aa5384",
   "metadata": {},
   "outputs": [],
   "source": []
  },
  {
   "cell_type": "code",
   "execution_count": null,
   "id": "010733b1-da70-4cfd-acc7-7331509c6e18",
   "metadata": {},
   "outputs": [],
   "source": []
  },
  {
   "cell_type": "code",
   "execution_count": null,
   "id": "f63f6211-a397-4a20-b242-95db5e41a0cb",
   "metadata": {},
   "outputs": [],
   "source": []
  }
 ],
 "metadata": {
  "kernelspec": {
   "display_name": "Python 3 (ipykernel)",
   "language": "python",
   "name": "python3"
  },
  "language_info": {
   "codemirror_mode": {
    "name": "ipython",
    "version": 3
   },
   "file_extension": ".py",
   "mimetype": "text/x-python",
   "name": "python",
   "nbconvert_exporter": "python",
   "pygments_lexer": "ipython3",
   "version": "3.11.11"
  }
 },
 "nbformat": 4,
 "nbformat_minor": 5
}
